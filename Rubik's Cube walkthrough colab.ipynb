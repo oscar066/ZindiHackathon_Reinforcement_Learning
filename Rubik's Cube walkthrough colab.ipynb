{
  "cells": [
    {
      "cell_type": "markdown",
      "id": "c11a4cbb",
      "metadata": {
        "id": "c11a4cbb"
      },
      "source": [
        "# Introduction to training on the Rubik's Cube \n",
        "<a href=\"https://githubtocolab.com/adsodemelk/umoja23/blob/main/Rubik's%20Cube%20walkthrough%20colab.ipynb\" target=\"_parent\"><img src=\"https://colab.research.google.com/assets/colab-badge.svg\" alt=\"Open in Colab\"/></a>"
      ]
    },
    {
      "cell_type": "markdown",
      "id": "a68bc156",
      "metadata": {
        "id": "a68bc156"
      },
      "source": [
        "This notebook will walk through some examples of how to run training with the model as set up currently, as well as how to make modifications and explore your own solutions."
      ]
    },
    {
      "cell_type": "code",
      "execution_count": 1,
      "id": "c7896bfe",
      "metadata": {
        "id": "c7896bfe",
        "outputId": "622c9e48-a4a8-447a-a584-c48a6ff7d17f",
        "colab": {
          "base_uri": "https://localhost:8080/"
        }
      },
      "outputs": [
        {
          "output_type": "stream",
          "name": "stdout",
          "text": [
            "Copying gs://umoja23/README.md...\n",
            "/ [0 files][    0.0 B/  315.0 B]                                                \r/ [1 files][  315.0 B/  315.0 B]                                                \rCopying gs://umoja23/Rubik's Cube walkthrough colab.ipynb...\n",
            "/ [1 files][  315.0 B/260.2 KiB]                                                \r/ [2 files][260.2 KiB/260.2 KiB]                                                \rCopying gs://umoja23/Rubik's Cube walkthrough.ipynb...\n",
            "/ [2 files][260.2 KiB/518.9 KiB]                                                \r/ [3 files][518.9 KiB/518.9 KiB]                                                \rCopying gs://umoja23/cube.gif...\n",
            "/ [3 files][518.9 KiB/629.7 KiB]                                                \r/ [4 files][629.7 KiB/629.7 KiB]                                                \r\n",
            "==> NOTE: You are performing a sequence of gsutil operations that may\n",
            "run significantly faster if you instead use gsutil -m cp ... Please\n",
            "see the -m section under \"gsutil help options\" for further information\n",
            "about when gsutil -m can be advantageous.\n",
            "\n",
            "Copying gs://umoja23/pyproject.toml...\n",
            "Copying gs://umoja23/rubik_env.png...\n",
            "Copying gs://umoja23/setup.cfg...\n",
            "Copying gs://umoja23/setup.py...\n",
            "Copying gs://umoja23/evaluation/generate_rollout.py...\n",
            "Copying gs://umoja23/evaluation/seeds.py...\n",
            "Copying gs://umoja23/evaluation/validate_rollout.py...\n",
            "Copying gs://umoja23/requirements/requirements-dev.txt...\n",
            "Copying gs://umoja23/requirements/requirements.txt...\n",
            "Copying gs://umoja23/rubiks_cube/.DS_Store...\n",
            "Copying gs://umoja23/rubiks_cube/conftest.py...\n",
            "Copying gs://umoja23/rubiks_cube/constants.py...\n",
            "Copying gs://umoja23/rubiks_cube/env.py...\n",
            "Copying gs://umoja23/rubiks_cube/flat_action_wrapper.py...\n",
            "Copying gs://umoja23/rubiks_cube/reward_functions.py...\n",
            "Copying gs://umoja23/rubiks_cube/test_env.py...\n",
            "Copying gs://umoja23/rubiks_cube/test_utils.py...\n",
            "Copying gs://umoja23/rubiks_cube/utils.py...\n",
            "Copying gs://umoja23/training/.DS_Store...\n",
            "Copying gs://umoja23/training/PPO_models.py...\n",
            "Copying gs://umoja23/training/configs.py...\n",
            "Copying gs://umoja23/training/example.py...\n",
            "Copying gs://umoja23/training/registry.py...\n",
            "\\ [27 files][793.9 KiB/793.9 KiB]                                               \n",
            "==> NOTE: You are performing a sequence of gsutil operations that may\n",
            "run significantly faster if you instead use gsutil -m cp ... Please\n",
            "see the -m section under \"gsutil help options\" for further information\n",
            "about when gsutil -m can be advantageous.\n",
            "\n",
            "\n",
            "Operation completed over 27 objects/793.9 KiB.                                   \n"
          ]
        }
      ],
      "source": [
        "import os\n",
        "import sys\n",
        "#Download the necesary files from a public bucket\n",
        "!gsutil cp -r gs://umoja23/ ."
      ]
    },
    {
      "cell_type": "code",
      "execution_count": null,
      "id": "48668162",
      "metadata": {
        "id": "48668162"
      },
      "outputs": [],
      "source": [
        "# Istall requirements\n",
        "%pip install -r umoja23/requirements/requirements.txt"
      ]
    },
    {
      "cell_type": "markdown",
      "id": "f848219e",
      "metadata": {
        "id": "f848219e"
      },
      "source": [
        "## Imports\n",
        "Here we will be importing the moduls we are using. \n",
        "\n",
        "\n",
        "**Note** : If you face issues importing numpy. Try restarting the runtime (go to Runtime -> Restart runtime) "
      ]
    },
    {
      "cell_type": "code",
      "execution_count": 1,
      "id": "fd5e7f6c",
      "metadata": {
        "id": "fd5e7f6c",
        "colab": {
          "base_uri": "https://localhost:8080/"
        },
        "outputId": "d972645a-6a07-4d3b-e663-1fbf1a4a288c"
      },
      "outputs": [
        {
          "output_type": "stream",
          "name": "stderr",
          "text": [
            "\n"
          ]
        }
      ],
      "source": [
        "# Add installed package to the path\n",
        "import os, sys \n",
        "sys.path.append(os.path.abspath(\"./umoja23\"))\n",
        "\n",
        "\n",
        "# Environment\n",
        "from rubiks_cube.env import RubiksCube, create_flattened_env\n",
        "import gym\n",
        "import matplotlib.pyplot as plt\n",
        "\n",
        "# Training\n",
        "\n",
        "from umoja23.training.example import main_training\n",
        "from umoja23.training.configs import CUSTOM_MODEL_CONFIG\n",
        "\n",
        "# Evaluation\n",
        "\n",
        "from ray.rllib.algorithms import AlgorithmConfig\n",
        "from ray.rllib.algorithms.ppo import PPO\n",
        "from umoja23.training.configs import get_config, MEDIUM_ENV_CONFIG\n",
        "from umoja23.training.registry import register, _ray\n",
        "\n",
        "from umoja23.evaluation.seeds import PUBLIC_SEEDS\n",
        "from umoja23.evaluation.generate_rollout import main_rollout\n",
        "from evaluation.validate_rollout import main_validation\n",
        "\n",
        "%matplotlib inline"
      ]
    },
    {
      "cell_type": "markdown",
      "id": "acf7f6ee",
      "metadata": {
        "id": "acf7f6ee"
      },
      "source": [
        "## Introduction to the environment"
      ]
    },
    {
      "cell_type": "markdown",
      "id": "d2b16bd8",
      "metadata": {
        "id": "d2b16bd8"
      },
      "source": [
        "The Rubik's Cube is likely a very familiar puzzle to everyone! In case you would like to read more about its history or some of the maths and mechanics behind it, the Wikipedia page is a good starting point: https://en.wikipedia.org/wiki/Rubik%27s_Cube\n",
        "\n",
        "We present here an implementation in python (numpy) that allows you to explore how reinforcement learning can be applied to the problem.\n",
        "\n",
        "First let's instantiate and walk through some of the basic mechanics of the environment. Feel free to consult rubiks_cube/env.py to see details of the implementation."
      ]
    },
    {
      "cell_type": "code",
      "execution_count": 2,
      "id": "742654bb",
      "metadata": {
        "id": "742654bb"
      },
      "outputs": [],
      "source": [
        "env = RubiksCube(step_limit=10, reward_function_type=\"sparse\", num_scrambles_on_reset=8)\n",
        "\n",
        "assert isinstance(env, gym.Env)"
      ]
    },
    {
      "cell_type": "markdown",
      "id": "7d21532b",
      "metadata": {
        "id": "7d21532b"
      },
      "source": [
        "The observation space consists of\n",
        "\n",
        "1: the cube, with ids indicating the colour each sticker. There are 6 faces, each containing 3x3 stickers;\n",
        "\n",
        "2: the step_count, which starts at 0 and increments by 1 on every turn taken, until the environment step_limit is hit (at which point the episode must end).\n",
        "\n",
        "The action space consists of a face to turn, and an amount. Faces can be 6 possible values, and amounts can be 3, corresponding to (in order) clockwise, anti-clockwise, and a half turn.\n",
        "\n",
        "Convention:\n",
        "\n",
        "0 = up face\n",
        "\n",
        "1 = front face\n",
        "\n",
        "2 = right face\n",
        "\n",
        "3 = back face\n",
        "\n",
        "4 = left face\n",
        "\n",
        "5 = down face\n",
        "\n",
        "All read in reading order when looking directly at face\n",
        "\n",
        "To look directly at the faces:\n",
        "\n",
        "UP: LEFT face on the left and BACK face pointing up\n",
        "\n",
        "FRONT: LEFT face on the left and UP face pointing up\n",
        "\n",
        "RIGHT: FRONT face on the left and UP face pointing up\n",
        "\n",
        "BACK: RIGHT face on the left and UP face pointing up\n",
        "\n",
        "LEFT: BACK face on the left and UP face pointing up\n",
        "\n",
        "DOWN: LEFT face on the left and FRONT face pointing up\n",
        "\n",
        "Turn amounts (eg clockwise) are when looking directly at the face."
      ]
    },
    {
      "cell_type": "code",
      "execution_count": 3,
      "id": "3e869aa7",
      "metadata": {
        "id": "3e869aa7",
        "outputId": "33766db3-6205-406f-b028-4a5af42370d2",
        "colab": {
          "base_uri": "https://localhost:8080/"
        }
      },
      "outputs": [
        {
          "output_type": "stream",
          "name": "stdout",
          "text": [
            "Observation space: Dict(cube:Box(0, 5, (6, 3, 3), int8), step_count:Box(0, 10, (1,), int32))\n",
            "Action space: Tuple(Discrete(6), Discrete(3))\n"
          ]
        }
      ],
      "source": [
        "print(f\"Observation space: {env.observation_space}\")\n",
        "print(f\"Action space: {env.action_space}\")"
      ]
    },
    {
      "cell_type": "code",
      "execution_count": 4,
      "id": "4dc30a6a",
      "metadata": {
        "id": "4dc30a6a",
        "outputId": "5505be99-61ad-4217-98e6-487eaaffdfb1",
        "colab": {
          "base_uri": "https://localhost:8080/",
          "height": 426
        }
      },
      "outputs": [
        {
          "output_type": "display_data",
          "data": {
            "text/plain": [
              "<Figure size 432x432 with 6 Axes>"
            ],
            "image/png": "[encoded data removed]"
          },
          "metadata": {}
        }
      ],
      "source": [
        "# Render the environment\n",
        "\n",
        "obs = env.reset()\n",
        "env.render()"
      ]
    },
    {
      "cell_type": "markdown",
      "id": "36a9cede",
      "metadata": {
        "id": "36a9cede"
      },
      "source": [
        "As mentioned, an action consists of specifying a face and an amount to turn it by. We can visualise the impact of an action by using the rendering above."
      ]
    },
    {
      "cell_type": "code",
      "execution_count": 5,
      "id": "e9513d6d",
      "metadata": {
        "id": "e9513d6d",
        "outputId": "4609388c-8711-4926-c82a-a4eec6ff4884",
        "colab": {
          "base_uri": "https://localhost:8080/",
          "height": 426
        }
      },
      "outputs": [
        {
          "output_type": "display_data",
          "data": {
            "text/plain": [
              "<Figure size 432x432 with 6 Axes>"
            ],
            "image/png": "[encoded data removed]"
          },
          "metadata": {}
        }
      ],
      "source": [
        "# Don't scramble the cube so it's easier to understand what's happening\n",
        "env = RubiksCube(step_limit=10, reward_function_type=\"sparse\", num_scrambles_on_reset=0)\n",
        "obs = env.reset()\n",
        "env.render()"
      ]
    },
    {
      "cell_type": "code",
      "execution_count": 6,
      "id": "03791ad4",
      "metadata": {
        "id": "03791ad4",
        "outputId": "daa144f8-83af-4715-85c6-18116f882187",
        "colab": {
          "base_uri": "https://localhost:8080/",
          "height": 426
        }
      },
      "outputs": [
        {
          "output_type": "display_data",
          "data": {
            "text/plain": [
              "<Figure size 432x432 with 6 Axes>"
            ],
            "image/png": "[encoded data removed]"
          },
          "metadata": {}
        }
      ],
      "source": [
        "# Turn the UP face clockwise (by 90 degrees)\n",
        "action = (0, 0)\n",
        "obs, reward, done, info = env.step(action)\n",
        "env.render()"
      ]
    },
    {
      "cell_type": "markdown",
      "id": "2e923adb",
      "metadata": {
        "id": "2e923adb"
      },
      "source": [
        "By default, the reward function is +1 if the cube is solved, otherwise 0. This is specified by passing reward_function_type to the environment constructor. You can implement your own custom reward function if you think that doing so would better incentivise the agent to learn how to solve the cube! However, be aware that the final evaluation will be purely on how often the cube is solved."
      ]
    },
    {
      "cell_type": "code",
      "execution_count": 7,
      "id": "33585280",
      "metadata": {
        "id": "33585280",
        "outputId": "10d4b749-2aa8-4bb1-9b35-d8b30af1ce79",
        "colab": {
          "base_uri": "https://localhost:8080/"
        }
      },
      "outputs": [
        {
          "output_type": "stream",
          "name": "stdout",
          "text": [
            "Reward before solving: 0.0\n",
            "Reward after solving: 1.0\n"
          ]
        }
      ],
      "source": [
        "print(f\"Reward before solving: {reward}\")\n",
        "\n",
        "# Invert the above action\n",
        "action = (0, 1)\n",
        "obs, reward, done, info = env.step(action)\n",
        "print(f\"Reward after solving: {reward}\")"
      ]
    },
    {
      "cell_type": "markdown",
      "id": "cbc561ce",
      "metadata": {
        "id": "cbc561ce"
      },
      "source": [
        "The episode can finish for one of two reasons:\n",
        "\n",
        "1: The cube is solved\n",
        "\n",
        "2: The step limit is hit. In this case, all rewards throughout the episode will be 0"
      ]
    },
    {
      "cell_type": "code",
      "execution_count": 8,
      "id": "19ff7617",
      "metadata": {
        "id": "19ff7617",
        "outputId": "ebe77c65-db63-4bfc-de65-32b6fec72bdc",
        "colab": {
          "base_uri": "https://localhost:8080/"
        }
      },
      "outputs": [
        {
          "output_type": "stream",
          "name": "stdout",
          "text": [
            "Above environment has finished? True\n",
            "New environment has finished? False. Reward obtained=0.0\n",
            "New environment has finished? False. Reward obtained=0.0\n",
            "New environment has finished? False. Reward obtained=0.0\n",
            "New environment has finished? False. Reward obtained=0.0\n",
            "New environment has finished? False. Reward obtained=0.0\n",
            "New environment has finished? False. Reward obtained=0.0\n",
            "New environment has finished? False. Reward obtained=0.0\n",
            "New environment has finished? False. Reward obtained=0.0\n",
            "New environment has finished? False. Reward obtained=0.0\n",
            "New environment has finished? True. Reward obtained=0.0\n"
          ]
        }
      ],
      "source": [
        "print(f\"Above environment has finished? {done}\")\n",
        "\n",
        "env = RubiksCube(step_limit=10, reward_function_type=\"sparse\", num_scrambles_on_reset=100)\n",
        "obs = env.reset()\n",
        "done = False\n",
        "while not done:\n",
        "    # Select a random action\n",
        "    action = env.action_space.sample()\n",
        "    obs, reward, done, info = env.step(action)\n",
        "    print(f\"New environment has finished? {done}. Reward obtained={reward}\")"
      ]
    },
    {
      "cell_type": "markdown",
      "id": "b91a7d94",
      "metadata": {
        "id": "b91a7d94"
      },
      "source": [
        "For some models it might be more helpful to \"flatten\" the action space, meaning to have a single integer between 0 and 17 rather than a tuple of integers. For this purpose you can use the already implemented wrapper. To get this behaviour in models below, you will typically want to set FLATTEN_ACTIONS to True in training/configs.py"
      ]
    },
    {
      "cell_type": "code",
      "execution_count": 9,
      "id": "77359d83",
      "metadata": {
        "id": "77359d83",
        "outputId": "8729689b-bb5b-4295-d63d-d157fba6ee37",
        "colab": {
          "base_uri": "https://localhost:8080/"
        }
      },
      "outputs": [
        {
          "output_type": "stream",
          "name": "stdout",
          "text": [
            "Discrete(18)\n"
          ]
        }
      ],
      "source": [
        "env = create_flattened_env(dict(step_limit=10, reward_function_type=\"sparse\", num_scrambles_on_reset=100))\n",
        "\n",
        "print(env.action_space)"
      ]
    },
    {
      "cell_type": "markdown",
      "id": "848a8883",
      "metadata": {
        "id": "848a8883"
      },
      "source": [
        "Finally, you can combine multiple frames together to create an animation of your Rubik's Cube!"
      ]
    },
    {
      "cell_type": "code",
      "execution_count": 10,
      "id": "695148aa",
      "metadata": {
        "id": "695148aa"
      },
      "outputs": [],
      "source": [
        "env = RubiksCube(step_limit=10, reward_function_type=\"sparse\", num_scrambles_on_reset=100)\n",
        "obs = env.reset()\n",
        "cubes = [obs[\"cube\"].copy()]\n",
        "done = False\n",
        "while not done:\n",
        "    action = env.action_space.sample()\n",
        "    obs, reward, done, info = env.step(action)\n",
        "    cubes.append(obs[\"cube\"].copy())\n",
        "\n",
        "anim = env.animation(cubes)\n",
        "anim.save(\"cube.gif\")"
      ]
    },
    {
      "cell_type": "markdown",
      "id": "4d0e96cc",
      "metadata": {
        "id": "4d0e96cc"
      },
      "source": [
        "## Training"
      ]
    },
    {
      "cell_type": "markdown",
      "id": "3f5e6a34",
      "metadata": {
        "id": "3f5e6a34"
      },
      "source": [
        "The algorithm implemented here is Proximal Policy Optimization (PPO), which is an on-policy reinforcement learning algorithm developed by OpenAI. For more information please consult their page: https://openai.com/research/openai-baselines-ppo. Note that one could equally use other algorithms such as DQN and you encouraged to experiment with this, though it may involve changing other parts of the code such as evaluation/generate_rollout.py.\n",
        "\n",
        "Fundamentally, a PPO agent should implement a policy network and a value network. The policy network maps observations to a parametrisation of the policy that is used to select the next action, whereas the value network maps observations to a single number which is supposed to estimate the expected discounted future reward, and is used to stabilise the training. The model implemented here by default shares most of the parameters between these two networks, though you are encouraged to experiment with different model architectures.\n",
        "\n",
        "To understand the architecture of the model, examine the model class in training/PPO_models.py. By default it will use FactorisedPPOModel, which takes as input the cube and step count from the observation, and produces an encoding of the observation, which will be a fixed size vector of size given by the final entry of dense_layer_dims in the model_config (defined in training.configs.CUSTOM_MODEL_CONFIG). This encoding is projected to a single number for predicting the value. As for the policy, we take advantage of the factorised/conditional structure of the action space to produce first logits for the decision of which face to turn - the model's face_selection_model. Finally, we compute a conditional distribution by concatenating a sampled value of the selected face (encoded as a one-hot) to the encoding and projecting to give logits for the decision of how much to turn the face - the model's cube_movement_amount_selection_model. This model must be used in combination with the FactorisedActionDistribution.\n",
        "\n",
        "Note that if one instead flattens the action space this conditional structure will no longer be present and so one should use a different model like FlatPPOModel, and will not need to specify a custom action distribution (since by default PPO is expecting the model to output logits for a flat action space)."
      ]
    },
    {
      "cell_type": "markdown",
      "id": "1cfe7e3d",
      "metadata": {
        "id": "1cfe7e3d"
      },
      "source": [
        "### Training your first model"
      ]
    },
    {
      "cell_type": "markdown",
      "id": "2e888c0a",
      "metadata": {
        "id": "2e888c0a"
      },
      "source": [
        "The main training script will write a checkpoint (learned model weights and associated metadata) that you will later be able to use to evaluate training on unseen instances.\n",
        "\n",
        "This script can also be run from the command line; the following command will execute the same code as the python in the cell below:\n",
        "\n",
        "python training/example.py --step_limit 10 --reward_function_type sparse --num_scrambles_on_reset 2 --agent_name PPO --num_iterations 2"
      ]
    },
    {
      "cell_type": "code",
      "execution_count": 11,
      "id": "1a95eed7",
      "metadata": {
        "id": "1a95eed7",
        "outputId": "5ca1f62f-96a8-46c6-e577-49fcdd8b4912",
        "colab": {
          "base_uri": "https://localhost:8080/",
          "height": 1000
        }
      },
      "outputs": [
        {
          "output_type": "stream",
          "name": "stderr",
          "text": [
            "2023-03-19 13:01:46,096\tINFO worker.py:1529 -- Started a local Ray instance. View the dashboard at \u001b[1m\u001b[32m127.0.0.1:8265 \u001b[39m\u001b[22m\n"
          ]
        },
        {
          "output_type": "display_data",
          "data": {
            "text/plain": [
              "<IPython.core.display.HTML object>"
            ],
            "text/html": []
          },
          "metadata": {}
        },
        {
          "output_type": "stream",
          "name": "stderr",
          "text": [
            "2023-03-19 13:01:49,390\tINFO algorithm_config.py:2503 -- Your framework setting is 'tf', meaning you are using static-graph mode. Set framework='tf2' to enable eager execution with tf2.x. You may also then want to set eager_tracing=True in order to reach similar execution speed as with static-graph mode.\n",
            "2023-03-19 13:01:49,400\tINFO algorithm_config.py:2503 -- Your framework setting is 'tf', meaning you are using static-graph mode. Set framework='tf2' to enable eager execution with tf2.x. You may also then want to set eager_tracing=True in order to reach similar execution speed as with static-graph mode.\n",
            "2023-03-19 13:01:49,526\tWARNING worker.py:837 -- `ray.get_gpu_ids()` will always return the empty list when called from the driver. This is because Ray does not manage GPU allocations to the driver process.\n",
            ":task_name:bundle_reservation_check_func\n"
          ]
        },
        {
          "output_type": "stream",
          "name": "stdout",
          "text": [
            ":task_name:bundle_reservation_check_func\n"
          ]
        },
        {
          "output_type": "stream",
          "name": "stderr",
          "text": [
            ":actor_name:PPO\n",
            "2023-03-19 13:01:49,777\tWARNING algorithm_config.py:488 -- Cannot create PPOConfig from given `config_dict`! Property __stdout_file__ not supported.\n",
            "2023-03-19 13:01:49,784\tINFO algorithm_config.py:2503 -- Your framework setting is 'tf', meaning you are using static-graph mode. Set framework='tf2' to enable eager execution with tf2.x. You may also then want to set eager_tracing=True in order to reach similar execution speed as with static-graph mode.\n",
            "2023-03-19 13:01:49,800\tINFO algorithm.py:501 -- Current log_level is WARN. For more information, set 'log_level': 'INFO' / 'DEBUG' or use the -v and -vv flags.\n"
          ]
        },
        {
          "output_type": "stream",
          "name": "stdout",
          "text": [
            ":actor_name:PPO\n"
          ]
        },
        {
          "output_type": "stream",
          "name": "stderr",
          "text": [
            ":actor_name:RolloutWorker\n",
            "2023-03-19 13:01:50,082\tWARNING env.py:147 -- Your env doesn't have a .spec.max_episode_steps attribute. This is fine if you have set 'horizon' in your config dictionary, or `soft_horizon`. However, if you haven't, 'horizon' will default to infinity, and your environment will not be reset.\n",
            "WARNING:tensorflow:From /usr/local/lib/python3.9/dist-packages/keras/initializers/initializers_v1.py:297: calling RandomUniform.__init__ (from tensorflow.python.ops.init_ops) with dtype is deprecated and will be removed in a future version.\n",
            "Instructions for updating:\n",
            "Call initializer instance with the dtype argument instead of passing it to the constructor\n"
          ]
        },
        {
          "output_type": "stream",
          "name": "stdout",
          "text": [
            ":actor_name:RolloutWorker\n",
            "Model: \"encoding_model\"\n",
            "__________________________________________________________________________________________________\n",
            " Layer (type)                   Output Shape         Param #     Connected to                     \n",
            "==================================================================================================\n",
            " cube_input (InputLayer)        [(None, 6, 3, 3)]    0           []                               \n",
            "                                                                                                  \n",
            " step_count_input (InputLayer)  [(None, 1)]          0           []                               \n",
            "                                                                                                  \n",
            " embedding (Embedding)          (None, 6, 3, 3, 4)   24          ['cube_input[0][0]']             \n",
            "                                                                                                  \n",
            " tf_op_layer_default_policy_wk1  [(None, 1)]         0           ['step_count_input[0][0]']       \n",
            " /truediv (TensorFlowOpLayer)                                                                     \n",
            "                                                                                                  \n",
            " flatten (Flatten)              (None, 216)          0           ['embedding[0][0]']              \n",
            "                                                                                                  \n",
            " dense (Dense)                  (None, 4)            8           ['tf_op_layer_default_policy_wk1/\n",
            "                                                                 truediv[0][0]']                  \n",
            "                                                                                                  \n",
            " concatenate (Concatenate)      (None, 220)          0           ['flatten[0][0]',                \n",
            "                                                                  'dense[0][0]']                  \n",
            "                                                                                                  \n",
            " dense_1 (Dense)                (None, 32)           7072        ['concatenate[0][0]']            \n",
            "                                                                                                  \n",
            " dense_2 (Dense)                (None, 64)           2112        ['dense_1[0][0]']                \n",
            "                                                                                                  \n",
            " dense_3 (Dense)                (None, 1)            65          ['dense_2[0][0]']                \n",
            "                                                                                                  \n",
            "==================================================================================================\n",
            "Total params: 9,281\n",
            "Trainable params: 9,281\n",
            "Non-trainable params: 0\n",
            "__________________________________________________________________________________________________\n",
            "Model: \"face_selection_model\"\n",
            "_________________________________________________________________\n",
            " Layer (type)                Output Shape              Param #   \n",
            "=================================================================\n",
            " input_1 (InputLayer)        [(None, 64)]              0         \n",
            "                                                                 \n",
            " dense_4 (Dense)             (None, 6)                 390       \n",
            "                                                                 \n",
            "=================================================================\n",
            "Total params: 390\n",
            "Trainable params: 390\n",
            "Non-trainable params: 0\n",
            "_________________________________________________________________\n",
            "Model: \"cube_movement_amount_selection_model\"\n",
            "__________________________________________________________________________________________________\n",
            " Layer (type)                   Output Shape         Param #     Connected to                     \n",
            "==================================================================================================\n",
            " selected_face_input (InputLaye  [(None,)]           0           []                               \n",
            " r)                                                                                               \n",
            "                                                                                                  \n",
            " input_1 (InputLayer)           [(None, 64)]         0           []                               \n",
            "                                                                                                  \n",
            " tf_op_layer_default_policy_wk1  [(None, 6)]         0           ['selected_face_input[0][0]']    \n",
            " /one_hot (TensorFlowOpLayer)                                                                     \n",
            "                                                                                                  \n",
            " tf_op_layer_default_policy_wk1  [(None, 70)]        0           ['input_1[0][0]',                \n",
            " /concat (TensorFlowOpLayer)                                      'tf_op_layer_default_policy_wk1/\n",
            "                                                                 one_hot[0][0]']                  \n",
            "                                                                                                  \n",
            " dense_5 (Dense)                (None, 3)            213         ['tf_op_layer_default_policy_wk1/\n",
            "                                                                 concat[0][0]']                   \n",
            "                                                                                                  \n",
            "==================================================================================================\n",
            "Total params: 213\n",
            "Trainable params: 213\n",
            "Non-trainable params: 0\n",
            "__________________________________________________________________________________________________\n"
          ]
        },
        {
          "output_type": "stream",
          "name": "stderr",
          "text": [
            "2023-03-19 13:01:50,855\tWARNING catalog.py:563 -- Custom ModelV2 should accept all custom options as **kwargs, instead of expecting them in config['custom_model_config']!\n"
          ]
        },
        {
          "output_type": "stream",
          "name": "stdout",
          "text": [
            "Total parameters in model: 9884\n",
            ":actor_name:RolloutWorker\n"
          ]
        },
        {
          "output_type": "stream",
          "name": "stderr",
          "text": [
            ":actor_name:RolloutWorker\n"
          ]
        },
        {
          "output_type": "stream",
          "name": "stdout",
          "text": [
            "Model: \"encoding_model\"\n",
            "__________________________________________________________________________________________________\n",
            " Layer (type)                   Output Shape         Param #     Connected to                     \n",
            "==================================================================================================\n",
            " cube_input (InputLayer)        [(None, 6, 3, 3)]    0           []                               \n",
            "                                                                                                  \n",
            " step_count_input (InputLayer)  [(None, 1)]          0           []                               \n",
            "                                                                                                  \n",
            " embedding (Embedding)          (None, 6, 3, 3, 4)   24          ['cube_input[0][0]']             \n",
            "                                                                                                  \n",
            " tf_op_layer_default_policy_wk2  [(None, 1)]         0           ['step_count_input[0][0]']       \n",
            " /truediv (TensorFlowOpLayer)                                                                     \n",
            "                                                                                                  \n",
            " flatten (Flatten)              (None, 216)          0           ['embedding[0][0]']              \n",
            "                                                                                                  \n",
            " dense (Dense)                  (None, 4)            8           ['tf_op_layer_default_policy_wk2/\n",
            "                                                                 truediv[0][0]']                  \n",
            "                                                                                                  \n",
            " concatenate (Concatenate)      (None, 220)          0           ['flatten[0][0]',                \n",
            "                                                                  'dense[0][0]']                  \n",
            "                                                                                                  \n",
            " dense_1 (Dense)                (None, 32)           7072        ['concatenate[0][0]']            \n",
            "                                                                                                  \n",
            " dense_2 (Dense)                (None, 64)           2112        ['dense_1[0][0]']                \n",
            "                                                                                                  \n",
            " dense_3 (Dense)                (None, 1)            65          ['dense_2[0][0]']                \n",
            "                                                                                                  \n",
            "==================================================================================================\n",
            "Total params: 9,281\n",
            "Trainable params: 9,281\n",
            "Non-trainable params: 0\n",
            "__________________________________________________________________________________________________\n",
            "Model: \"face_selection_model\"\n",
            "_________________________________________________________________\n",
            " Layer (type)                Output Shape              Param #   \n",
            "=================================================================\n",
            " input_1 (InputLayer)        [(None, 64)]              0         \n",
            "                                                                 \n",
            " dense_4 (Dense)             (None, 6)                 390       \n",
            "                                                                 \n",
            "=================================================================\n",
            "Total params: 390\n",
            "Trainable params: 390\n",
            "Non-trainable params: 0\n",
            "_________________________________________________________________\n",
            "Model: \"cube_movement_amount_selection_model\"\n",
            "__________________________________________________________________________________________________\n",
            " Layer (type)                   Output Shape         Param #     Connected to                     \n",
            "==================================================================================================\n",
            " selected_face_input (InputLaye  [(None,)]           0           []                               \n",
            " r)                                                                                               \n",
            "                                                                                                  \n",
            " input_1 (InputLayer)           [(None, 64)]         0           []                               \n",
            "                                                                                                  \n",
            " tf_op_layer_default_policy_wk2  [(None, 6)]         0           ['selected_face_input[0][0]']    \n",
            " /one_hot (TensorFlowOpLayer)                                                                     \n",
            "                                                                                                  \n",
            " tf_op_layer_default_policy_wk2  [(None, 70)]        0           ['input_1[0][0]',                \n",
            " /concat (TensorFlowOpLayer)                                      'tf_op_layer_default_policy_wk2/\n",
            "                                                                 one_hot[0][0]']                  \n",
            "                                                                                                  \n",
            " dense_5 (Dense)                (None, 3)            213         ['tf_op_layer_default_policy_wk2/\n",
            "                                                                 concat[0][0]']                   \n",
            "                                                                                                  \n",
            "==================================================================================================\n",
            "Total params: 213\n",
            "Trainable params: 213\n",
            "Non-trainable params: 0\n",
            "__________________________________________________________________________________________________\n"
          ]
        },
        {
          "output_type": "stream",
          "name": "stderr",
          "text": [
            "2023-03-19 13:01:53,697\tWARNING catalog.py:563 -- Custom ModelV2 should accept all custom options as **kwargs, instead of expecting them in config['custom_model_config']!\n"
          ]
        },
        {
          "output_type": "stream",
          "name": "stdout",
          "text": [
            "Total parameters in model: 9884\n",
            "Model: \"encoding_model\"\n",
            "__________________________________________________________________________________________________\n",
            " Layer (type)                   Output Shape         Param #     Connected to                     \n",
            "==================================================================================================\n",
            " cube_input (InputLayer)        [(None, 6, 3, 3)]    0           []                               \n",
            "                                                                                                  \n",
            " step_count_input (InputLayer)  [(None, 1)]          0           []                               \n",
            "                                                                                                  \n",
            " embedding (Embedding)          (None, 6, 3, 3, 4)   24          ['cube_input[0][0]']             \n",
            "                                                                                                  \n",
            " tf_op_layer_default_policy/tru  [(None, 1)]         0           ['step_count_input[0][0]']       \n",
            " ediv (TensorFlowOpLayer)                                                                         \n",
            "                                                                                                  \n",
            " flatten (Flatten)              (None, 216)          0           ['embedding[0][0]']              \n",
            "                                                                                                  \n",
            " dense (Dense)                  (None, 4)            8           ['tf_op_layer_default_policy/true\n",
            "                                                                 div[0][0]']                      \n",
            "                                                                                                  \n",
            " concatenate (Concatenate)      (None, 220)          0           ['flatten[0][0]',                \n",
            "                                                                  'dense[0][0]']                  \n",
            "                                                                                                  \n",
            " dense_1 (Dense)                (None, 32)           7072        ['concatenate[0][0]']            \n",
            "                                                                                                  \n",
            " dense_2 (Dense)                (None, 64)           2112        ['dense_1[0][0]']                \n",
            "                                                                                                  \n",
            " dense_3 (Dense)                (None, 1)            65          ['dense_2[0][0]']                \n",
            "                                                                                                  \n",
            "==================================================================================================\n",
            "Total params: 9,281\n",
            "Trainable params: 9,281\n",
            "Non-trainable params: 0\n",
            "__________________________________________________________________________________________________\n",
            "Model: \"face_selection_model\"\n",
            "_________________________________________________________________\n",
            " Layer (type)                Output Shape              Param #   \n",
            "=================================================================\n",
            " input_1 (InputLayer)        [(None, 64)]              0         \n",
            "                                                                 \n",
            " dense_4 (Dense)             (None, 6)                 390       \n",
            "                                                                 \n",
            "=================================================================\n",
            "Total params: 390\n",
            "Trainable params: 390\n",
            "Non-trainable params: 0\n",
            "_________________________________________________________________\n",
            "Model: \"cube_movement_amount_selection_model\"\n",
            "__________________________________________________________________________________________________\n",
            " Layer (type)                   Output Shape         Param #     Connected to                     \n",
            "==================================================================================================\n",
            " selected_face_input (InputLaye  [(None,)]           0           []                               \n",
            " r)                                                                                               \n",
            "                                                                                                  \n",
            " input_1 (InputLayer)           [(None, 64)]         0           []                               \n",
            "                                                                                                  \n",
            " tf_op_layer_default_policy/one  [(None, 6)]         0           ['selected_face_input[0][0]']    \n",
            " _hot (TensorFlowOpLayer)                                                                         \n",
            "                                                                                                  \n",
            " tf_op_layer_default_policy/con  [(None, 70)]        0           ['input_1[0][0]',                \n",
            " cat (TensorFlowOpLayer)                                          'tf_op_layer_default_policy/one_\n",
            "                                                                 hot[0][0]']                      \n",
            "                                                                                                  \n",
            " dense_5 (Dense)                (None, 3)            213         ['tf_op_layer_default_policy/conc\n",
            "                                                                 at[0][0]']                       \n",
            "                                                                                                  \n",
            "==================================================================================================\n",
            "Total params: 213\n",
            "Trainable params: 213\n",
            "Non-trainable params: 0\n",
            "__________________________________________________________________________________________________\n"
          ]
        },
        {
          "output_type": "stream",
          "name": "stderr",
          "text": [
            "2023-03-19 13:01:56,166\tWARNING catalog.py:563 -- Custom ModelV2 should accept all custom options as **kwargs, instead of expecting them in config['custom_model_config']!\n"
          ]
        },
        {
          "output_type": "stream",
          "name": "stdout",
          "text": [
            "Total parameters in model: 9884\n"
          ]
        },
        {
          "output_type": "stream",
          "name": "stderr",
          "text": [
            "2023-03-19 13:01:58,348\tWARNING util.py:66 -- Install gputil for GPU system monitoring.\n",
            ":actor_name:PPO\n"
          ]
        },
        {
          "output_type": "stream",
          "name": "stdout",
          "text": [
            ":actor_name:PPO\n"
          ]
        },
        {
          "output_type": "stream",
          "name": "stderr",
          "text": [
            "2023-03-19 13:02:13,899\tWARNING util.py:244 -- The `start_trial` operation took 24.358 s, which may be a performance bottleneck.\n"
          ]
        },
        {
          "output_type": "stream",
          "name": "stdout",
          "text": [
            "<IPython.core.display.HTML object>\n",
            "<IPython.core.display.HTML object>\n",
            "<IPython.core.display.HTML object>\n",
            "<IPython.core.display.HTML object>\n"
          ]
        },
        {
          "output_type": "stream",
          "name": "stderr",
          "text": [
            "2023-03-19 13:02:30,811\tINFO tune.py:762 -- Total run time: 41.92 seconds (41.32 seconds for the tuning loop).\n"
          ]
        },
        {
          "output_type": "stream",
          "name": "stdout",
          "text": [
            "<IPython.core.display.HTML object>\n",
            "Results are saved to path /root/ray_results/PPO/PPO_rubiks_cube_env_35f4c_00000_0_2023-03-19_13-01-49\n"
          ]
        }
      ],
      "source": [
        "main_training(\n",
        "    step_limit=10,\n",
        "    reward_function_type=\"sparse\",\n",
        "    num_scrambles_on_reset=2,\n",
        "    model_config=CUSTOM_MODEL_CONFIG,\n",
        "    agent_name=\"PPO\",\n",
        "    num_iterations=2,\n",
        "    restore_path=None,\n",
        ")"
      ]
    },
    {
      "cell_type": "markdown",
      "id": "0bd7ac9c",
      "metadata": {
        "id": "0bd7ac9c"
      },
      "source": [
        "As you can see there is quite a lot of output! The main highlights are the path to the checkpoint (here the directory is ~/ray_results/PPO/PPO_rubiks_cube_env_f42af_00000_0_2023-02-28_14-55-34), a summary of the model used (which you can override by modifying training/PPO_models.py) and the per iteration results. The latter is a series of metrics summarising what happened during the episode."
      ]
    },
    {
      "cell_type": "markdown",
      "id": "8fc98045",
      "metadata": {
        "id": "8fc98045"
      },
      "source": [
        "You might find it easier to view these in tensorboard:"
      ]
    },
    {
      "cell_type": "code",
      "execution_count": 12,
      "id": "616d62f8",
      "metadata": {
        "id": "616d62f8"
      },
      "outputs": [],
      "source": [
        "%load_ext tensorboard"
      ]
    },
    {
      "cell_type": "code",
      "execution_count": 13,
      "id": "f2e637ec",
      "metadata": {
        "id": "f2e637ec",
        "outputId": "2da69676-8f74-4adc-8237-0b6dc3dfcc08",
        "colab": {
          "base_uri": "https://localhost:8080/"
        }
      },
      "outputs": [
        {
          "output_type": "stream",
          "name": "stdout",
          "text": [
            "Launching TensorBoard...\n",
            "Please visit http://localhost:6006 in a web browser.\n"
          ]
        }
      ],
      "source": [
        "%tensorboard --logdir ~/ray_results/PPO/PPO_rubiks_cube_env_35f4c_00000_0_2023-03-19_13-01-49"
      ]
    },
    {
      "cell_type": "markdown",
      "id": "7ed16b41",
      "metadata": {
        "id": "7ed16b41"
      },
      "source": [
        "To see some basic documentation of how to use the main training script, run in terminal:\n",
        "\n",
        "python training/example.py --help"
      ]
    },
    {
      "cell_type": "markdown",
      "id": "86a08922",
      "metadata": {
        "id": "86a08922"
      },
      "source": [
        "### Training your second model"
      ]
    },
    {
      "cell_type": "markdown",
      "id": "e542fe73",
      "metadata": {
        "id": "e542fe73"
      },
      "source": [
        "The library allows you to restore from a checkpoint and continue training, without having to redo the first stages of training. This could be useful in various situations, for example if the training crashed, or if you want to start training on easier environments before progressing to more difficult examples as the agent gets better (curriculum learning). Note that this will only work if the model can stay the same throughout.\n",
        "\n",
        "Let's restore the checkpoint generated above and continue training on a harder environment. We will increase the number of scrambles done to the cube on reset. Note that we must increase the number of training iterations as otherwise there is nothing to do. The results of this training will be written to a new directory.\n",
        "\n",
        "This is equivalent to the following command:\n",
        "\n",
        "python training/example.py --step_limit 10 --reward_function_type sparse --num_scrambles_on_reset 5 --agent_name PPO --num_iterations 4 --restore_path ~/ray_results/PPO/PPO_rubiks_cube_env_f42af_00000_0_2023-02-28_14-55-34/checkpoint_000002"
      ]
    },
    {
      "cell_type": "code",
      "source": [
        "main_training(\n",
        "    step_limit=10,\n",
        "    reward_function_type=\"sparse\",\n",
        "    num_scrambles_on_reset=3,\n",
        "    model_config=CUSTOM_MODEL_CONFIG,\n",
        "    agent_name=\"PPO\",\n",
        "    num_iterations=6,\n",
        "    restore_path=\"~/ray_results/PPO/PPO_rubiks_cube_env_35f4c_00000_0_2023-03-19_13-01-49/checkpoint_000002/\",\n",
        ")"
      ],
      "metadata": {
        "colab": {
          "base_uri": "https://localhost:8080/"
        },
        "id": "bYpBgl-8rCCd",
        "outputId": "0883a733-25e7-4bf1-e0a6-b3edfff20175"
      },
      "id": "bYpBgl-8rCCd",
      "execution_count": 14,
      "outputs": [
        {
          "output_type": "stream",
          "name": "stderr",
          "text": [
            "2023-03-19 13:03:48,180\tINFO worker.py:1529 -- Started a local Ray instance. View the dashboard at \u001b[1m\u001b[32m127.0.0.1:8265 \u001b[39m\u001b[22m\n"
          ]
        },
        {
          "output_type": "stream",
          "name": "stdout",
          "text": [
            "<IPython.core.display.HTML object>\n",
            ":task_name:bundle_reservation_check_func\n"
          ]
        },
        {
          "output_type": "stream",
          "name": "stderr",
          "text": [
            ":task_name:bundle_reservation_check_func\n",
            ":actor_name:PPO\n"
          ]
        },
        {
          "output_type": "stream",
          "name": "stdout",
          "text": [
            ":actor_name:PPO\n",
            ":actor_name:RolloutWorker\n"
          ]
        },
        {
          "output_type": "stream",
          "name": "stderr",
          "text": [
            ":actor_name:RolloutWorker\n"
          ]
        },
        {
          "output_type": "stream",
          "name": "stdout",
          "text": [
            "Model: \"encoding_model\"\n",
            "__________________________________________________________________________________________________\n",
            " Layer (type)                   Output Shape         Param #     Connected to                     \n",
            "==================================================================================================\n",
            " cube_input (InputLayer)        [(None, 6, 3, 3)]    0           []                               \n",
            "                                                                                                  \n",
            " step_count_input (InputLayer)  [(None, 1)]          0           []                               \n",
            "                                                                                                  \n",
            " embedding (Embedding)          (None, 6, 3, 3, 4)   24          ['cube_input[0][0]']             \n",
            "                                                                                                  \n",
            " tf_op_layer_default_policy_wk1  [(None, 1)]         0           ['step_count_input[0][0]']       \n",
            " /truediv (TensorFlowOpLayer)                                                                     \n",
            "                                                                                                  \n",
            " flatten (Flatten)              (None, 216)          0           ['embedding[0][0]']              \n",
            "                                                                                                  \n",
            " dense (Dense)                  (None, 4)            8           ['tf_op_layer_default_policy_wk1/\n",
            "                                                                 truediv[0][0]']                  \n",
            "                                                                                                  \n",
            " concatenate (Concatenate)      (None, 220)          0           ['flatten[0][0]',                \n",
            "                                                                  'dense[0][0]']                  \n",
            "                                                                                                  \n",
            " dense_1 (Dense)                (None, 32)           7072        ['concatenate[0][0]']            \n",
            "                                                                                                  \n",
            " dense_2 (Dense)                (None, 64)           2112        ['dense_1[0][0]']                \n",
            "                                                                                                  \n",
            " dense_3 (Dense)                (None, 1)            65          ['dense_2[0][0]']                \n",
            "                                                                                                  \n",
            "==================================================================================================\n",
            "Total params: 9,281\n",
            "Trainable params: 9,281\n",
            "Non-trainable params: 0\n",
            "__________________________________________________________________________________________________\n",
            "Model: \"face_selection_model\"\n",
            "_________________________________________________________________\n",
            " Layer (type)                Output Shape              Param #   \n",
            "=================================================================\n",
            " input_1 (InputLayer)        [(None, 64)]              0         \n",
            "                                                                 \n",
            " dense_4 (Dense)             (None, 6)                 390       \n",
            "                                                                 \n",
            "=================================================================\n",
            "Total params: 390\n",
            "Trainable params: 390\n",
            "Non-trainable params: 0\n",
            "_________________________________________________________________\n",
            "Model: \"cube_movement_amount_selection_model\"\n",
            "__________________________________________________________________________________________________\n",
            " Layer (type)                   Output Shape         Param #     Connected to                     \n",
            "==================================================================================================\n",
            " selected_face_input (InputLaye  [(None,)]           0           []                               \n",
            " r)                                                                                               \n",
            "                                                                                                  \n",
            " input_1 (InputLayer)           [(None, 64)]         0           []                               \n",
            "                                                                                                  \n",
            " tf_op_layer_default_policy_wk1  [(None, 6)]         0           ['selected_face_input[0][0]']    \n",
            " /one_hot (TensorFlowOpLayer)                                                                     \n",
            "                                                                                                  \n",
            " tf_op_layer_default_policy_wk1  [(None, 70)]        0           ['input_1[0][0]',                \n",
            " /concat (TensorFlowOpLayer)                                      'tf_op_layer_default_policy_wk1/\n",
            "                                                                 one_hot[0][0]']                  \n",
            "                                                                                                  \n",
            " dense_5 (Dense)                (None, 3)            213         ['tf_op_layer_default_policy_wk1/\n",
            "                                                                 concat[0][0]']                   \n",
            "                                                                                                  \n",
            "==================================================================================================\n",
            "Total params: 213\n",
            "Trainable params: 213\n",
            "Non-trainable params: 0\n",
            "__________________________________________________________________________________________________\n"
          ]
        },
        {
          "output_type": "stream",
          "name": "stderr",
          "text": [
            "2023-03-19 13:03:50,881\tWARNING catalog.py:563 -- Custom ModelV2 should accept all custom options as **kwargs, instead of expecting them in config['custom_model_config']!\n"
          ]
        },
        {
          "output_type": "stream",
          "name": "stdout",
          "text": [
            "Total parameters in model: 9884\n",
            ":actor_name:RolloutWorker\n"
          ]
        },
        {
          "output_type": "stream",
          "name": "stderr",
          "text": [
            ":actor_name:RolloutWorker\n"
          ]
        },
        {
          "output_type": "stream",
          "name": "stdout",
          "text": [
            "Model: \"encoding_model\"\n",
            "__________________________________________________________________________________________________\n",
            " Layer (type)                   Output Shape         Param #     Connected to                     \n",
            "==================================================================================================\n",
            " cube_input (InputLayer)        [(None, 6, 3, 3)]    0           []                               \n",
            "                                                                                                  \n",
            " step_count_input (InputLayer)  [(None, 1)]          0           []                               \n",
            "                                                                                                  \n",
            " embedding (Embedding)          (None, 6, 3, 3, 4)   24          ['cube_input[0][0]']             \n",
            "                                                                                                  \n",
            " tf_op_layer_default_policy_wk2  [(None, 1)]         0           ['step_count_input[0][0]']       \n",
            " /truediv (TensorFlowOpLayer)                                                                     \n",
            "                                                                                                  \n",
            " flatten (Flatten)              (None, 216)          0           ['embedding[0][0]']              \n",
            "                                                                                                  \n",
            " dense (Dense)                  (None, 4)            8           ['tf_op_layer_default_policy_wk2/\n",
            "                                                                 truediv[0][0]']                  \n",
            "                                                                                                  \n",
            " concatenate (Concatenate)      (None, 220)          0           ['flatten[0][0]',                \n",
            "                                                                  'dense[0][0]']                  \n",
            "                                                                                                  \n",
            " dense_1 (Dense)                (None, 32)           7072        ['concatenate[0][0]']            \n",
            "                                                                                                  \n",
            " dense_2 (Dense)                (None, 64)           2112        ['dense_1[0][0]']                \n",
            "                                                                                                  \n",
            " dense_3 (Dense)                (None, 1)            65          ['dense_2[0][0]']                \n",
            "                                                                                                  \n",
            "==================================================================================================\n",
            "Total params: 9,281\n",
            "Trainable params: 9,281\n",
            "Non-trainable params: 0\n",
            "__________________________________________________________________________________________________\n",
            "Model: \"face_selection_model\"\n",
            "_________________________________________________________________\n",
            " Layer (type)                Output Shape              Param #   \n",
            "=================================================================\n",
            " input_1 (InputLayer)        [(None, 64)]              0         \n",
            "                                                                 \n",
            " dense_4 (Dense)             (None, 6)                 390       \n",
            "                                                                 \n",
            "=================================================================\n",
            "Total params: 390\n",
            "Trainable params: 390\n",
            "Non-trainable params: 0\n",
            "_________________________________________________________________\n",
            "Model: \"cube_movement_amount_selection_model\"\n",
            "__________________________________________________________________________________________________\n",
            " Layer (type)                   Output Shape         Param #     Connected to                     \n",
            "==================================================================================================\n",
            " selected_face_input (InputLaye  [(None,)]           0           []                               \n",
            " r)                                                                                               \n",
            "                                                                                                  \n",
            " input_1 (InputLayer)           [(None, 64)]         0           []                               \n",
            "                                                                                                  \n",
            " tf_op_layer_default_policy_wk2  [(None, 6)]         0           ['selected_face_input[0][0]']    \n",
            " /one_hot (TensorFlowOpLayer)                                                                     \n",
            "                                                                                                  \n",
            " tf_op_layer_default_policy_wk2  [(None, 70)]        0           ['input_1[0][0]',                \n",
            " /concat (TensorFlowOpLayer)                                      'tf_op_layer_default_policy_wk2/\n",
            "                                                                 one_hot[0][0]']                  \n",
            "                                                                                                  \n",
            " dense_5 (Dense)                (None, 3)            213         ['tf_op_layer_default_policy_wk2/\n",
            "                                                                 concat[0][0]']                   \n",
            "                                                                                                  \n",
            "==================================================================================================\n",
            "Total params: 213\n",
            "Trainable params: 213\n",
            "Non-trainable params: 0\n",
            "__________________________________________________________________________________________________\n"
          ]
        },
        {
          "output_type": "stream",
          "name": "stderr",
          "text": [
            "2023-03-19 13:03:54,291\tWARNING catalog.py:563 -- Custom ModelV2 should accept all custom options as **kwargs, instead of expecting them in config['custom_model_config']!\n"
          ]
        },
        {
          "output_type": "stream",
          "name": "stdout",
          "text": [
            "Total parameters in model: 9884\n",
            "Model: \"encoding_model\"\n",
            "__________________________________________________________________________________________________\n",
            " Layer (type)                   Output Shape         Param #     Connected to                     \n",
            "==================================================================================================\n",
            " cube_input (InputLayer)        [(None, 6, 3, 3)]    0           []                               \n",
            "                                                                                                  \n",
            " step_count_input (InputLayer)  [(None, 1)]          0           []                               \n",
            "                                                                                                  \n",
            " embedding (Embedding)          (None, 6, 3, 3, 4)   24          ['cube_input[0][0]']             \n",
            "                                                                                                  \n",
            " tf_op_layer_default_policy/tru  [(None, 1)]         0           ['step_count_input[0][0]']       \n",
            " ediv (TensorFlowOpLayer)                                                                         \n",
            "                                                                                                  \n",
            " flatten (Flatten)              (None, 216)          0           ['embedding[0][0]']              \n",
            "                                                                                                  \n",
            " dense (Dense)                  (None, 4)            8           ['tf_op_layer_default_policy/true\n",
            "                                                                 div[0][0]']                      \n",
            "                                                                                                  \n",
            " concatenate (Concatenate)      (None, 220)          0           ['flatten[0][0]',                \n",
            "                                                                  'dense[0][0]']                  \n",
            "                                                                                                  \n",
            " dense_1 (Dense)                (None, 32)           7072        ['concatenate[0][0]']            \n",
            "                                                                                                  \n",
            " dense_2 (Dense)                (None, 64)           2112        ['dense_1[0][0]']                \n",
            "                                                                                                  \n",
            " dense_3 (Dense)                (None, 1)            65          ['dense_2[0][0]']                \n",
            "                                                                                                  \n",
            "==================================================================================================\n",
            "Total params: 9,281\n",
            "Trainable params: 9,281\n",
            "Non-trainable params: 0\n",
            "__________________________________________________________________________________________________\n",
            "Model: \"face_selection_model\"\n",
            "_________________________________________________________________\n",
            " Layer (type)                Output Shape              Param #   \n",
            "=================================================================\n",
            " input_1 (InputLayer)        [(None, 64)]              0         \n",
            "                                                                 \n",
            " dense_4 (Dense)             (None, 6)                 390       \n",
            "                                                                 \n",
            "=================================================================\n",
            "Total params: 390\n",
            "Trainable params: 390\n",
            "Non-trainable params: 0\n",
            "_________________________________________________________________\n",
            "Model: \"cube_movement_amount_selection_model\"\n",
            "__________________________________________________________________________________________________\n",
            " Layer (type)                   Output Shape         Param #     Connected to                     \n",
            "==================================================================================================\n",
            " selected_face_input (InputLaye  [(None,)]           0           []                               \n",
            " r)                                                                                               \n",
            "                                                                                                  \n",
            " input_1 (InputLayer)           [(None, 64)]         0           []                               \n",
            "                                                                                                  \n",
            " tf_op_layer_default_policy/one  [(None, 6)]         0           ['selected_face_input[0][0]']    \n",
            " _hot (TensorFlowOpLayer)                                                                         \n",
            "                                                                                                  \n",
            " tf_op_layer_default_policy/con  [(None, 70)]        0           ['input_1[0][0]',                \n",
            " cat (TensorFlowOpLayer)                                          'tf_op_layer_default_policy/one_\n",
            "                                                                 hot[0][0]']                      \n",
            "                                                                                                  \n",
            " dense_5 (Dense)                (None, 3)            213         ['tf_op_layer_default_policy/conc\n",
            "                                                                 at[0][0]']                       \n",
            "                                                                                                  \n",
            "==================================================================================================\n",
            "Total params: 213\n",
            "Trainable params: 213\n",
            "Non-trainable params: 0\n",
            "__________________________________________________________________________________________________\n"
          ]
        },
        {
          "output_type": "stream",
          "name": "stderr",
          "text": [
            "2023-03-19 13:03:58,199\tWARNING catalog.py:563 -- Custom ModelV2 should accept all custom options as **kwargs, instead of expecting them in config['custom_model_config']!\n"
          ]
        },
        {
          "output_type": "stream",
          "name": "stdout",
          "text": [
            "Total parameters in model: 9884\n"
          ]
        },
        {
          "output_type": "stream",
          "name": "stderr",
          "text": [
            "2023-03-19 13:04:00,534\tINFO trainable.py:172 -- Trainable.setup took 10.244 seconds. If your trainable is slow to initialize, consider setting reuse_actors=True to reduce actor creation overheads.\n",
            "2023-03-19 13:04:00,540\tWARNING util.py:66 -- Install gputil for GPU system monitoring.\n",
            ":actor_name:PPO\n"
          ]
        },
        {
          "output_type": "stream",
          "name": "stdout",
          "text": [
            ":actor_name:PPO\n"
          ]
        },
        {
          "output_type": "stream",
          "name": "stderr",
          "text": [
            "2023-03-19 13:04:00,861\tINFO trainable.py:790 -- Restored on 172.28.0.12 from checkpoint: /tmp/checkpoint_tmp_1efd202535784c29b8a411f9f2f9e912\n",
            "2023-03-19 13:04:00,863\tINFO trainable.py:799 -- Current state after restoring: {'_iteration': 2, '_timesteps_total': None, '_time_total': 31.404221296310425, '_episodes_total': 804}\n",
            "2023-03-19 13:04:00,875\tWARNING util.py:244 -- The `start_trial` operation took 10.708 s, which may be a performance bottleneck.\n"
          ]
        },
        {
          "output_type": "stream",
          "name": "stdout",
          "text": [
            "<IPython.core.display.HTML object>\n"
          ]
        },
        {
          "output_type": "stream",
          "name": "stderr",
          "text": [
            "2023-03-19 13:04:17,282\tWARNING util.py:244 -- The `process_trial_restore` operation took 16.398 s, which may be a performance bottleneck.\n"
          ]
        },
        {
          "output_type": "stream",
          "name": "stdout",
          "text": [
            "<IPython.core.display.HTML object>\n",
            "<IPython.core.display.HTML object>\n",
            "<IPython.core.display.HTML object>\n",
            "<IPython.core.display.HTML object>\n",
            "<IPython.core.display.HTML object>\n",
            "<IPython.core.display.HTML object>\n",
            "<IPython.core.display.HTML object>\n",
            "<IPython.core.display.HTML object>\n"
          ]
        },
        {
          "output_type": "stream",
          "name": "stderr",
          "text": [
            "2023-03-19 13:05:03,189\tINFO tune.py:762 -- Total run time: 73.21 seconds (73.01 seconds for the tuning loop).\n"
          ]
        },
        {
          "output_type": "stream",
          "name": "stdout",
          "text": [
            "<IPython.core.display.HTML object>\n",
            "Results are saved to path /root/ray_results/PPO/PPO_rubiks_cube_env_7deb6_00000_0_2023-03-19_13-03-50\n"
          ]
        }
      ]
    },
    {
      "cell_type": "markdown",
      "source": [
        "Training the third Model with 4 scrambles and 8 iterations"
      ],
      "metadata": {
        "id": "ChlcWeFVr9Lh"
      },
      "id": "ChlcWeFVr9Lh"
    },
    {
      "cell_type": "code",
      "source": [
        "main_training(\n",
        "    step_limit=10,\n",
        "    reward_function_type=\"sparse\",\n",
        "    num_scrambles_on_reset=4,\n",
        "    model_config=CUSTOM_MODEL_CONFIG,\n",
        "    agent_name=\"PPO\",\n",
        "    num_iterations=8,\n",
        "    restore_path=\"~/ray_results/PPO/PPO_rubiks_cube_env_7deb6_00000_0_2023-03-19_13-03-50/checkpoint_000003/\",\n",
        ")"
      ],
      "metadata": {
        "colab": {
          "base_uri": "https://localhost:8080/"
        },
        "id": "F8qYLgfMrPAo",
        "outputId": "505291a5-5715-4c25-ea63-6c7f1386bd87"
      },
      "id": "F8qYLgfMrPAo",
      "execution_count": 15,
      "outputs": [
        {
          "output_type": "stream",
          "name": "stderr",
          "text": [
            "2023-03-19 13:06:44,212\tINFO worker.py:1529 -- Started a local Ray instance. View the dashboard at \u001b[1m\u001b[32m127.0.0.1:8265 \u001b[39m\u001b[22m\n"
          ]
        },
        {
          "output_type": "stream",
          "name": "stdout",
          "text": [
            "<IPython.core.display.HTML object>\n",
            ":task_name:bundle_reservation_check_func\n"
          ]
        },
        {
          "output_type": "stream",
          "name": "stderr",
          "text": [
            ":task_name:bundle_reservation_check_func\n",
            ":actor_name:PPO\n"
          ]
        },
        {
          "output_type": "stream",
          "name": "stdout",
          "text": [
            ":actor_name:PPO\n",
            ":actor_name:RolloutWorker\n"
          ]
        },
        {
          "output_type": "stream",
          "name": "stderr",
          "text": [
            ":actor_name:RolloutWorker\n"
          ]
        },
        {
          "output_type": "stream",
          "name": "stdout",
          "text": [
            "Model: \"encoding_model\"\n",
            "__________________________________________________________________________________________________\n",
            " Layer (type)                   Output Shape         Param #     Connected to                     \n",
            "==================================================================================================\n",
            " cube_input (InputLayer)        [(None, 6, 3, 3)]    0           []                               \n",
            "                                                                                                  \n",
            " step_count_input (InputLayer)  [(None, 1)]          0           []                               \n",
            "                                                                                                  \n",
            " embedding (Embedding)          (None, 6, 3, 3, 4)   24          ['cube_input[0][0]']             \n",
            "                                                                                                  \n",
            " tf_op_layer_default_policy_wk1  [(None, 1)]         0           ['step_count_input[0][0]']       \n",
            " /truediv (TensorFlowOpLayer)                                                                     \n",
            "                                                                                                  \n",
            " flatten (Flatten)              (None, 216)          0           ['embedding[0][0]']              \n",
            "                                                                                                  \n",
            " dense (Dense)                  (None, 4)            8           ['tf_op_layer_default_policy_wk1/\n",
            "                                                                 truediv[0][0]']                  \n",
            "                                                                                                  \n",
            " concatenate (Concatenate)      (None, 220)          0           ['flatten[0][0]',                \n",
            "                                                                  'dense[0][0]']                  \n",
            "                                                                                                  \n",
            " dense_1 (Dense)                (None, 32)           7072        ['concatenate[0][0]']            \n",
            "                                                                                                  \n",
            " dense_2 (Dense)                (None, 64)           2112        ['dense_1[0][0]']                \n",
            "                                                                                                  \n",
            " dense_3 (Dense)                (None, 1)            65          ['dense_2[0][0]']                \n",
            "                                                                                                  \n",
            "==================================================================================================\n",
            "Total params: 9,281\n",
            "Trainable params: 9,281\n",
            "Non-trainable params: 0\n",
            "__________________________________________________________________________________________________\n",
            "Model: \"face_selection_model\"\n",
            "_________________________________________________________________\n",
            " Layer (type)                Output Shape              Param #   \n",
            "=================================================================\n",
            " input_1 (InputLayer)        [(None, 64)]              0         \n",
            "                                                                 \n",
            " dense_4 (Dense)             (None, 6)                 390       \n",
            "                                                                 \n",
            "=================================================================\n",
            "Total params: 390\n",
            "Trainable params: 390\n",
            "Non-trainable params: 0\n",
            "_________________________________________________________________\n",
            "Model: \"cube_movement_amount_selection_model\"\n",
            "__________________________________________________________________________________________________\n",
            " Layer (type)                   Output Shape         Param #     Connected to                     \n",
            "==================================================================================================\n",
            " selected_face_input (InputLaye  [(None,)]           0           []                               \n",
            " r)                                                                                               \n",
            "                                                                                                  \n",
            " input_1 (InputLayer)           [(None, 64)]         0           []                               \n",
            "                                                                                                  \n",
            " tf_op_layer_default_policy_wk1  [(None, 6)]         0           ['selected_face_input[0][0]']    \n",
            " /one_hot (TensorFlowOpLayer)                                                                     \n",
            "                                                                                                  \n",
            " tf_op_layer_default_policy_wk1  [(None, 70)]        0           ['input_1[0][0]',                \n",
            " /concat (TensorFlowOpLayer)                                      'tf_op_layer_default_policy_wk1/\n",
            "                                                                 one_hot[0][0]']                  \n",
            "                                                                                                  \n",
            " dense_5 (Dense)                (None, 3)            213         ['tf_op_layer_default_policy_wk1/\n",
            "                                                                 concat[0][0]']                   \n",
            "                                                                                                  \n",
            "==================================================================================================\n",
            "Total params: 213\n",
            "Trainable params: 213\n",
            "Non-trainable params: 0\n",
            "__________________________________________________________________________________________________\n"
          ]
        },
        {
          "output_type": "stream",
          "name": "stderr",
          "text": [
            "2023-03-19 13:06:47,132\tWARNING catalog.py:563 -- Custom ModelV2 should accept all custom options as **kwargs, instead of expecting them in config['custom_model_config']!\n"
          ]
        },
        {
          "output_type": "stream",
          "name": "stdout",
          "text": [
            "Total parameters in model: 9884\n",
            ":actor_name:RolloutWorker\n"
          ]
        },
        {
          "output_type": "stream",
          "name": "stderr",
          "text": [
            ":actor_name:RolloutWorker\n"
          ]
        },
        {
          "output_type": "stream",
          "name": "stdout",
          "text": [
            "Model: \"encoding_model\"\n",
            "__________________________________________________________________________________________________\n",
            " Layer (type)                   Output Shape         Param #     Connected to                     \n",
            "==================================================================================================\n",
            " cube_input (InputLayer)        [(None, 6, 3, 3)]    0           []                               \n",
            "                                                                                                  \n",
            " step_count_input (InputLayer)  [(None, 1)]          0           []                               \n",
            "                                                                                                  \n",
            " embedding (Embedding)          (None, 6, 3, 3, 4)   24          ['cube_input[0][0]']             \n",
            "                                                                                                  \n",
            " tf_op_layer_default_policy_wk2  [(None, 1)]         0           ['step_count_input[0][0]']       \n",
            " /truediv (TensorFlowOpLayer)                                                                     \n",
            "                                                                                                  \n",
            " flatten (Flatten)              (None, 216)          0           ['embedding[0][0]']              \n",
            "                                                                                                  \n",
            " dense (Dense)                  (None, 4)            8           ['tf_op_layer_default_policy_wk2/\n",
            "                                                                 truediv[0][0]']                  \n",
            "                                                                                                  \n",
            " concatenate (Concatenate)      (None, 220)          0           ['flatten[0][0]',                \n",
            "                                                                  'dense[0][0]']                  \n",
            "                                                                                                  \n",
            " dense_1 (Dense)                (None, 32)           7072        ['concatenate[0][0]']            \n",
            "                                                                                                  \n",
            " dense_2 (Dense)                (None, 64)           2112        ['dense_1[0][0]']                \n",
            "                                                                                                  \n",
            " dense_3 (Dense)                (None, 1)            65          ['dense_2[0][0]']                \n",
            "                                                                                                  \n",
            "==================================================================================================\n",
            "Total params: 9,281\n",
            "Trainable params: 9,281\n",
            "Non-trainable params: 0\n",
            "__________________________________________________________________________________________________\n",
            "Model: \"face_selection_model\"\n",
            "_________________________________________________________________\n",
            " Layer (type)                Output Shape              Param #   \n",
            "=================================================================\n",
            " input_1 (InputLayer)        [(None, 64)]              0         \n",
            "                                                                 \n",
            " dense_4 (Dense)             (None, 6)                 390       \n",
            "                                                                 \n",
            "=================================================================\n",
            "Total params: 390\n",
            "Trainable params: 390\n",
            "Non-trainable params: 0\n",
            "_________________________________________________________________\n",
            "Model: \"cube_movement_amount_selection_model\"\n",
            "__________________________________________________________________________________________________\n",
            " Layer (type)                   Output Shape         Param #     Connected to                     \n",
            "==================================================================================================\n",
            " selected_face_input (InputLaye  [(None,)]           0           []                               \n",
            " r)                                                                                               \n",
            "                                                                                                  \n",
            " input_1 (InputLayer)           [(None, 64)]         0           []                               \n",
            "                                                                                                  \n",
            " tf_op_layer_default_policy_wk2  [(None, 6)]         0           ['selected_face_input[0][0]']    \n",
            " /one_hot (TensorFlowOpLayer)                                                                     \n",
            "                                                                                                  \n",
            " tf_op_layer_default_policy_wk2  [(None, 70)]        0           ['input_1[0][0]',                \n",
            " /concat (TensorFlowOpLayer)                                      'tf_op_layer_default_policy_wk2/\n",
            "                                                                 one_hot[0][0]']                  \n",
            "                                                                                                  \n",
            " dense_5 (Dense)                (None, 3)            213         ['tf_op_layer_default_policy_wk2/\n",
            "                                                                 concat[0][0]']                   \n",
            "                                                                                                  \n",
            "==================================================================================================\n",
            "Total params: 213\n",
            "Trainable params: 213\n",
            "Non-trainable params: 0\n",
            "__________________________________________________________________________________________________\n"
          ]
        },
        {
          "output_type": "stream",
          "name": "stderr",
          "text": [
            "2023-03-19 13:06:50,424\tWARNING catalog.py:563 -- Custom ModelV2 should accept all custom options as **kwargs, instead of expecting them in config['custom_model_config']!\n"
          ]
        },
        {
          "output_type": "stream",
          "name": "stdout",
          "text": [
            "Total parameters in model: 9884\n",
            "Model: \"encoding_model\"\n",
            "__________________________________________________________________________________________________\n",
            " Layer (type)                   Output Shape         Param #     Connected to                     \n",
            "==================================================================================================\n",
            " cube_input (InputLayer)        [(None, 6, 3, 3)]    0           []                               \n",
            "                                                                                                  \n",
            " step_count_input (InputLayer)  [(None, 1)]          0           []                               \n",
            "                                                                                                  \n",
            " embedding (Embedding)          (None, 6, 3, 3, 4)   24          ['cube_input[0][0]']             \n",
            "                                                                                                  \n",
            " tf_op_layer_default_policy/tru  [(None, 1)]         0           ['step_count_input[0][0]']       \n",
            " ediv (TensorFlowOpLayer)                                                                         \n",
            "                                                                                                  \n",
            " flatten (Flatten)              (None, 216)          0           ['embedding[0][0]']              \n",
            "                                                                                                  \n",
            " dense (Dense)                  (None, 4)            8           ['tf_op_layer_default_policy/true\n",
            "                                                                 div[0][0]']                      \n",
            "                                                                                                  \n",
            " concatenate (Concatenate)      (None, 220)          0           ['flatten[0][0]',                \n",
            "                                                                  'dense[0][0]']                  \n",
            "                                                                                                  \n",
            " dense_1 (Dense)                (None, 32)           7072        ['concatenate[0][0]']            \n",
            "                                                                                                  \n",
            " dense_2 (Dense)                (None, 64)           2112        ['dense_1[0][0]']                \n",
            "                                                                                                  \n",
            " dense_3 (Dense)                (None, 1)            65          ['dense_2[0][0]']                \n",
            "                                                                                                  \n",
            "==================================================================================================\n",
            "Total params: 9,281\n",
            "Trainable params: 9,281\n",
            "Non-trainable params: 0\n",
            "__________________________________________________________________________________________________\n",
            "Model: \"face_selection_model\"\n",
            "_________________________________________________________________\n",
            " Layer (type)                Output Shape              Param #   \n",
            "=================================================================\n",
            " input_1 (InputLayer)        [(None, 64)]              0         \n",
            "                                                                 \n",
            " dense_4 (Dense)             (None, 6)                 390       \n",
            "                                                                 \n",
            "=================================================================\n",
            "Total params: 390\n",
            "Trainable params: 390\n",
            "Non-trainable params: 0\n",
            "_________________________________________________________________\n",
            "Model: \"cube_movement_amount_selection_model\"\n",
            "__________________________________________________________________________________________________\n",
            " Layer (type)                   Output Shape         Param #     Connected to                     \n",
            "==================================================================================================\n",
            " selected_face_input (InputLaye  [(None,)]           0           []                               \n",
            " r)                                                                                               \n",
            "                                                                                                  \n",
            " input_1 (InputLayer)           [(None, 64)]         0           []                               \n",
            "                                                                                                  \n",
            " tf_op_layer_default_policy/one  [(None, 6)]         0           ['selected_face_input[0][0]']    \n",
            " _hot (TensorFlowOpLayer)                                                                         \n",
            "                                                                                                  \n",
            " tf_op_layer_default_policy/con  [(None, 70)]        0           ['input_1[0][0]',                \n",
            " cat (TensorFlowOpLayer)                                          'tf_op_layer_default_policy/one_\n",
            "                                                                 hot[0][0]']                      \n",
            "                                                                                                  \n",
            " dense_5 (Dense)                (None, 3)            213         ['tf_op_layer_default_policy/conc\n",
            "                                                                 at[0][0]']                       \n",
            "                                                                                                  \n",
            "==================================================================================================\n",
            "Total params: 213\n",
            "Trainable params: 213\n",
            "Non-trainable params: 0\n",
            "__________________________________________________________________________________________________\n"
          ]
        },
        {
          "output_type": "stream",
          "name": "stderr",
          "text": [
            "2023-03-19 13:06:53,994\tWARNING catalog.py:563 -- Custom ModelV2 should accept all custom options as **kwargs, instead of expecting them in config['custom_model_config']!\n"
          ]
        },
        {
          "output_type": "stream",
          "name": "stdout",
          "text": [
            "Total parameters in model: 9884\n"
          ]
        },
        {
          "output_type": "stream",
          "name": "stderr",
          "text": [
            "2023-03-19 13:06:57,253\tINFO trainable.py:172 -- Trainable.setup took 10.768 seconds. If your trainable is slow to initialize, consider setting reuse_actors=True to reduce actor creation overheads.\n",
            "2023-03-19 13:06:57,260\tWARNING util.py:66 -- Install gputil for GPU system monitoring.\n",
            ":actor_name:PPO\n"
          ]
        },
        {
          "output_type": "stream",
          "name": "stdout",
          "text": [
            ":actor_name:PPO\n"
          ]
        },
        {
          "output_type": "stream",
          "name": "stderr",
          "text": [
            "2023-03-19 13:06:57,622\tINFO trainable.py:790 -- Restored on 172.28.0.12 from checkpoint: /tmp/checkpoint_tmp_b5f6905ea4b14307be041f1b14bc71ce\n",
            "2023-03-19 13:06:57,625\tINFO trainable.py:799 -- Current state after restoring: {'_iteration': 3, '_timesteps_total': None, '_time_total': 47.799554109573364, '_episodes_total': 1204}\n",
            "2023-03-19 13:06:57,635\tWARNING util.py:244 -- The `start_trial` operation took 11.265 s, which may be a performance bottleneck.\n"
          ]
        },
        {
          "output_type": "stream",
          "name": "stdout",
          "text": [
            "<IPython.core.display.HTML object>\n"
          ]
        },
        {
          "output_type": "stream",
          "name": "stderr",
          "text": [
            "2023-03-19 13:07:14,246\tWARNING util.py:244 -- The `process_trial_restore` operation took 16.601 s, which may be a performance bottleneck.\n"
          ]
        },
        {
          "output_type": "stream",
          "name": "stdout",
          "text": [
            "<IPython.core.display.HTML object>\n",
            "<IPython.core.display.HTML object>\n",
            "<IPython.core.display.HTML object>\n",
            "<IPython.core.display.HTML object>\n",
            "<IPython.core.display.HTML object>\n",
            "<IPython.core.display.HTML object>\n",
            "<IPython.core.display.HTML object>\n",
            "<IPython.core.display.HTML object>\n",
            "<IPython.core.display.HTML object>\n",
            "<IPython.core.display.HTML object>\n",
            "<IPython.core.display.HTML object>\n"
          ]
        },
        {
          "output_type": "stream",
          "name": "stderr",
          "text": [
            "2023-03-19 13:08:13,940\tINFO tune.py:762 -- Total run time: 87.77 seconds (87.56 seconds for the tuning loop).\n"
          ]
        },
        {
          "output_type": "stream",
          "name": "stdout",
          "text": [
            "Results are saved to path /root/ray_results/PPO/PPO_rubiks_cube_env_e6f01_00000_0_2023-03-19_13-06-46\n"
          ]
        }
      ]
    },
    {
      "cell_type": "markdown",
      "source": [
        "Training the Fourth Model with 5 scrambles to start with and 11 iterations and learining from the third model"
      ],
      "metadata": {
        "id": "6B-bcmwFsCTp"
      },
      "id": "6B-bcmwFsCTp"
    },
    {
      "cell_type": "code",
      "execution_count": 16,
      "id": "8ed9b41b",
      "metadata": {
        "id": "8ed9b41b",
        "outputId": "a3c295cc-09e9-4816-9ef7-0ee39e783779",
        "colab": {
          "base_uri": "https://localhost:8080/"
        }
      },
      "outputs": [
        {
          "output_type": "stream",
          "name": "stderr",
          "text": [
            "2023-03-19 13:15:37,007\tINFO worker.py:1529 -- Started a local Ray instance. View the dashboard at \u001b[1m\u001b[32m127.0.0.1:8265 \u001b[39m\u001b[22m\n"
          ]
        },
        {
          "output_type": "stream",
          "name": "stdout",
          "text": [
            "<IPython.core.display.HTML object>\n",
            ":task_name:bundle_reservation_check_func\n"
          ]
        },
        {
          "output_type": "stream",
          "name": "stderr",
          "text": [
            ":task_name:bundle_reservation_check_func\n",
            ":actor_name:PPO\n"
          ]
        },
        {
          "output_type": "stream",
          "name": "stdout",
          "text": [
            ":actor_name:PPO\n",
            ":actor_name:RolloutWorker\n"
          ]
        },
        {
          "output_type": "stream",
          "name": "stderr",
          "text": [
            ":actor_name:RolloutWorker\n"
          ]
        },
        {
          "output_type": "stream",
          "name": "stdout",
          "text": [
            "Model: \"encoding_model\"\n",
            "__________________________________________________________________________________________________\n",
            " Layer (type)                   Output Shape         Param #     Connected to                     \n",
            "==================================================================================================\n",
            " cube_input (InputLayer)        [(None, 6, 3, 3)]    0           []                               \n",
            "                                                                                                  \n",
            " step_count_input (InputLayer)  [(None, 1)]          0           []                               \n",
            "                                                                                                  \n",
            " embedding (Embedding)          (None, 6, 3, 3, 4)   24          ['cube_input[0][0]']             \n",
            "                                                                                                  \n",
            " tf_op_layer_default_policy_wk1  [(None, 1)]         0           ['step_count_input[0][0]']       \n",
            " /truediv (TensorFlowOpLayer)                                                                     \n",
            "                                                                                                  \n",
            " flatten (Flatten)              (None, 216)          0           ['embedding[0][0]']              \n",
            "                                                                                                  \n",
            " dense (Dense)                  (None, 4)            8           ['tf_op_layer_default_policy_wk1/\n",
            "                                                                 truediv[0][0]']                  \n",
            "                                                                                                  \n",
            " concatenate (Concatenate)      (None, 220)          0           ['flatten[0][0]',                \n",
            "                                                                  'dense[0][0]']                  \n",
            "                                                                                                  \n",
            " dense_1 (Dense)                (None, 32)           7072        ['concatenate[0][0]']            \n",
            "                                                                                                  \n",
            " dense_2 (Dense)                (None, 64)           2112        ['dense_1[0][0]']                \n",
            "                                                                                                  \n",
            " dense_3 (Dense)                (None, 1)            65          ['dense_2[0][0]']                \n",
            "                                                                                                  \n",
            "==================================================================================================\n",
            "Total params: 9,281\n",
            "Trainable params: 9,281\n",
            "Non-trainable params: 0\n",
            "__________________________________________________________________________________________________\n",
            "Model: \"face_selection_model\"\n",
            "_________________________________________________________________\n",
            " Layer (type)                Output Shape              Param #   \n",
            "=================================================================\n",
            " input_1 (InputLayer)        [(None, 64)]              0         \n",
            "                                                                 \n",
            " dense_4 (Dense)             (None, 6)                 390       \n",
            "                                                                 \n",
            "=================================================================\n",
            "Total params: 390\n",
            "Trainable params: 390\n",
            "Non-trainable params: 0\n",
            "_________________________________________________________________\n",
            "Model: \"cube_movement_amount_selection_model\"\n",
            "__________________________________________________________________________________________________\n",
            " Layer (type)                   Output Shape         Param #     Connected to                     \n",
            "==================================================================================================\n",
            " selected_face_input (InputLaye  [(None,)]           0           []                               \n",
            " r)                                                                                               \n",
            "                                                                                                  \n",
            " input_1 (InputLayer)           [(None, 64)]         0           []                               \n",
            "                                                                                                  \n",
            " tf_op_layer_default_policy_wk1  [(None, 6)]         0           ['selected_face_input[0][0]']    \n",
            " /one_hot (TensorFlowOpLayer)                                                                     \n",
            "                                                                                                  \n",
            " tf_op_layer_default_policy_wk1  [(None, 70)]        0           ['input_1[0][0]',                \n",
            " /concat (TensorFlowOpLayer)                                      'tf_op_layer_default_policy_wk1/\n",
            "                                                                 one_hot[0][0]']                  \n",
            "                                                                                                  \n",
            " dense_5 (Dense)                (None, 3)            213         ['tf_op_layer_default_policy_wk1/\n",
            "                                                                 concat[0][0]']                   \n",
            "                                                                                                  \n",
            "==================================================================================================\n",
            "Total params: 213\n",
            "Trainable params: 213\n",
            "Non-trainable params: 0\n",
            "__________________________________________________________________________________________________\n"
          ]
        },
        {
          "output_type": "stream",
          "name": "stderr",
          "text": [
            "2023-03-19 13:15:40,087\tWARNING catalog.py:563 -- Custom ModelV2 should accept all custom options as **kwargs, instead of expecting them in config['custom_model_config']!\n"
          ]
        },
        {
          "output_type": "stream",
          "name": "stdout",
          "text": [
            "Total parameters in model: 9884\n",
            ":actor_name:RolloutWorker\n"
          ]
        },
        {
          "output_type": "stream",
          "name": "stderr",
          "text": [
            ":actor_name:RolloutWorker\n"
          ]
        },
        {
          "output_type": "stream",
          "name": "stdout",
          "text": [
            "Model: \"encoding_model\"\n",
            "__________________________________________________________________________________________________\n",
            " Layer (type)                   Output Shape         Param #     Connected to                     \n",
            "==================================================================================================\n",
            " cube_input (InputLayer)        [(None, 6, 3, 3)]    0           []                               \n",
            "                                                                                                  \n",
            " step_count_input (InputLayer)  [(None, 1)]          0           []                               \n",
            "                                                                                                  \n",
            " embedding (Embedding)          (None, 6, 3, 3, 4)   24          ['cube_input[0][0]']             \n",
            "                                                                                                  \n",
            " tf_op_layer_default_policy_wk2  [(None, 1)]         0           ['step_count_input[0][0]']       \n",
            " /truediv (TensorFlowOpLayer)                                                                     \n",
            "                                                                                                  \n",
            " flatten (Flatten)              (None, 216)          0           ['embedding[0][0]']              \n",
            "                                                                                                  \n",
            " dense (Dense)                  (None, 4)            8           ['tf_op_layer_default_policy_wk2/\n",
            "                                                                 truediv[0][0]']                  \n",
            "                                                                                                  \n",
            " concatenate (Concatenate)      (None, 220)          0           ['flatten[0][0]',                \n",
            "                                                                  'dense[0][0]']                  \n",
            "                                                                                                  \n",
            " dense_1 (Dense)                (None, 32)           7072        ['concatenate[0][0]']            \n",
            "                                                                                                  \n",
            " dense_2 (Dense)                (None, 64)           2112        ['dense_1[0][0]']                \n",
            "                                                                                                  \n",
            " dense_3 (Dense)                (None, 1)            65          ['dense_2[0][0]']                \n",
            "                                                                                                  \n",
            "==================================================================================================\n",
            "Total params: 9,281\n",
            "Trainable params: 9,281\n",
            "Non-trainable params: 0\n",
            "__________________________________________________________________________________________________\n",
            "Model: \"face_selection_model\"\n",
            "_________________________________________________________________\n",
            " Layer (type)                Output Shape              Param #   \n",
            "=================================================================\n",
            " input_1 (InputLayer)        [(None, 64)]              0         \n",
            "                                                                 \n",
            " dense_4 (Dense)             (None, 6)                 390       \n",
            "                                                                 \n",
            "=================================================================\n",
            "Total params: 390\n",
            "Trainable params: 390\n",
            "Non-trainable params: 0\n",
            "_________________________________________________________________\n",
            "Model: \"cube_movement_amount_selection_model\"\n",
            "__________________________________________________________________________________________________\n",
            " Layer (type)                   Output Shape         Param #     Connected to                     \n",
            "==================================================================================================\n",
            " selected_face_input (InputLaye  [(None,)]           0           []                               \n",
            " r)                                                                                               \n",
            "                                                                                                  \n",
            " input_1 (InputLayer)           [(None, 64)]         0           []                               \n",
            "                                                                                                  \n",
            " tf_op_layer_default_policy_wk2  [(None, 6)]         0           ['selected_face_input[0][0]']    \n",
            " /one_hot (TensorFlowOpLayer)                                                                     \n",
            "                                                                                                  \n",
            " tf_op_layer_default_policy_wk2  [(None, 70)]        0           ['input_1[0][0]',                \n",
            " /concat (TensorFlowOpLayer)                                      'tf_op_layer_default_policy_wk2/\n",
            "                                                                 one_hot[0][0]']                  \n",
            "                                                                                                  \n",
            " dense_5 (Dense)                (None, 3)            213         ['tf_op_layer_default_policy_wk2/\n",
            "                                                                 concat[0][0]']                   \n",
            "                                                                                                  \n",
            "==================================================================================================\n",
            "Total params: 213\n",
            "Trainable params: 213\n",
            "Non-trainable params: 0\n",
            "__________________________________________________________________________________________________\n"
          ]
        },
        {
          "output_type": "stream",
          "name": "stderr",
          "text": [
            "2023-03-19 13:15:43,601\tWARNING catalog.py:563 -- Custom ModelV2 should accept all custom options as **kwargs, instead of expecting them in config['custom_model_config']!\n"
          ]
        },
        {
          "output_type": "stream",
          "name": "stdout",
          "text": [
            "Total parameters in model: 9884\n",
            "Model: \"encoding_model\"\n",
            "__________________________________________________________________________________________________\n",
            " Layer (type)                   Output Shape         Param #     Connected to                     \n",
            "==================================================================================================\n",
            " cube_input (InputLayer)        [(None, 6, 3, 3)]    0           []                               \n",
            "                                                                                                  \n",
            " step_count_input (InputLayer)  [(None, 1)]          0           []                               \n",
            "                                                                                                  \n",
            " embedding (Embedding)          (None, 6, 3, 3, 4)   24          ['cube_input[0][0]']             \n",
            "                                                                                                  \n",
            " tf_op_layer_default_policy/tru  [(None, 1)]         0           ['step_count_input[0][0]']       \n",
            " ediv (TensorFlowOpLayer)                                                                         \n",
            "                                                                                                  \n",
            " flatten (Flatten)              (None, 216)          0           ['embedding[0][0]']              \n",
            "                                                                                                  \n",
            " dense (Dense)                  (None, 4)            8           ['tf_op_layer_default_policy/true\n",
            "                                                                 div[0][0]']                      \n",
            "                                                                                                  \n",
            " concatenate (Concatenate)      (None, 220)          0           ['flatten[0][0]',                \n",
            "                                                                  'dense[0][0]']                  \n",
            "                                                                                                  \n",
            " dense_1 (Dense)                (None, 32)           7072        ['concatenate[0][0]']            \n",
            "                                                                                                  \n",
            " dense_2 (Dense)                (None, 64)           2112        ['dense_1[0][0]']                \n",
            "                                                                                                  \n",
            " dense_3 (Dense)                (None, 1)            65          ['dense_2[0][0]']                \n",
            "                                                                                                  \n",
            "==================================================================================================\n",
            "Total params: 9,281\n",
            "Trainable params: 9,281\n",
            "Non-trainable params: 0\n",
            "__________________________________________________________________________________________________\n",
            "Model: \"face_selection_model\"\n",
            "_________________________________________________________________\n",
            " Layer (type)                Output Shape              Param #   \n",
            "=================================================================\n",
            " input_1 (InputLayer)        [(None, 64)]              0         \n",
            "                                                                 \n",
            " dense_4 (Dense)             (None, 6)                 390       \n",
            "                                                                 \n",
            "=================================================================\n",
            "Total params: 390\n",
            "Trainable params: 390\n",
            "Non-trainable params: 0\n",
            "_________________________________________________________________\n",
            "Model: \"cube_movement_amount_selection_model\"\n",
            "__________________________________________________________________________________________________\n",
            " Layer (type)                   Output Shape         Param #     Connected to                     \n",
            "==================================================================================================\n",
            " selected_face_input (InputLaye  [(None,)]           0           []                               \n",
            " r)                                                                                               \n",
            "                                                                                                  \n",
            " input_1 (InputLayer)           [(None, 64)]         0           []                               \n",
            "                                                                                                  \n",
            " tf_op_layer_default_policy/one  [(None, 6)]         0           ['selected_face_input[0][0]']    \n",
            " _hot (TensorFlowOpLayer)                                                                         \n",
            "                                                                                                  \n",
            " tf_op_layer_default_policy/con  [(None, 70)]        0           ['input_1[0][0]',                \n",
            " cat (TensorFlowOpLayer)                                          'tf_op_layer_default_policy/one_\n",
            "                                                                 hot[0][0]']                      \n",
            "                                                                                                  \n",
            " dense_5 (Dense)                (None, 3)            213         ['tf_op_layer_default_policy/conc\n",
            "                                                                 at[0][0]']                       \n",
            "                                                                                                  \n",
            "==================================================================================================\n",
            "Total params: 213\n",
            "Trainable params: 213\n",
            "Non-trainable params: 0\n",
            "__________________________________________________________________________________________________\n"
          ]
        },
        {
          "output_type": "stream",
          "name": "stderr",
          "text": [
            "2023-03-19 13:15:47,234\tWARNING catalog.py:563 -- Custom ModelV2 should accept all custom options as **kwargs, instead of expecting them in config['custom_model_config']!\n"
          ]
        },
        {
          "output_type": "stream",
          "name": "stdout",
          "text": [
            "Total parameters in model: 9884\n"
          ]
        },
        {
          "output_type": "stream",
          "name": "stderr",
          "text": [
            "2023-03-19 13:15:50,057\tINFO trainable.py:172 -- Trainable.setup took 10.576 seconds. If your trainable is slow to initialize, consider setting reuse_actors=True to reduce actor creation overheads.\n",
            "2023-03-19 13:15:50,061\tWARNING util.py:66 -- Install gputil for GPU system monitoring.\n",
            ":actor_name:PPO\n"
          ]
        },
        {
          "output_type": "stream",
          "name": "stdout",
          "text": [
            ":actor_name:PPO\n"
          ]
        },
        {
          "output_type": "stream",
          "name": "stderr",
          "text": [
            "2023-03-19 13:15:50,396\tINFO trainable.py:790 -- Restored on 172.28.0.12 from checkpoint: /tmp/checkpoint_tmp_ff66ce1b195f41628e29c344e8897ad2\n",
            "2023-03-19 13:15:50,399\tINFO trainable.py:799 -- Current state after restoring: {'_iteration': 5, '_timesteps_total': None, '_time_total': 79.23502731323242, '_episodes_total': 2004}\n",
            "2023-03-19 13:15:50,408\tWARNING util.py:244 -- The `start_trial` operation took 11.054 s, which may be a performance bottleneck.\n"
          ]
        },
        {
          "output_type": "stream",
          "name": "stdout",
          "text": [
            "<IPython.core.display.HTML object>\n"
          ]
        },
        {
          "output_type": "stream",
          "name": "stderr",
          "text": [
            "2023-03-19 13:16:08,037\tWARNING util.py:244 -- The `process_trial_restore` operation took 17.619 s, which may be a performance bottleneck.\n"
          ]
        },
        {
          "output_type": "stream",
          "name": "stdout",
          "text": [
            "<IPython.core.display.HTML object>\n",
            "<IPython.core.display.HTML object>\n",
            "<IPython.core.display.HTML object>\n",
            "<IPython.core.display.HTML object>\n",
            "<IPython.core.display.HTML object>\n",
            "<IPython.core.display.HTML object>\n",
            "<IPython.core.display.HTML object>\n",
            "<IPython.core.display.HTML object>\n",
            "<IPython.core.display.HTML object>\n",
            "<IPython.core.display.HTML object>\n",
            "<IPython.core.display.HTML object>\n",
            "<IPython.core.display.HTML object>\n"
          ]
        },
        {
          "output_type": "stream",
          "name": "stderr",
          "text": [
            "2023-03-19 13:17:26,066\tINFO tune.py:762 -- Total run time: 106.92 seconds (106.73 seconds for the tuning loop).\n"
          ]
        },
        {
          "output_type": "stream",
          "name": "stdout",
          "text": [
            "<IPython.core.display.HTML object>\n",
            "Results are saved to path /root/ray_results/PPO/PPO_rubiks_cube_env_249f7_00000_0_2023-03-19_13-15-39\n"
          ]
        }
      ],
      "source": [
        "# maintain the code \n",
        "main_training(\n",
        "    step_limit=10,\n",
        "    reward_function_type=\"sparse\",\n",
        "    num_scrambles_on_reset=5,\n",
        "    model_config=CUSTOM_MODEL_CONFIG,\n",
        "    agent_name=\"PPO\",\n",
        "    num_iterations=11,\n",
        "    restore_path=\"~/ray_results/PPO/PPO_rubiks_cube_env_e6f01_00000_0_2023-03-19_13-06-46/checkpoint_000005/\",\n",
        ")"
      ]
    },
    {
      "cell_type": "markdown",
      "source": [
        "The Fifth Model with increased step_limit of 12 and 6 scrambles and 15 iterations"
      ],
      "metadata": {
        "id": "5H5yHDQ70a95"
      },
      "id": "5H5yHDQ70a95"
    },
    {
      "cell_type": "code",
      "source": [
        "# 0.608\n",
        "main_training(\n",
        "    step_limit=12,\n",
        "    reward_function_type=\"sparse\",\n",
        "    num_scrambles_on_reset=6,\n",
        "    model_config=CUSTOM_MODEL_CONFIG,\n",
        "    agent_name=\"PPO\",\n",
        "    num_iterations=15,\n",
        "    restore_path=\"~/ray_results/PPO/PPO_rubiks_cube_env_249f7_00000_0_2023-03-19_13-15-39/checkpoint_000010/\",\n",
        ")"
      ],
      "metadata": {
        "id": "Errpid7r0ECl",
        "outputId": "35c2b660-03c8-40d6-c638-6a19bf4a5fa7",
        "colab": {
          "base_uri": "https://localhost:8080/"
        }
      },
      "id": "Errpid7r0ECl",
      "execution_count": 17,
      "outputs": [
        {
          "output_type": "stream",
          "name": "stderr",
          "text": [
            "2023-03-19 13:18:33,577\tINFO worker.py:1529 -- Started a local Ray instance. View the dashboard at \u001b[1m\u001b[32m127.0.0.1:8265 \u001b[39m\u001b[22m\n"
          ]
        },
        {
          "output_type": "stream",
          "name": "stdout",
          "text": [
            "<IPython.core.display.HTML object>\n",
            ":task_name:bundle_reservation_check_func\n"
          ]
        },
        {
          "output_type": "stream",
          "name": "stderr",
          "text": [
            ":task_name:bundle_reservation_check_func\n"
          ]
        },
        {
          "output_type": "stream",
          "name": "stdout",
          "text": [
            ":actor_name:PPO\n",
            ":actor_name:RolloutWorker\n"
          ]
        },
        {
          "output_type": "stream",
          "name": "stderr",
          "text": [
            ":actor_name:PPO\n",
            ":actor_name:RolloutWorker\n"
          ]
        },
        {
          "output_type": "stream",
          "name": "stdout",
          "text": [
            "Model: \"encoding_model\"\n",
            "__________________________________________________________________________________________________\n",
            " Layer (type)                   Output Shape         Param #     Connected to                     \n",
            "==================================================================================================\n",
            " cube_input (InputLayer)        [(None, 6, 3, 3)]    0           []                               \n",
            "                                                                                                  \n",
            " step_count_input (InputLayer)  [(None, 1)]          0           []                               \n",
            "                                                                                                  \n",
            " embedding (Embedding)          (None, 6, 3, 3, 4)   24          ['cube_input[0][0]']             \n",
            "                                                                                                  \n",
            " tf_op_layer_default_policy_wk1  [(None, 1)]         0           ['step_count_input[0][0]']       \n",
            " /truediv (TensorFlowOpLayer)                                                                     \n",
            "                                                                                                  \n",
            " flatten (Flatten)              (None, 216)          0           ['embedding[0][0]']              \n",
            "                                                                                                  \n",
            " dense (Dense)                  (None, 4)            8           ['tf_op_layer_default_policy_wk1/\n",
            "                                                                 truediv[0][0]']                  \n",
            "                                                                                                  \n",
            " concatenate (Concatenate)      (None, 220)          0           ['flatten[0][0]',                \n",
            "                                                                  'dense[0][0]']                  \n",
            "                                                                                                  \n",
            " dense_1 (Dense)                (None, 32)           7072        ['concatenate[0][0]']            \n",
            "                                                                                                  \n",
            " dense_2 (Dense)                (None, 64)           2112        ['dense_1[0][0]']                \n",
            "                                                                                                  \n",
            " dense_3 (Dense)                (None, 1)            65          ['dense_2[0][0]']                \n",
            "                                                                                                  \n",
            "==================================================================================================\n",
            "Total params: 9,281\n",
            "Trainable params: 9,281\n",
            "Non-trainable params: 0\n",
            "__________________________________________________________________________________________________\n",
            "Model: \"face_selection_model\"\n",
            "_________________________________________________________________\n",
            " Layer (type)                Output Shape              Param #   \n",
            "=================================================================\n",
            " input_1 (InputLayer)        [(None, 64)]              0         \n",
            "                                                                 \n",
            " dense_4 (Dense)             (None, 6)                 390       \n",
            "                                                                 \n",
            "=================================================================\n",
            "Total params: 390\n",
            "Trainable params: 390\n",
            "Non-trainable params: 0\n",
            "_________________________________________________________________\n",
            "Model: \"cube_movement_amount_selection_model\"\n",
            "__________________________________________________________________________________________________\n",
            " Layer (type)                   Output Shape         Param #     Connected to                     \n",
            "==================================================================================================\n",
            " selected_face_input (InputLaye  [(None,)]           0           []                               \n",
            " r)                                                                                               \n",
            "                                                                                                  \n",
            " input_1 (InputLayer)           [(None, 64)]         0           []                               \n",
            "                                                                                                  \n",
            " tf_op_layer_default_policy_wk1  [(None, 6)]         0           ['selected_face_input[0][0]']    \n",
            " /one_hot (TensorFlowOpLayer)                                                                     \n",
            "                                                                                                  \n",
            " tf_op_layer_default_policy_wk1  [(None, 70)]        0           ['input_1[0][0]',                \n",
            " /concat (TensorFlowOpLayer)                                      'tf_op_layer_default_policy_wk1/\n",
            "                                                                 one_hot[0][0]']                  \n",
            "                                                                                                  \n",
            " dense_5 (Dense)                (None, 3)            213         ['tf_op_layer_default_policy_wk1/\n",
            "                                                                 concat[0][0]']                   \n",
            "                                                                                                  \n",
            "==================================================================================================\n",
            "Total params: 213\n",
            "Trainable params: 213\n",
            "Non-trainable params: 0\n",
            "__________________________________________________________________________________________________\n"
          ]
        },
        {
          "output_type": "stream",
          "name": "stderr",
          "text": [
            "2023-03-19 13:18:37,734\tWARNING catalog.py:563 -- Custom ModelV2 should accept all custom options as **kwargs, instead of expecting them in config['custom_model_config']!\n"
          ]
        },
        {
          "output_type": "stream",
          "name": "stdout",
          "text": [
            "Total parameters in model: 9884\n",
            ":actor_name:RolloutWorker\n"
          ]
        },
        {
          "output_type": "stream",
          "name": "stderr",
          "text": [
            ":actor_name:RolloutWorker\n"
          ]
        },
        {
          "output_type": "stream",
          "name": "stdout",
          "text": [
            "Model: \"encoding_model\"\n",
            "__________________________________________________________________________________________________\n",
            " Layer (type)                   Output Shape         Param #     Connected to                     \n",
            "==================================================================================================\n",
            " cube_input (InputLayer)        [(None, 6, 3, 3)]    0           []                               \n",
            "                                                                                                  \n",
            " step_count_input (InputLayer)  [(None, 1)]          0           []                               \n",
            "                                                                                                  \n",
            " embedding (Embedding)          (None, 6, 3, 3, 4)   24          ['cube_input[0][0]']             \n",
            "                                                                                                  \n",
            " tf_op_layer_default_policy_wk2  [(None, 1)]         0           ['step_count_input[0][0]']       \n",
            " /truediv (TensorFlowOpLayer)                                                                     \n",
            "                                                                                                  \n",
            " flatten (Flatten)              (None, 216)          0           ['embedding[0][0]']              \n",
            "                                                                                                  \n",
            " dense (Dense)                  (None, 4)            8           ['tf_op_layer_default_policy_wk2/\n",
            "                                                                 truediv[0][0]']                  \n",
            "                                                                                                  \n",
            " concatenate (Concatenate)      (None, 220)          0           ['flatten[0][0]',                \n",
            "                                                                  'dense[0][0]']                  \n",
            "                                                                                                  \n",
            " dense_1 (Dense)                (None, 32)           7072        ['concatenate[0][0]']            \n",
            "                                                                                                  \n",
            " dense_2 (Dense)                (None, 64)           2112        ['dense_1[0][0]']                \n",
            "                                                                                                  \n",
            " dense_3 (Dense)                (None, 1)            65          ['dense_2[0][0]']                \n",
            "                                                                                                  \n",
            "==================================================================================================\n",
            "Total params: 9,281\n",
            "Trainable params: 9,281\n",
            "Non-trainable params: 0\n",
            "__________________________________________________________________________________________________\n",
            "Model: \"face_selection_model\"\n",
            "_________________________________________________________________\n",
            " Layer (type)                Output Shape              Param #   \n",
            "=================================================================\n",
            " input_1 (InputLayer)        [(None, 64)]              0         \n",
            "                                                                 \n",
            " dense_4 (Dense)             (None, 6)                 390       \n",
            "                                                                 \n",
            "=================================================================\n",
            "Total params: 390\n",
            "Trainable params: 390\n",
            "Non-trainable params: 0\n",
            "_________________________________________________________________\n",
            "Model: \"cube_movement_amount_selection_model\"\n",
            "__________________________________________________________________________________________________\n",
            " Layer (type)                   Output Shape         Param #     Connected to                     \n",
            "==================================================================================================\n",
            " selected_face_input (InputLaye  [(None,)]           0           []                               \n",
            " r)                                                                                               \n",
            "                                                                                                  \n",
            " input_1 (InputLayer)           [(None, 64)]         0           []                               \n",
            "                                                                                                  \n",
            " tf_op_layer_default_policy_wk2  [(None, 6)]         0           ['selected_face_input[0][0]']    \n",
            " /one_hot (TensorFlowOpLayer)                                                                     \n",
            "                                                                                                  \n",
            " tf_op_layer_default_policy_wk2  [(None, 70)]        0           ['input_1[0][0]',                \n",
            " /concat (TensorFlowOpLayer)                                      'tf_op_layer_default_policy_wk2/\n",
            "                                                                 one_hot[0][0]']                  \n",
            "                                                                                                  \n",
            " dense_5 (Dense)                (None, 3)            213         ['tf_op_layer_default_policy_wk2/\n",
            "                                                                 concat[0][0]']                   \n",
            "                                                                                                  \n",
            "==================================================================================================\n",
            "Total params: 213\n",
            "Trainable params: 213\n",
            "Non-trainable params: 0\n",
            "__________________________________________________________________________________________________\n"
          ]
        },
        {
          "output_type": "stream",
          "name": "stderr",
          "text": [
            "2023-03-19 13:18:40,235\tWARNING catalog.py:563 -- Custom ModelV2 should accept all custom options as **kwargs, instead of expecting them in config['custom_model_config']!\n"
          ]
        },
        {
          "output_type": "stream",
          "name": "stdout",
          "text": [
            "Total parameters in model: 9884\n",
            "Model: \"encoding_model\"\n",
            "__________________________________________________________________________________________________\n",
            " Layer (type)                   Output Shape         Param #     Connected to                     \n",
            "==================================================================================================\n",
            " cube_input (InputLayer)        [(None, 6, 3, 3)]    0           []                               \n",
            "                                                                                                  \n",
            " step_count_input (InputLayer)  [(None, 1)]          0           []                               \n",
            "                                                                                                  \n",
            " embedding (Embedding)          (None, 6, 3, 3, 4)   24          ['cube_input[0][0]']             \n",
            "                                                                                                  \n",
            " tf_op_layer_default_policy/tru  [(None, 1)]         0           ['step_count_input[0][0]']       \n",
            " ediv (TensorFlowOpLayer)                                                                         \n",
            "                                                                                                  \n",
            " flatten (Flatten)              (None, 216)          0           ['embedding[0][0]']              \n",
            "                                                                                                  \n",
            " dense (Dense)                  (None, 4)            8           ['tf_op_layer_default_policy/true\n",
            "                                                                 div[0][0]']                      \n",
            "                                                                                                  \n",
            " concatenate (Concatenate)      (None, 220)          0           ['flatten[0][0]',                \n",
            "                                                                  'dense[0][0]']                  \n",
            "                                                                                                  \n",
            " dense_1 (Dense)                (None, 32)           7072        ['concatenate[0][0]']            \n",
            "                                                                                                  \n",
            " dense_2 (Dense)                (None, 64)           2112        ['dense_1[0][0]']                \n",
            "                                                                                                  \n",
            " dense_3 (Dense)                (None, 1)            65          ['dense_2[0][0]']                \n",
            "                                                                                                  \n",
            "==================================================================================================\n",
            "Total params: 9,281\n",
            "Trainable params: 9,281\n",
            "Non-trainable params: 0\n",
            "__________________________________________________________________________________________________\n",
            "Model: \"face_selection_model\"\n",
            "_________________________________________________________________\n",
            " Layer (type)                Output Shape              Param #   \n",
            "=================================================================\n",
            " input_1 (InputLayer)        [(None, 64)]              0         \n",
            "                                                                 \n",
            " dense_4 (Dense)             (None, 6)                 390       \n",
            "                                                                 \n",
            "=================================================================\n",
            "Total params: 390\n",
            "Trainable params: 390\n",
            "Non-trainable params: 0\n",
            "_________________________________________________________________\n",
            "Model: \"cube_movement_amount_selection_model\"\n",
            "__________________________________________________________________________________________________\n",
            " Layer (type)                   Output Shape         Param #     Connected to                     \n",
            "==================================================================================================\n",
            " selected_face_input (InputLaye  [(None,)]           0           []                               \n",
            " r)                                                                                               \n",
            "                                                                                                  \n",
            " input_1 (InputLayer)           [(None, 64)]         0           []                               \n",
            "                                                                                                  \n",
            " tf_op_layer_default_policy/one  [(None, 6)]         0           ['selected_face_input[0][0]']    \n",
            " _hot (TensorFlowOpLayer)                                                                         \n",
            "                                                                                                  \n",
            " tf_op_layer_default_policy/con  [(None, 70)]        0           ['input_1[0][0]',                \n",
            " cat (TensorFlowOpLayer)                                          'tf_op_layer_default_policy/one_\n",
            "                                                                 hot[0][0]']                      \n",
            "                                                                                                  \n",
            " dense_5 (Dense)                (None, 3)            213         ['tf_op_layer_default_policy/conc\n",
            "                                                                 at[0][0]']                       \n",
            "                                                                                                  \n",
            "==================================================================================================\n",
            "Total params: 213\n",
            "Trainable params: 213\n",
            "Non-trainable params: 0\n",
            "__________________________________________________________________________________________________\n"
          ]
        },
        {
          "output_type": "stream",
          "name": "stderr",
          "text": [
            "2023-03-19 13:18:42,730\tWARNING catalog.py:563 -- Custom ModelV2 should accept all custom options as **kwargs, instead of expecting them in config['custom_model_config']!\n"
          ]
        },
        {
          "output_type": "stream",
          "name": "stdout",
          "text": [
            "Total parameters in model: 9884\n"
          ]
        },
        {
          "output_type": "stream",
          "name": "stderr",
          "text": [
            "2023-03-19 13:18:44,976\tWARNING util.py:66 -- Install gputil for GPU system monitoring.\n",
            ":actor_name:PPO\n"
          ]
        },
        {
          "output_type": "stream",
          "name": "stdout",
          "text": [
            ":actor_name:PPO\n"
          ]
        },
        {
          "output_type": "stream",
          "name": "stderr",
          "text": [
            "2023-03-19 13:18:45,328\tINFO trainable.py:790 -- Restored on 172.28.0.12 from checkpoint: /tmp/checkpoint_tmp_6371799f4caa41dc9cfc7248545d09d2\n",
            "2023-03-19 13:18:45,331\tINFO trainable.py:799 -- Current state after restoring: {'_iteration': 10, '_timesteps_total': None, '_time_total': 157.85961365699768, '_episodes_total': 4004}\n",
            "2023-03-19 13:18:45,341\tWARNING util.py:244 -- The `start_trial` operation took 8.667 s, which may be a performance bottleneck.\n"
          ]
        },
        {
          "output_type": "stream",
          "name": "stdout",
          "text": [
            "<IPython.core.display.HTML object>\n"
          ]
        },
        {
          "output_type": "stream",
          "name": "stderr",
          "text": [
            "2023-03-19 13:19:01,917\tWARNING util.py:244 -- The `process_trial_restore` operation took 16.565 s, which may be a performance bottleneck.\n"
          ]
        },
        {
          "output_type": "stream",
          "name": "stdout",
          "text": [
            "<IPython.core.display.HTML object>\n",
            "<IPython.core.display.HTML object>\n",
            "<IPython.core.display.HTML object>\n",
            "<IPython.core.display.HTML object>\n",
            "<IPython.core.display.HTML object>\n",
            "<IPython.core.display.HTML object>\n",
            "<IPython.core.display.HTML object>\n",
            "<IPython.core.display.HTML object>\n",
            "<IPython.core.display.HTML object>\n",
            "<IPython.core.display.HTML object>\n"
          ]
        },
        {
          "output_type": "stream",
          "name": "stderr",
          "text": [
            "2023-03-19 13:20:05,945\tINFO tune.py:762 -- Total run time: 89.48 seconds (89.24 seconds for the tuning loop).\n"
          ]
        },
        {
          "output_type": "stream",
          "name": "stdout",
          "text": [
            "<IPython.core.display.HTML object>\n",
            "Results are saved to path /root/ray_results/PPO/PPO_rubiks_cube_env_8e501_00000_0_2023-03-19_13-18-36\n"
          ]
        }
      ]
    },
    {
      "cell_type": "markdown",
      "source": [
        "The sixth Model with step_limit of 15 and number of scrambles to 7 with 20 iterations"
      ],
      "metadata": {
        "id": "ZrJhDCuV05qG"
      },
      "id": "ZrJhDCuV05qG"
    },
    {
      "cell_type": "code",
      "source": [
        "main_training(\n",
        "    step_limit=12,\n",
        "    reward_function_type=\"sparse\",\n",
        "    num_scrambles_on_reset=6,\n",
        "    model_config=CUSTOM_MODEL_CONFIG,\n",
        "    agent_name=\"PPO\",\n",
        "    num_iterations=15,\n",
        "    restore_path=\"~/ray_results/PPO/PPO_rubiks_cube_env_8e501_00000_0_2023-03-19_13-18-36/checkpoint_000012/\",\n",
        ")"
      ],
      "metadata": {
        "id": "L7sL_dAVlRbp",
        "outputId": "a75e27da-a7b7-4335-ad29-0767df9f22d2",
        "colab": {
          "base_uri": "https://localhost:8080/"
        }
      },
      "id": "L7sL_dAVlRbp",
      "execution_count": 26,
      "outputs": [
        {
          "output_type": "stream",
          "name": "stderr",
          "text": [
            "2023-03-19 13:29:19,371\tINFO worker.py:1529 -- Started a local Ray instance. View the dashboard at \u001b[1m\u001b[32m127.0.0.1:8265 \u001b[39m\u001b[22m\n"
          ]
        },
        {
          "output_type": "stream",
          "name": "stdout",
          "text": [
            "<IPython.core.display.HTML object>\n",
            ":task_name:bundle_reservation_check_func\n"
          ]
        },
        {
          "output_type": "stream",
          "name": "stderr",
          "text": [
            ":task_name:bundle_reservation_check_func\n"
          ]
        },
        {
          "output_type": "stream",
          "name": "stdout",
          "text": [
            ":actor_name:PPO\n"
          ]
        },
        {
          "output_type": "stream",
          "name": "stderr",
          "text": [
            ":actor_name:PPO\n"
          ]
        },
        {
          "output_type": "stream",
          "name": "stdout",
          "text": [
            ":actor_name:RolloutWorker\n"
          ]
        },
        {
          "output_type": "stream",
          "name": "stderr",
          "text": [
            ":actor_name:RolloutWorker\n"
          ]
        },
        {
          "output_type": "stream",
          "name": "stdout",
          "text": [
            "Model: \"encoding_model\"\n",
            "__________________________________________________________________________________________________\n",
            " Layer (type)                   Output Shape         Param #     Connected to                     \n",
            "==================================================================================================\n",
            " cube_input (InputLayer)        [(None, 6, 3, 3)]    0           []                               \n",
            "                                                                                                  \n",
            " step_count_input (InputLayer)  [(None, 1)]          0           []                               \n",
            "                                                                                                  \n",
            " embedding (Embedding)          (None, 6, 3, 3, 4)   24          ['cube_input[0][0]']             \n",
            "                                                                                                  \n",
            " tf_op_layer_default_policy_wk1  [(None, 1)]         0           ['step_count_input[0][0]']       \n",
            " /truediv (TensorFlowOpLayer)                                                                     \n",
            "                                                                                                  \n",
            " flatten (Flatten)              (None, 216)          0           ['embedding[0][0]']              \n",
            "                                                                                                  \n",
            " dense (Dense)                  (None, 4)            8           ['tf_op_layer_default_policy_wk1/\n",
            "                                                                 truediv[0][0]']                  \n",
            "                                                                                                  \n",
            " concatenate (Concatenate)      (None, 220)          0           ['flatten[0][0]',                \n",
            "                                                                  'dense[0][0]']                  \n",
            "                                                                                                  \n",
            " dense_1 (Dense)                (None, 32)           7072        ['concatenate[0][0]']            \n",
            "                                                                                                  \n",
            " dense_2 (Dense)                (None, 64)           2112        ['dense_1[0][0]']                \n",
            "                                                                                                  \n",
            " dense_3 (Dense)                (None, 1)            65          ['dense_2[0][0]']                \n",
            "                                                                                                  \n",
            "==================================================================================================\n",
            "Total params: 9,281\n",
            "Trainable params: 9,281\n",
            "Non-trainable params: 0\n",
            "__________________________________________________________________________________________________\n",
            "Model: \"face_selection_model\"\n",
            "_________________________________________________________________\n",
            " Layer (type)                Output Shape              Param #   \n",
            "=================================================================\n",
            " input_1 (InputLayer)        [(None, 64)]              0         \n",
            "                                                                 \n",
            " dense_4 (Dense)             (None, 6)                 390       \n",
            "                                                                 \n",
            "=================================================================\n",
            "Total params: 390\n",
            "Trainable params: 390\n",
            "Non-trainable params: 0\n",
            "_________________________________________________________________\n",
            "Model: \"cube_movement_amount_selection_model\"\n",
            "__________________________________________________________________________________________________\n",
            " Layer (type)                   Output Shape         Param #     Connected to                     \n",
            "==================================================================================================\n",
            " selected_face_input (InputLaye  [(None,)]           0           []                               \n",
            " r)                                                                                               \n",
            "                                                                                                  \n",
            " input_1 (InputLayer)           [(None, 64)]         0           []                               \n",
            "                                                                                                  \n",
            " tf_op_layer_default_policy_wk1  [(None, 6)]         0           ['selected_face_input[0][0]']    \n",
            " /one_hot (TensorFlowOpLayer)                                                                     \n",
            "                                                                                                  \n",
            " tf_op_layer_default_policy_wk1  [(None, 70)]        0           ['input_1[0][0]',                \n",
            " /concat (TensorFlowOpLayer)                                      'tf_op_layer_default_policy_wk1/\n",
            "                                                                 one_hot[0][0]']                  \n",
            "                                                                                                  \n",
            " dense_5 (Dense)                (None, 3)            213         ['tf_op_layer_default_policy_wk1/\n",
            "                                                                 concat[0][0]']                   \n",
            "                                                                                                  \n",
            "==================================================================================================\n",
            "Total params: 213\n",
            "Trainable params: 213\n",
            "Non-trainable params: 0\n",
            "__________________________________________________________________________________________________\n"
          ]
        },
        {
          "output_type": "stream",
          "name": "stderr",
          "text": [
            "2023-03-19 13:29:24,243\tWARNING catalog.py:563 -- Custom ModelV2 should accept all custom options as **kwargs, instead of expecting them in config['custom_model_config']!\n"
          ]
        },
        {
          "output_type": "stream",
          "name": "stdout",
          "text": [
            "Total parameters in model: 9884\n",
            ":actor_name:RolloutWorker\n"
          ]
        },
        {
          "output_type": "stream",
          "name": "stderr",
          "text": [
            ":actor_name:RolloutWorker\n"
          ]
        },
        {
          "output_type": "stream",
          "name": "stdout",
          "text": [
            "Model: \"encoding_model\"\n",
            "__________________________________________________________________________________________________\n",
            " Layer (type)                   Output Shape         Param #     Connected to                     \n",
            "==================================================================================================\n",
            " cube_input (InputLayer)        [(None, 6, 3, 3)]    0           []                               \n",
            "                                                                                                  \n",
            " step_count_input (InputLayer)  [(None, 1)]          0           []                               \n",
            "                                                                                                  \n",
            " embedding (Embedding)          (None, 6, 3, 3, 4)   24          ['cube_input[0][0]']             \n",
            "                                                                                                  \n",
            " tf_op_layer_default_policy_wk2  [(None, 1)]         0           ['step_count_input[0][0]']       \n",
            " /truediv (TensorFlowOpLayer)                                                                     \n",
            "                                                                                                  \n",
            " flatten (Flatten)              (None, 216)          0           ['embedding[0][0]']              \n",
            "                                                                                                  \n",
            " dense (Dense)                  (None, 4)            8           ['tf_op_layer_default_policy_wk2/\n",
            "                                                                 truediv[0][0]']                  \n",
            "                                                                                                  \n",
            " concatenate (Concatenate)      (None, 220)          0           ['flatten[0][0]',                \n",
            "                                                                  'dense[0][0]']                  \n",
            "                                                                                                  \n",
            " dense_1 (Dense)                (None, 32)           7072        ['concatenate[0][0]']            \n",
            "                                                                                                  \n",
            " dense_2 (Dense)                (None, 64)           2112        ['dense_1[0][0]']                \n",
            "                                                                                                  \n",
            " dense_3 (Dense)                (None, 1)            65          ['dense_2[0][0]']                \n",
            "                                                                                                  \n",
            "==================================================================================================\n",
            "Total params: 9,281\n",
            "Trainable params: 9,281\n",
            "Non-trainable params: 0\n",
            "__________________________________________________________________________________________________\n",
            "Model: \"face_selection_model\"\n",
            "_________________________________________________________________\n",
            " Layer (type)                Output Shape              Param #   \n",
            "=================================================================\n",
            " input_1 (InputLayer)        [(None, 64)]              0         \n",
            "                                                                 \n",
            " dense_4 (Dense)             (None, 6)                 390       \n",
            "                                                                 \n",
            "=================================================================\n",
            "Total params: 390\n",
            "Trainable params: 390\n",
            "Non-trainable params: 0\n",
            "_________________________________________________________________\n",
            "Model: \"cube_movement_amount_selection_model\"\n",
            "__________________________________________________________________________________________________\n",
            " Layer (type)                   Output Shape         Param #     Connected to                     \n",
            "==================================================================================================\n",
            " selected_face_input (InputLaye  [(None,)]           0           []                               \n",
            " r)                                                                                               \n",
            "                                                                                                  \n",
            " input_1 (InputLayer)           [(None, 64)]         0           []                               \n",
            "                                                                                                  \n",
            " tf_op_layer_default_policy_wk2  [(None, 6)]         0           ['selected_face_input[0][0]']    \n",
            " /one_hot (TensorFlowOpLayer)                                                                     \n",
            "                                                                                                  \n",
            " tf_op_layer_default_policy_wk2  [(None, 70)]        0           ['input_1[0][0]',                \n",
            " /concat (TensorFlowOpLayer)                                      'tf_op_layer_default_policy_wk2/\n",
            "                                                                 one_hot[0][0]']                  \n",
            "                                                                                                  \n",
            " dense_5 (Dense)                (None, 3)            213         ['tf_op_layer_default_policy_wk2/\n",
            "                                                                 concat[0][0]']                   \n",
            "                                                                                                  \n",
            "==================================================================================================\n",
            "Total params: 213\n",
            "Trainable params: 213\n",
            "Non-trainable params: 0\n",
            "__________________________________________________________________________________________________\n",
            "Total parameters in model: 9884\n"
          ]
        },
        {
          "output_type": "stream",
          "name": "stderr",
          "text": [
            "2023-03-19 13:29:28,152\tWARNING catalog.py:563 -- Custom ModelV2 should accept all custom options as **kwargs, instead of expecting them in config['custom_model_config']!\n"
          ]
        },
        {
          "output_type": "stream",
          "name": "stdout",
          "text": [
            "Model: \"encoding_model\"\n",
            "__________________________________________________________________________________________________\n",
            " Layer (type)                   Output Shape         Param #     Connected to                     \n",
            "==================================================================================================\n",
            " cube_input (InputLayer)        [(None, 6, 3, 3)]    0           []                               \n",
            "                                                                                                  \n",
            " step_count_input (InputLayer)  [(None, 1)]          0           []                               \n",
            "                                                                                                  \n",
            " embedding (Embedding)          (None, 6, 3, 3, 4)   24          ['cube_input[0][0]']             \n",
            "                                                                                                  \n",
            " tf_op_layer_default_policy/tru  [(None, 1)]         0           ['step_count_input[0][0]']       \n",
            " ediv (TensorFlowOpLayer)                                                                         \n",
            "                                                                                                  \n",
            " flatten (Flatten)              (None, 216)          0           ['embedding[0][0]']              \n",
            "                                                                                                  \n",
            " dense (Dense)                  (None, 4)            8           ['tf_op_layer_default_policy/true\n",
            "                                                                 div[0][0]']                      \n",
            "                                                                                                  \n",
            " concatenate (Concatenate)      (None, 220)          0           ['flatten[0][0]',                \n",
            "                                                                  'dense[0][0]']                  \n",
            "                                                                                                  \n",
            " dense_1 (Dense)                (None, 32)           7072        ['concatenate[0][0]']            \n",
            "                                                                                                  \n",
            " dense_2 (Dense)                (None, 64)           2112        ['dense_1[0][0]']                \n",
            "                                                                                                  \n",
            " dense_3 (Dense)                (None, 1)            65          ['dense_2[0][0]']                \n",
            "                                                                                                  \n",
            "==================================================================================================\n",
            "Total params: 9,281\n",
            "Trainable params: 9,281\n",
            "Non-trainable params: 0\n",
            "__________________________________________________________________________________________________\n",
            "Model: \"face_selection_model\"\n",
            "_________________________________________________________________\n",
            " Layer (type)                Output Shape              Param #   \n",
            "=================================================================\n",
            " input_1 (InputLayer)        [(None, 64)]              0         \n",
            "                                                                 \n",
            " dense_4 (Dense)             (None, 6)                 390       \n",
            "                                                                 \n",
            "=================================================================\n",
            "Total params: 390\n",
            "Trainable params: 390\n",
            "Non-trainable params: 0\n",
            "_________________________________________________________________\n",
            "Model: \"cube_movement_amount_selection_model\"\n",
            "__________________________________________________________________________________________________\n",
            " Layer (type)                   Output Shape         Param #     Connected to                     \n",
            "==================================================================================================\n",
            " selected_face_input (InputLaye  [(None,)]           0           []                               \n",
            " r)                                                                                               \n",
            "                                                                                                  \n",
            " input_1 (InputLayer)           [(None, 64)]         0           []                               \n",
            "                                                                                                  \n",
            " tf_op_layer_default_policy/one  [(None, 6)]         0           ['selected_face_input[0][0]']    \n",
            " _hot (TensorFlowOpLayer)                                                                         \n",
            "                                                                                                  \n",
            " tf_op_layer_default_policy/con  [(None, 70)]        0           ['input_1[0][0]',                \n",
            " cat (TensorFlowOpLayer)                                          'tf_op_layer_default_policy/one_\n",
            "                                                                 hot[0][0]']                      \n",
            "                                                                                                  \n",
            " dense_5 (Dense)                (None, 3)            213         ['tf_op_layer_default_policy/conc\n",
            "                                                                 at[0][0]']                       \n",
            "                                                                                                  \n",
            "==================================================================================================\n",
            "Total params: 213\n",
            "Trainable params: 213\n",
            "Non-trainable params: 0\n",
            "__________________________________________________________________________________________________\n"
          ]
        },
        {
          "output_type": "stream",
          "name": "stderr",
          "text": [
            "2023-03-19 13:29:30,906\tWARNING catalog.py:563 -- Custom ModelV2 should accept all custom options as **kwargs, instead of expecting them in config['custom_model_config']!\n"
          ]
        },
        {
          "output_type": "stream",
          "name": "stdout",
          "text": [
            "Total parameters in model: 9884\n"
          ]
        },
        {
          "output_type": "stream",
          "name": "stderr",
          "text": [
            "2023-03-19 13:29:33,256\tINFO trainable.py:172 -- Trainable.setup took 10.206 seconds. If your trainable is slow to initialize, consider setting reuse_actors=True to reduce actor creation overheads.\n",
            "2023-03-19 13:29:33,260\tWARNING util.py:66 -- Install gputil for GPU system monitoring.\n",
            ":actor_name:PPO\n"
          ]
        },
        {
          "output_type": "stream",
          "name": "stdout",
          "text": [
            ":actor_name:PPO\n"
          ]
        },
        {
          "output_type": "stream",
          "name": "stderr",
          "text": [
            "2023-03-19 13:29:33,622\tINFO trainable.py:790 -- Restored on 172.28.0.12 from checkpoint: /tmp/checkpoint_tmp_fc4c8f370608483a8f202585dbe7d429\n",
            "2023-03-19 13:29:33,628\tINFO trainable.py:799 -- Current state after restoring: {'_iteration': 12, '_timesteps_total': None, '_time_total': 189.83868741989136, '_episodes_total': 4670}\n",
            "2023-03-19 13:29:33,639\tWARNING util.py:244 -- The `start_trial` operation took 10.843 s, which may be a performance bottleneck.\n"
          ]
        },
        {
          "output_type": "stream",
          "name": "stdout",
          "text": [
            "<IPython.core.display.HTML object>\n"
          ]
        },
        {
          "output_type": "stream",
          "name": "stderr",
          "text": [
            "2023-03-19 13:29:50,539\tWARNING util.py:244 -- The `process_trial_restore` operation took 16.887 s, which may be a performance bottleneck.\n"
          ]
        },
        {
          "output_type": "stream",
          "name": "stdout",
          "text": [
            "<IPython.core.display.HTML object>\n",
            "<IPython.core.display.HTML object>\n",
            "<IPython.core.display.HTML object>\n",
            "<IPython.core.display.HTML object>\n",
            "<IPython.core.display.HTML object>\n",
            "<IPython.core.display.HTML object>\n",
            "<IPython.core.display.HTML object>\n"
          ]
        },
        {
          "output_type": "stream",
          "name": "stderr",
          "text": [
            "2023-03-19 13:30:24,698\tINFO tune.py:762 -- Total run time: 62.18 seconds (61.91 seconds for the tuning loop).\n"
          ]
        },
        {
          "output_type": "stream",
          "name": "stdout",
          "text": [
            "Results are saved to path /root/ray_results/PPO/PPO_rubiks_cube_env_0f6ca_00000_0_2023-03-19_13-29-22\n"
          ]
        }
      ]
    },
    {
      "cell_type": "code",
      "source": [
        "main_training(\n",
        "    step_limit=15,\n",
        "    reward_function_type=\"sparse\",\n",
        "    num_scrambles_on_reset=7,\n",
        "    model_config=CUSTOM_MODEL_CONFIG,\n",
        "    agent_name=\"PPO\",\n",
        "    num_iterations=17,\n",
        "    restore_path=\"~/ray_results/PPO/PPO_rubiks_cube_env_0f6ca_00000_0_2023-03-19_13-29-22/checkpoint_000013/\",\n",
        ")"
      ],
      "metadata": {
        "id": "ruemRxU90WYX",
        "outputId": "3b797110-0775-4979-c567-99e6490b2732",
        "colab": {
          "base_uri": "https://localhost:8080/"
        }
      },
      "id": "ruemRxU90WYX",
      "execution_count": 34,
      "outputs": [
        {
          "output_type": "stream",
          "name": "stderr",
          "text": [
            "2023-03-19 13:41:54,336\tINFO worker.py:1529 -- Started a local Ray instance. View the dashboard at \u001b[1m\u001b[32m127.0.0.1:8265 \u001b[39m\u001b[22m\n"
          ]
        },
        {
          "output_type": "stream",
          "name": "stdout",
          "text": [
            "<IPython.core.display.HTML object>\n",
            ":task_name:bundle_reservation_check_func\n"
          ]
        },
        {
          "output_type": "stream",
          "name": "stderr",
          "text": [
            ":task_name:bundle_reservation_check_func\n",
            ":actor_name:PPO\n"
          ]
        },
        {
          "output_type": "stream",
          "name": "stdout",
          "text": [
            ":actor_name:PPO\n",
            ":actor_name:RolloutWorker\n"
          ]
        },
        {
          "output_type": "stream",
          "name": "stderr",
          "text": [
            ":actor_name:RolloutWorker\n"
          ]
        },
        {
          "output_type": "stream",
          "name": "stdout",
          "text": [
            "Model: \"encoding_model\"\n",
            "__________________________________________________________________________________________________\n",
            " Layer (type)                   Output Shape         Param #     Connected to                     \n",
            "==================================================================================================\n",
            " cube_input (InputLayer)        [(None, 6, 3, 3)]    0           []                               \n",
            "                                                                                                  \n",
            " step_count_input (InputLayer)  [(None, 1)]          0           []                               \n",
            "                                                                                                  \n",
            " embedding (Embedding)          (None, 6, 3, 3, 4)   24          ['cube_input[0][0]']             \n",
            "                                                                                                  \n",
            " tf_op_layer_default_policy_wk1  [(None, 1)]         0           ['step_count_input[0][0]']       \n",
            " /truediv (TensorFlowOpLayer)                                                                     \n",
            "                                                                                                  \n",
            " flatten (Flatten)              (None, 216)          0           ['embedding[0][0]']              \n",
            "                                                                                                  \n",
            " dense (Dense)                  (None, 4)            8           ['tf_op_layer_default_policy_wk1/\n",
            "                                                                 truediv[0][0]']                  \n",
            "                                                                                                  \n",
            " concatenate (Concatenate)      (None, 220)          0           ['flatten[0][0]',                \n",
            "                                                                  'dense[0][0]']                  \n",
            "                                                                                                  \n",
            " dense_1 (Dense)                (None, 32)           7072        ['concatenate[0][0]']            \n",
            "                                                                                                  \n",
            " dense_2 (Dense)                (None, 64)           2112        ['dense_1[0][0]']                \n",
            "                                                                                                  \n",
            " dense_3 (Dense)                (None, 1)            65          ['dense_2[0][0]']                \n",
            "                                                                                                  \n",
            "==================================================================================================\n",
            "Total params: 9,281\n",
            "Trainable params: 9,281\n",
            "Non-trainable params: 0\n",
            "__________________________________________________________________________________________________\n",
            "Model: \"face_selection_model\"\n",
            "_________________________________________________________________\n",
            " Layer (type)                Output Shape              Param #   \n",
            "=================================================================\n",
            " input_1 (InputLayer)        [(None, 64)]              0         \n",
            "                                                                 \n",
            " dense_4 (Dense)             (None, 6)                 390       \n",
            "                                                                 \n",
            "=================================================================\n",
            "Total params: 390\n",
            "Trainable params: 390\n",
            "Non-trainable params: 0\n",
            "_________________________________________________________________\n",
            "Model: \"cube_movement_amount_selection_model\"\n",
            "__________________________________________________________________________________________________\n",
            " Layer (type)                   Output Shape         Param #     Connected to                     \n",
            "==================================================================================================\n",
            " selected_face_input (InputLaye  [(None,)]           0           []                               \n",
            " r)                                                                                               \n",
            "                                                                                                  \n",
            " input_1 (InputLayer)           [(None, 64)]         0           []                               \n",
            "                                                                                                  \n",
            " tf_op_layer_default_policy_wk1  [(None, 6)]         0           ['selected_face_input[0][0]']    \n",
            " /one_hot (TensorFlowOpLayer)                                                                     \n",
            "                                                                                                  \n",
            " tf_op_layer_default_policy_wk1  [(None, 70)]        0           ['input_1[0][0]',                \n",
            " /concat (TensorFlowOpLayer)                                      'tf_op_layer_default_policy_wk1/\n",
            "                                                                 one_hot[0][0]']                  \n",
            "                                                                                                  \n",
            " dense_5 (Dense)                (None, 3)            213         ['tf_op_layer_default_policy_wk1/\n",
            "                                                                 concat[0][0]']                   \n",
            "                                                                                                  \n",
            "==================================================================================================\n",
            "Total params: 213\n",
            "Trainable params: 213\n",
            "Non-trainable params: 0\n",
            "__________________________________________________________________________________________________\n"
          ]
        },
        {
          "output_type": "stream",
          "name": "stderr",
          "text": [
            "2023-03-19 13:41:57,743\tWARNING catalog.py:563 -- Custom ModelV2 should accept all custom options as **kwargs, instead of expecting them in config['custom_model_config']!\n"
          ]
        },
        {
          "output_type": "stream",
          "name": "stdout",
          "text": [
            "Total parameters in model: 9884\n",
            ":actor_name:RolloutWorker\n"
          ]
        },
        {
          "output_type": "stream",
          "name": "stderr",
          "text": [
            ":actor_name:RolloutWorker\n"
          ]
        },
        {
          "output_type": "stream",
          "name": "stdout",
          "text": [
            "Model: \"encoding_model\"\n",
            "__________________________________________________________________________________________________\n",
            " Layer (type)                   Output Shape         Param #     Connected to                     \n",
            "==================================================================================================\n",
            " cube_input (InputLayer)        [(None, 6, 3, 3)]    0           []                               \n",
            "                                                                                                  \n",
            " step_count_input (InputLayer)  [(None, 1)]          0           []                               \n",
            "                                                                                                  \n",
            " embedding (Embedding)          (None, 6, 3, 3, 4)   24          ['cube_input[0][0]']             \n",
            "                                                                                                  \n",
            " tf_op_layer_default_policy_wk2  [(None, 1)]         0           ['step_count_input[0][0]']       \n",
            " /truediv (TensorFlowOpLayer)                                                                     \n",
            "                                                                                                  \n",
            " flatten (Flatten)              (None, 216)          0           ['embedding[0][0]']              \n",
            "                                                                                                  \n",
            " dense (Dense)                  (None, 4)            8           ['tf_op_layer_default_policy_wk2/\n",
            "                                                                 truediv[0][0]']                  \n",
            "                                                                                                  \n",
            " concatenate (Concatenate)      (None, 220)          0           ['flatten[0][0]',                \n",
            "                                                                  'dense[0][0]']                  \n",
            "                                                                                                  \n",
            " dense_1 (Dense)                (None, 32)           7072        ['concatenate[0][0]']            \n",
            "                                                                                                  \n",
            " dense_2 (Dense)                (None, 64)           2112        ['dense_1[0][0]']                \n",
            "                                                                                                  \n",
            " dense_3 (Dense)                (None, 1)            65          ['dense_2[0][0]']                \n",
            "                                                                                                  \n",
            "==================================================================================================\n",
            "Total params: 9,281\n",
            "Trainable params: 9,281\n",
            "Non-trainable params: 0\n",
            "__________________________________________________________________________________________________\n",
            "Model: \"face_selection_model\"\n",
            "_________________________________________________________________\n",
            " Layer (type)                Output Shape              Param #   \n",
            "=================================================================\n",
            " input_1 (InputLayer)        [(None, 64)]              0         \n",
            "                                                                 \n",
            " dense_4 (Dense)             (None, 6)                 390       \n",
            "                                                                 \n",
            "=================================================================\n",
            "Total params: 390\n",
            "Trainable params: 390\n",
            "Non-trainable params: 0\n",
            "_________________________________________________________________\n",
            "Model: \"cube_movement_amount_selection_model\"\n",
            "__________________________________________________________________________________________________\n",
            " Layer (type)                   Output Shape         Param #     Connected to                     \n",
            "==================================================================================================\n",
            " selected_face_input (InputLaye  [(None,)]           0           []                               \n",
            " r)                                                                                               \n",
            "                                                                                                  \n",
            " input_1 (InputLayer)           [(None, 64)]         0           []                               \n",
            "                                                                                                  \n",
            " tf_op_layer_default_policy_wk2  [(None, 6)]         0           ['selected_face_input[0][0]']    \n",
            " /one_hot (TensorFlowOpLayer)                                                                     \n",
            "                                                                                                  \n",
            " tf_op_layer_default_policy_wk2  [(None, 70)]        0           ['input_1[0][0]',                \n",
            " /concat (TensorFlowOpLayer)                                      'tf_op_layer_default_policy_wk2/\n",
            "                                                                 one_hot[0][0]']                  \n",
            "                                                                                                  \n",
            " dense_5 (Dense)                (None, 3)            213         ['tf_op_layer_default_policy_wk2/\n",
            "                                                                 concat[0][0]']                   \n",
            "                                                                                                  \n",
            "==================================================================================================\n",
            "Total params: 213\n",
            "Trainable params: 213\n",
            "Non-trainable params: 0\n",
            "__________________________________________________________________________________________________\n"
          ]
        },
        {
          "output_type": "stream",
          "name": "stderr",
          "text": [
            "2023-03-19 13:42:00,299\tWARNING catalog.py:563 -- Custom ModelV2 should accept all custom options as **kwargs, instead of expecting them in config['custom_model_config']!\n"
          ]
        },
        {
          "output_type": "stream",
          "name": "stdout",
          "text": [
            "Total parameters in model: 9884\n",
            "Model: \"encoding_model\"\n",
            "__________________________________________________________________________________________________\n",
            " Layer (type)                   Output Shape         Param #     Connected to                     \n",
            "==================================================================================================\n",
            " cube_input (InputLayer)        [(None, 6, 3, 3)]    0           []                               \n",
            "                                                                                                  \n",
            " step_count_input (InputLayer)  [(None, 1)]          0           []                               \n",
            "                                                                                                  \n",
            " embedding (Embedding)          (None, 6, 3, 3, 4)   24          ['cube_input[0][0]']             \n",
            "                                                                                                  \n",
            " tf_op_layer_default_policy/tru  [(None, 1)]         0           ['step_count_input[0][0]']       \n",
            " ediv (TensorFlowOpLayer)                                                                         \n",
            "                                                                                                  \n",
            " flatten (Flatten)              (None, 216)          0           ['embedding[0][0]']              \n",
            "                                                                                                  \n",
            " dense (Dense)                  (None, 4)            8           ['tf_op_layer_default_policy/true\n",
            "                                                                 div[0][0]']                      \n",
            "                                                                                                  \n",
            " concatenate (Concatenate)      (None, 220)          0           ['flatten[0][0]',                \n",
            "                                                                  'dense[0][0]']                  \n",
            "                                                                                                  \n",
            " dense_1 (Dense)                (None, 32)           7072        ['concatenate[0][0]']            \n",
            "                                                                                                  \n",
            " dense_2 (Dense)                (None, 64)           2112        ['dense_1[0][0]']                \n",
            "                                                                                                  \n",
            " dense_3 (Dense)                (None, 1)            65          ['dense_2[0][0]']                \n",
            "                                                                                                  \n",
            "==================================================================================================\n",
            "Total params: 9,281\n",
            "Trainable params: 9,281\n",
            "Non-trainable params: 0\n",
            "__________________________________________________________________________________________________\n",
            "Model: \"face_selection_model\"\n",
            "_________________________________________________________________\n",
            " Layer (type)                Output Shape              Param #   \n",
            "=================================================================\n",
            " input_1 (InputLayer)        [(None, 64)]              0         \n",
            "                                                                 \n",
            " dense_4 (Dense)             (None, 6)                 390       \n",
            "                                                                 \n",
            "=================================================================\n",
            "Total params: 390\n",
            "Trainable params: 390\n",
            "Non-trainable params: 0\n",
            "_________________________________________________________________\n",
            "Model: \"cube_movement_amount_selection_model\"\n",
            "__________________________________________________________________________________________________\n",
            " Layer (type)                   Output Shape         Param #     Connected to                     \n",
            "==================================================================================================\n",
            " selected_face_input (InputLaye  [(None,)]           0           []                               \n",
            " r)                                                                                               \n",
            "                                                                                                  \n",
            " input_1 (InputLayer)           [(None, 64)]         0           []                               \n",
            "                                                                                                  \n",
            " tf_op_layer_default_policy/one  [(None, 6)]         0           ['selected_face_input[0][0]']    \n",
            " _hot (TensorFlowOpLayer)                                                                         \n",
            "                                                                                                  \n",
            " tf_op_layer_default_policy/con  [(None, 70)]        0           ['input_1[0][0]',                \n",
            " cat (TensorFlowOpLayer)                                          'tf_op_layer_default_policy/one_\n",
            "                                                                 hot[0][0]']                      \n",
            "                                                                                                  \n",
            " dense_5 (Dense)                (None, 3)            213         ['tf_op_layer_default_policy/conc\n",
            "                                                                 at[0][0]']                       \n",
            "                                                                                                  \n",
            "==================================================================================================\n",
            "Total params: 213\n",
            "Trainable params: 213\n",
            "Non-trainable params: 0\n",
            "__________________________________________________________________________________________________\n"
          ]
        },
        {
          "output_type": "stream",
          "name": "stderr",
          "text": [
            "2023-03-19 13:42:02,812\tWARNING catalog.py:563 -- Custom ModelV2 should accept all custom options as **kwargs, instead of expecting them in config['custom_model_config']!\n"
          ]
        },
        {
          "output_type": "stream",
          "name": "stdout",
          "text": [
            "Total parameters in model: 9884\n"
          ]
        },
        {
          "output_type": "stream",
          "name": "stderr",
          "text": [
            "2023-03-19 13:42:05,050\tWARNING util.py:66 -- Install gputil for GPU system monitoring.\n",
            ":actor_name:PPO\n"
          ]
        },
        {
          "output_type": "stream",
          "name": "stdout",
          "text": [
            ":actor_name:PPO\n"
          ]
        },
        {
          "output_type": "stream",
          "name": "stderr",
          "text": [
            "2023-03-19 13:42:05,400\tINFO trainable.py:790 -- Restored on 172.28.0.12 from checkpoint: /tmp/checkpoint_tmp_df877a4be7c7489f94508499a6ecfc35\n",
            "2023-03-19 13:42:05,405\tINFO trainable.py:799 -- Current state after restoring: {'_iteration': 13, '_timesteps_total': None, '_time_total': 206.72355794906616, '_episodes_total': 5002}\n",
            "2023-03-19 13:42:05,413\tWARNING util.py:244 -- The `start_trial` operation took 8.408 s, which may be a performance bottleneck.\n"
          ]
        },
        {
          "output_type": "stream",
          "name": "stdout",
          "text": [
            "<IPython.core.display.HTML object>\n"
          ]
        },
        {
          "output_type": "stream",
          "name": "stderr",
          "text": [
            "2023-03-19 13:42:20,890\tWARNING util.py:244 -- The `process_trial_restore` operation took 15.465 s, which may be a performance bottleneck.\n"
          ]
        },
        {
          "output_type": "stream",
          "name": "stdout",
          "text": [
            "<IPython.core.display.HTML object>\n",
            "<IPython.core.display.HTML object>\n",
            "<IPython.core.display.HTML object>\n",
            "<IPython.core.display.HTML object>\n",
            "<IPython.core.display.HTML object>\n",
            "<IPython.core.display.HTML object>\n",
            "<IPython.core.display.HTML object>\n",
            "<IPython.core.display.HTML object>\n"
          ]
        },
        {
          "output_type": "stream",
          "name": "stderr",
          "text": [
            "2023-03-19 13:43:07,725\tINFO tune.py:762 -- Total run time: 70.91 seconds (70.69 seconds for the tuning loop).\n"
          ]
        },
        {
          "output_type": "stream",
          "name": "stdout",
          "text": [
            "<IPython.core.display.HTML object>\n",
            "Results are saved to path /root/ray_results/PPO/PPO_rubiks_cube_env_d0fa6_00000_0_2023-03-19_13-41-57\n"
          ]
        }
      ]
    },
    {
      "cell_type": "markdown",
      "source": [
        "The seventh Model "
      ],
      "metadata": {
        "id": "PCjh5VD85yWN"
      },
      "id": "PCjh5VD85yWN"
    },
    {
      "cell_type": "code",
      "source": [
        "main_training(\n",
        "    step_limit=16,\n",
        "    reward_function_type=\"sparse\",\n",
        "    num_scrambles_on_reset=8,\n",
        "    model_config=CUSTOM_MODEL_CONFIG,\n",
        "    agent_name=\"PPO\",\n",
        "    num_iterations=18,\n",
        "    restore_path=\"~/ray_results/PPO/PPO_rubiks_cube_env_d0fa6_00000_0_2023-03-19_13-41-57/checkpoint_000015/\",\n",
        ")"
      ],
      "metadata": {
        "id": "xZgqe3vK52tf",
        "outputId": "16bf3a84-c9d6-44d9-b1c0-fb06c4ed2109",
        "colab": {
          "base_uri": "https://localhost:8080/"
        }
      },
      "id": "xZgqe3vK52tf",
      "execution_count": 42,
      "outputs": [
        {
          "output_type": "stream",
          "name": "stderr",
          "text": [
            "2023-03-19 13:56:31,117\tINFO worker.py:1529 -- Started a local Ray instance. View the dashboard at \u001b[1m\u001b[32m127.0.0.1:8265 \u001b[39m\u001b[22m\n"
          ]
        },
        {
          "output_type": "stream",
          "name": "stdout",
          "text": [
            "<IPython.core.display.HTML object>\n",
            ":task_name:bundle_reservation_check_func\n"
          ]
        },
        {
          "output_type": "stream",
          "name": "stderr",
          "text": [
            ":task_name:bundle_reservation_check_func\n",
            ":actor_name:PPO\n"
          ]
        },
        {
          "output_type": "stream",
          "name": "stdout",
          "text": [
            ":actor_name:PPO\n",
            ":actor_name:RolloutWorker\n"
          ]
        },
        {
          "output_type": "stream",
          "name": "stderr",
          "text": [
            ":actor_name:RolloutWorker\n"
          ]
        },
        {
          "output_type": "stream",
          "name": "stdout",
          "text": [
            "Model: \"encoding_model\"\n",
            "__________________________________________________________________________________________________\n",
            " Layer (type)                   Output Shape         Param #     Connected to                     \n",
            "==================================================================================================\n",
            " cube_input (InputLayer)        [(None, 6, 3, 3)]    0           []                               \n",
            "                                                                                                  \n",
            " step_count_input (InputLayer)  [(None, 1)]          0           []                               \n",
            "                                                                                                  \n",
            " embedding (Embedding)          (None, 6, 3, 3, 4)   24          ['cube_input[0][0]']             \n",
            "                                                                                                  \n",
            " tf_op_layer_default_policy_wk1  [(None, 1)]         0           ['step_count_input[0][0]']       \n",
            " /truediv (TensorFlowOpLayer)                                                                     \n",
            "                                                                                                  \n",
            " flatten (Flatten)              (None, 216)          0           ['embedding[0][0]']              \n",
            "                                                                                                  \n",
            " dense (Dense)                  (None, 4)            8           ['tf_op_layer_default_policy_wk1/\n",
            "                                                                 truediv[0][0]']                  \n",
            "                                                                                                  \n",
            " concatenate (Concatenate)      (None, 220)          0           ['flatten[0][0]',                \n",
            "                                                                  'dense[0][0]']                  \n",
            "                                                                                                  \n",
            " dense_1 (Dense)                (None, 32)           7072        ['concatenate[0][0]']            \n",
            "                                                                                                  \n",
            " dense_2 (Dense)                (None, 64)           2112        ['dense_1[0][0]']                \n",
            "                                                                                                  \n",
            " dense_3 (Dense)                (None, 1)            65          ['dense_2[0][0]']                \n",
            "                                                                                                  \n",
            "==================================================================================================\n",
            "Total params: 9,281\n",
            "Trainable params: 9,281\n",
            "Non-trainable params: 0\n",
            "__________________________________________________________________________________________________\n",
            "Model: \"face_selection_model\"\n",
            "_________________________________________________________________\n",
            " Layer (type)                Output Shape              Param #   \n",
            "=================================================================\n",
            " input_1 (InputLayer)        [(None, 64)]              0         \n",
            "                                                                 \n",
            " dense_4 (Dense)             (None, 6)                 390       \n",
            "                                                                 \n",
            "=================================================================\n",
            "Total params: 390\n",
            "Trainable params: 390\n",
            "Non-trainable params: 0\n",
            "_________________________________________________________________\n",
            "Model: \"cube_movement_amount_selection_model\"\n",
            "__________________________________________________________________________________________________\n",
            " Layer (type)                   Output Shape         Param #     Connected to                     \n",
            "==================================================================================================\n",
            " selected_face_input (InputLaye  [(None,)]           0           []                               \n",
            " r)                                                                                               \n",
            "                                                                                                  \n",
            " input_1 (InputLayer)           [(None, 64)]         0           []                               \n",
            "                                                                                                  \n",
            " tf_op_layer_default_policy_wk1  [(None, 6)]         0           ['selected_face_input[0][0]']    \n",
            " /one_hot (TensorFlowOpLayer)                                                                     \n",
            "                                                                                                  \n",
            " tf_op_layer_default_policy_wk1  [(None, 70)]        0           ['input_1[0][0]',                \n",
            " /concat (TensorFlowOpLayer)                                      'tf_op_layer_default_policy_wk1/\n",
            "                                                                 one_hot[0][0]']                  \n",
            "                                                                                                  \n",
            " dense_5 (Dense)                (None, 3)            213         ['tf_op_layer_default_policy_wk1/\n",
            "                                                                 concat[0][0]']                   \n",
            "                                                                                                  \n",
            "==================================================================================================\n",
            "Total params: 213\n",
            "Trainable params: 213\n",
            "Non-trainable params: 0\n",
            "__________________________________________________________________________________________________\n"
          ]
        },
        {
          "output_type": "stream",
          "name": "stderr",
          "text": [
            "2023-03-19 13:56:33,920\tWARNING catalog.py:563 -- Custom ModelV2 should accept all custom options as **kwargs, instead of expecting them in config['custom_model_config']!\n"
          ]
        },
        {
          "output_type": "stream",
          "name": "stdout",
          "text": [
            "Total parameters in model: 9884\n",
            ":actor_name:RolloutWorker\n"
          ]
        },
        {
          "output_type": "stream",
          "name": "stderr",
          "text": [
            ":actor_name:RolloutWorker\n"
          ]
        },
        {
          "output_type": "stream",
          "name": "stdout",
          "text": [
            "Model: \"encoding_model\"\n",
            "__________________________________________________________________________________________________\n",
            " Layer (type)                   Output Shape         Param #     Connected to                     \n",
            "==================================================================================================\n",
            " cube_input (InputLayer)        [(None, 6, 3, 3)]    0           []                               \n",
            "                                                                                                  \n",
            " step_count_input (InputLayer)  [(None, 1)]          0           []                               \n",
            "                                                                                                  \n",
            " embedding (Embedding)          (None, 6, 3, 3, 4)   24          ['cube_input[0][0]']             \n",
            "                                                                                                  \n",
            " tf_op_layer_default_policy_wk2  [(None, 1)]         0           ['step_count_input[0][0]']       \n",
            " /truediv (TensorFlowOpLayer)                                                                     \n",
            "                                                                                                  \n",
            " flatten (Flatten)              (None, 216)          0           ['embedding[0][0]']              \n",
            "                                                                                                  \n",
            " dense (Dense)                  (None, 4)            8           ['tf_op_layer_default_policy_wk2/\n",
            "                                                                 truediv[0][0]']                  \n",
            "                                                                                                  \n",
            " concatenate (Concatenate)      (None, 220)          0           ['flatten[0][0]',                \n",
            "                                                                  'dense[0][0]']                  \n",
            "                                                                                                  \n",
            " dense_1 (Dense)                (None, 32)           7072        ['concatenate[0][0]']            \n",
            "                                                                                                  \n",
            " dense_2 (Dense)                (None, 64)           2112        ['dense_1[0][0]']                \n",
            "                                                                                                  \n",
            " dense_3 (Dense)                (None, 1)            65          ['dense_2[0][0]']                \n",
            "                                                                                                  \n",
            "==================================================================================================\n",
            "Total params: 9,281\n",
            "Trainable params: 9,281\n",
            "Non-trainable params: 0\n",
            "__________________________________________________________________________________________________\n",
            "Model: \"face_selection_model\"\n",
            "_________________________________________________________________\n",
            " Layer (type)                Output Shape              Param #   \n",
            "=================================================================\n",
            " input_1 (InputLayer)        [(None, 64)]              0         \n",
            "                                                                 \n",
            " dense_4 (Dense)             (None, 6)                 390       \n",
            "                                                                 \n",
            "=================================================================\n",
            "Total params: 390\n",
            "Trainable params: 390\n",
            "Non-trainable params: 0\n",
            "_________________________________________________________________\n",
            "Model: \"cube_movement_amount_selection_model\"\n",
            "__________________________________________________________________________________________________\n",
            " Layer (type)                   Output Shape         Param #     Connected to                     \n",
            "==================================================================================================\n",
            " selected_face_input (InputLaye  [(None,)]           0           []                               \n",
            " r)                                                                                               \n",
            "                                                                                                  \n",
            " input_1 (InputLayer)           [(None, 64)]         0           []                               \n",
            "                                                                                                  \n",
            " tf_op_layer_default_policy_wk2  [(None, 6)]         0           ['selected_face_input[0][0]']    \n",
            " /one_hot (TensorFlowOpLayer)                                                                     \n",
            "                                                                                                  \n",
            " tf_op_layer_default_policy_wk2  [(None, 70)]        0           ['input_1[0][0]',                \n",
            " /concat (TensorFlowOpLayer)                                      'tf_op_layer_default_policy_wk2/\n",
            "                                                                 one_hot[0][0]']                  \n",
            "                                                                                                  \n",
            " dense_5 (Dense)                (None, 3)            213         ['tf_op_layer_default_policy_wk2/\n",
            "                                                                 concat[0][0]']                   \n",
            "                                                                                                  \n",
            "==================================================================================================\n",
            "Total params: 213\n",
            "Trainable params: 213\n",
            "Non-trainable params: 0\n",
            "__________________________________________________________________________________________________\n"
          ]
        },
        {
          "output_type": "stream",
          "name": "stderr",
          "text": [
            "2023-03-19 13:56:36,558\tWARNING catalog.py:563 -- Custom ModelV2 should accept all custom options as **kwargs, instead of expecting them in config['custom_model_config']!\n"
          ]
        },
        {
          "output_type": "stream",
          "name": "stdout",
          "text": [
            "Total parameters in model: 9884\n",
            "Model: \"encoding_model\"\n",
            "__________________________________________________________________________________________________\n",
            " Layer (type)                   Output Shape         Param #     Connected to                     \n",
            "==================================================================================================\n",
            " cube_input (InputLayer)        [(None, 6, 3, 3)]    0           []                               \n",
            "                                                                                                  \n",
            " step_count_input (InputLayer)  [(None, 1)]          0           []                               \n",
            "                                                                                                  \n",
            " embedding (Embedding)          (None, 6, 3, 3, 4)   24          ['cube_input[0][0]']             \n",
            "                                                                                                  \n",
            " tf_op_layer_default_policy/tru  [(None, 1)]         0           ['step_count_input[0][0]']       \n",
            " ediv (TensorFlowOpLayer)                                                                         \n",
            "                                                                                                  \n",
            " flatten (Flatten)              (None, 216)          0           ['embedding[0][0]']              \n",
            "                                                                                                  \n",
            " dense (Dense)                  (None, 4)            8           ['tf_op_layer_default_policy/true\n",
            "                                                                 div[0][0]']                      \n",
            "                                                                                                  \n",
            " concatenate (Concatenate)      (None, 220)          0           ['flatten[0][0]',                \n",
            "                                                                  'dense[0][0]']                  \n",
            "                                                                                                  \n",
            " dense_1 (Dense)                (None, 32)           7072        ['concatenate[0][0]']            \n",
            "                                                                                                  \n",
            " dense_2 (Dense)                (None, 64)           2112        ['dense_1[0][0]']                \n",
            "                                                                                                  \n",
            " dense_3 (Dense)                (None, 1)            65          ['dense_2[0][0]']                \n",
            "                                                                                                  \n",
            "==================================================================================================\n",
            "Total params: 9,281\n",
            "Trainable params: 9,281\n",
            "Non-trainable params: 0\n",
            "__________________________________________________________________________________________________\n",
            "Model: \"face_selection_model\"\n",
            "_________________________________________________________________\n",
            " Layer (type)                Output Shape              Param #   \n",
            "=================================================================\n",
            " input_1 (InputLayer)        [(None, 64)]              0         \n",
            "                                                                 \n",
            " dense_4 (Dense)             (None, 6)                 390       \n",
            "                                                                 \n",
            "=================================================================\n",
            "Total params: 390\n",
            "Trainable params: 390\n",
            "Non-trainable params: 0\n",
            "_________________________________________________________________\n",
            "Model: \"cube_movement_amount_selection_model\"\n",
            "__________________________________________________________________________________________________\n",
            " Layer (type)                   Output Shape         Param #     Connected to                     \n",
            "==================================================================================================\n",
            " selected_face_input (InputLaye  [(None,)]           0           []                               \n",
            " r)                                                                                               \n",
            "                                                                                                  \n",
            " input_1 (InputLayer)           [(None, 64)]         0           []                               \n",
            "                                                                                                  \n",
            " tf_op_layer_default_policy/one  [(None, 6)]         0           ['selected_face_input[0][0]']    \n",
            " _hot (TensorFlowOpLayer)                                                                         \n",
            "                                                                                                  \n",
            " tf_op_layer_default_policy/con  [(None, 70)]        0           ['input_1[0][0]',                \n",
            " cat (TensorFlowOpLayer)                                          'tf_op_layer_default_policy/one_\n",
            "                                                                 hot[0][0]']                      \n",
            "                                                                                                  \n",
            " dense_5 (Dense)                (None, 3)            213         ['tf_op_layer_default_policy/conc\n",
            "                                                                 at[0][0]']                       \n",
            "                                                                                                  \n",
            "==================================================================================================\n",
            "Total params: 213\n",
            "Trainable params: 213\n",
            "Non-trainable params: 0\n",
            "__________________________________________________________________________________________________\n"
          ]
        },
        {
          "output_type": "stream",
          "name": "stderr",
          "text": [
            "2023-03-19 13:56:39,086\tWARNING catalog.py:563 -- Custom ModelV2 should accept all custom options as **kwargs, instead of expecting them in config['custom_model_config']!\n"
          ]
        },
        {
          "output_type": "stream",
          "name": "stdout",
          "text": [
            "Total parameters in model: 9884\n"
          ]
        },
        {
          "output_type": "stream",
          "name": "stderr",
          "text": [
            "2023-03-19 13:56:43,454\tINFO trainable.py:172 -- Trainable.setup took 10.109 seconds. If your trainable is slow to initialize, consider setting reuse_actors=True to reduce actor creation overheads.\n",
            "2023-03-19 13:56:43,459\tWARNING util.py:66 -- Install gputil for GPU system monitoring.\n",
            ":actor_name:PPO\n"
          ]
        },
        {
          "output_type": "stream",
          "name": "stdout",
          "text": [
            ":actor_name:PPO\n"
          ]
        },
        {
          "output_type": "stream",
          "name": "stderr",
          "text": [
            "2023-03-19 13:56:44,065\tINFO trainable.py:790 -- Restored on 172.28.0.12 from checkpoint: /tmp/checkpoint_tmp_479c9c34c9fe4312aad161f26de0d287\n",
            "2023-03-19 13:56:44,067\tINFO trainable.py:799 -- Current state after restoring: {'_iteration': 15, '_timesteps_total': None, '_time_total': 237.3139452934265, '_episodes_total': 5534}\n",
            "2023-03-19 13:56:44,077\tWARNING util.py:244 -- The `start_trial` operation took 10.855 s, which may be a performance bottleneck.\n"
          ]
        },
        {
          "output_type": "stream",
          "name": "stdout",
          "text": [
            "<IPython.core.display.HTML object>\n"
          ]
        },
        {
          "output_type": "stream",
          "name": "stderr",
          "text": [
            "2023-03-19 13:56:59,531\tWARNING util.py:244 -- The `process_trial_restore` operation took 15.440 s, which may be a performance bottleneck.\n"
          ]
        },
        {
          "output_type": "stream",
          "name": "stdout",
          "text": [
            "<IPython.core.display.HTML object>\n",
            "<IPython.core.display.HTML object>\n",
            "<IPython.core.display.HTML object>\n",
            "<IPython.core.display.HTML object>\n",
            "<IPython.core.display.HTML object>\n",
            "<IPython.core.display.HTML object>\n"
          ]
        },
        {
          "output_type": "stream",
          "name": "stderr",
          "text": [
            "2023-03-19 13:57:32,066\tINFO tune.py:762 -- Total run time: 59.04 seconds (58.84 seconds for the tuning loop).\n"
          ]
        },
        {
          "output_type": "stream",
          "name": "stdout",
          "text": [
            "<IPython.core.display.HTML object>\n",
            "Results are saved to path /root/ray_results/PPO/PPO_rubiks_cube_env_db3e5_00000_0_2023-03-19_13-56-33\n"
          ]
        }
      ]
    },
    {
      "cell_type": "code",
      "source": [
        "main_training(\n",
        "    step_limit=18,\n",
        "    reward_function_type=\"sparse\",\n",
        "    num_scrambles_on_reset=8,\n",
        "    model_config=CUSTOM_MODEL_CONFIG,\n",
        "    agent_name=\"PPO\",\n",
        "    num_iterations=20,\n",
        "    restore_path=\"~/ray_results/PPO/PPO_rubiks_cube_env_db3e5_00000_0_2023-03-19_13-56-33/checkpoint_000017/\",\n",
        ")"
      ],
      "metadata": {
        "id": "lgn122oWOIz-",
        "outputId": "c9d8d288-f559-4641-9814-59a453cb3fd8",
        "colab": {
          "base_uri": "https://localhost:8080/"
        }
      },
      "id": "lgn122oWOIz-",
      "execution_count": 50,
      "outputs": [
        {
          "output_type": "stream",
          "name": "stderr",
          "text": [
            "2023-03-19 14:15:31,142\tINFO worker.py:1529 -- Started a local Ray instance. View the dashboard at \u001b[1m\u001b[32m127.0.0.1:8265 \u001b[39m\u001b[22m\n"
          ]
        },
        {
          "output_type": "stream",
          "name": "stdout",
          "text": [
            "<IPython.core.display.HTML object>\n",
            ":task_name:bundle_reservation_check_func\n"
          ]
        },
        {
          "output_type": "stream",
          "name": "stderr",
          "text": [
            ":task_name:bundle_reservation_check_func\n",
            ":actor_name:PPO\n"
          ]
        },
        {
          "output_type": "stream",
          "name": "stdout",
          "text": [
            ":actor_name:PPO\n",
            ":actor_name:RolloutWorker\n"
          ]
        },
        {
          "output_type": "stream",
          "name": "stderr",
          "text": [
            ":actor_name:RolloutWorker\n"
          ]
        },
        {
          "output_type": "stream",
          "name": "stdout",
          "text": [
            "Model: \"encoding_model\"\n",
            "__________________________________________________________________________________________________\n",
            " Layer (type)                   Output Shape         Param #     Connected to                     \n",
            "==================================================================================================\n",
            " cube_input (InputLayer)        [(None, 6, 3, 3)]    0           []                               \n",
            "                                                                                                  \n",
            " step_count_input (InputLayer)  [(None, 1)]          0           []                               \n",
            "                                                                                                  \n",
            " embedding (Embedding)          (None, 6, 3, 3, 4)   24          ['cube_input[0][0]']             \n",
            "                                                                                                  \n",
            " tf_op_layer_default_policy_wk1  [(None, 1)]         0           ['step_count_input[0][0]']       \n",
            " /truediv (TensorFlowOpLayer)                                                                     \n",
            "                                                                                                  \n",
            " flatten (Flatten)              (None, 216)          0           ['embedding[0][0]']              \n",
            "                                                                                                  \n",
            " dense (Dense)                  (None, 4)            8           ['tf_op_layer_default_policy_wk1/\n",
            "                                                                 truediv[0][0]']                  \n",
            "                                                                                                  \n",
            " concatenate (Concatenate)      (None, 220)          0           ['flatten[0][0]',                \n",
            "                                                                  'dense[0][0]']                  \n",
            "                                                                                                  \n",
            " dense_1 (Dense)                (None, 32)           7072        ['concatenate[0][0]']            \n",
            "                                                                                                  \n",
            " dense_2 (Dense)                (None, 64)           2112        ['dense_1[0][0]']                \n",
            "                                                                                                  \n",
            " dense_3 (Dense)                (None, 1)            65          ['dense_2[0][0]']                \n",
            "                                                                                                  \n",
            "==================================================================================================\n",
            "Total params: 9,281\n",
            "Trainable params: 9,281\n",
            "Non-trainable params: 0\n",
            "__________________________________________________________________________________________________\n",
            "Model: \"face_selection_model\"\n",
            "_________________________________________________________________\n",
            " Layer (type)                Output Shape              Param #   \n",
            "=================================================================\n",
            " input_1 (InputLayer)        [(None, 64)]              0         \n",
            "                                                                 \n",
            " dense_4 (Dense)             (None, 6)                 390       \n",
            "                                                                 \n",
            "=================================================================\n",
            "Total params: 390\n",
            "Trainable params: 390\n",
            "Non-trainable params: 0\n",
            "_________________________________________________________________\n",
            "Model: \"cube_movement_amount_selection_model\"\n",
            "__________________________________________________________________________________________________\n",
            " Layer (type)                   Output Shape         Param #     Connected to                     \n",
            "==================================================================================================\n",
            " selected_face_input (InputLaye  [(None,)]           0           []                               \n",
            " r)                                                                                               \n",
            "                                                                                                  \n",
            " input_1 (InputLayer)           [(None, 64)]         0           []                               \n",
            "                                                                                                  \n",
            " tf_op_layer_default_policy_wk1  [(None, 6)]         0           ['selected_face_input[0][0]']    \n",
            " /one_hot (TensorFlowOpLayer)                                                                     \n",
            "                                                                                                  \n",
            " tf_op_layer_default_policy_wk1  [(None, 70)]        0           ['input_1[0][0]',                \n",
            " /concat (TensorFlowOpLayer)                                      'tf_op_layer_default_policy_wk1/\n",
            "                                                                 one_hot[0][0]']                  \n",
            "                                                                                                  \n",
            " dense_5 (Dense)                (None, 3)            213         ['tf_op_layer_default_policy_wk1/\n",
            "                                                                 concat[0][0]']                   \n",
            "                                                                                                  \n",
            "==================================================================================================\n",
            "Total params: 213\n",
            "Trainable params: 213\n",
            "Non-trainable params: 0\n",
            "__________________________________________________________________________________________________\n"
          ]
        },
        {
          "output_type": "stream",
          "name": "stderr",
          "text": [
            "2023-03-19 14:15:33,888\tWARNING catalog.py:563 -- Custom ModelV2 should accept all custom options as **kwargs, instead of expecting them in config['custom_model_config']!\n"
          ]
        },
        {
          "output_type": "stream",
          "name": "stdout",
          "text": [
            "Total parameters in model: 9884\n",
            ":actor_name:RolloutWorker\n"
          ]
        },
        {
          "output_type": "stream",
          "name": "stderr",
          "text": [
            ":actor_name:RolloutWorker\n"
          ]
        },
        {
          "output_type": "stream",
          "name": "stdout",
          "text": [
            "Model: \"encoding_model\"\n",
            "__________________________________________________________________________________________________\n",
            " Layer (type)                   Output Shape         Param #     Connected to                     \n",
            "==================================================================================================\n",
            " cube_input (InputLayer)        [(None, 6, 3, 3)]    0           []                               \n",
            "                                                                                                  \n",
            " step_count_input (InputLayer)  [(None, 1)]          0           []                               \n",
            "                                                                                                  \n",
            " embedding (Embedding)          (None, 6, 3, 3, 4)   24          ['cube_input[0][0]']             \n",
            "                                                                                                  \n",
            " tf_op_layer_default_policy_wk2  [(None, 1)]         0           ['step_count_input[0][0]']       \n",
            " /truediv (TensorFlowOpLayer)                                                                     \n",
            "                                                                                                  \n",
            " flatten (Flatten)              (None, 216)          0           ['embedding[0][0]']              \n",
            "                                                                                                  \n",
            " dense (Dense)                  (None, 4)            8           ['tf_op_layer_default_policy_wk2/\n",
            "                                                                 truediv[0][0]']                  \n",
            "                                                                                                  \n",
            " concatenate (Concatenate)      (None, 220)          0           ['flatten[0][0]',                \n",
            "                                                                  'dense[0][0]']                  \n",
            "                                                                                                  \n",
            " dense_1 (Dense)                (None, 32)           7072        ['concatenate[0][0]']            \n",
            "                                                                                                  \n",
            " dense_2 (Dense)                (None, 64)           2112        ['dense_1[0][0]']                \n",
            "                                                                                                  \n",
            " dense_3 (Dense)                (None, 1)            65          ['dense_2[0][0]']                \n",
            "                                                                                                  \n",
            "==================================================================================================\n",
            "Total params: 9,281\n",
            "Trainable params: 9,281\n",
            "Non-trainable params: 0\n",
            "__________________________________________________________________________________________________\n",
            "Model: \"face_selection_model\"\n",
            "_________________________________________________________________\n",
            " Layer (type)                Output Shape              Param #   \n",
            "=================================================================\n",
            " input_1 (InputLayer)        [(None, 64)]              0         \n",
            "                                                                 \n",
            " dense_4 (Dense)             (None, 6)                 390       \n",
            "                                                                 \n",
            "=================================================================\n",
            "Total params: 390\n",
            "Trainable params: 390\n",
            "Non-trainable params: 0\n",
            "_________________________________________________________________\n",
            "Model: \"cube_movement_amount_selection_model\"\n",
            "__________________________________________________________________________________________________\n",
            " Layer (type)                   Output Shape         Param #     Connected to                     \n",
            "==================================================================================================\n",
            " selected_face_input (InputLaye  [(None,)]           0           []                               \n",
            " r)                                                                                               \n",
            "                                                                                                  \n",
            " input_1 (InputLayer)           [(None, 64)]         0           []                               \n",
            "                                                                                                  \n",
            " tf_op_layer_default_policy_wk2  [(None, 6)]         0           ['selected_face_input[0][0]']    \n",
            " /one_hot (TensorFlowOpLayer)                                                                     \n",
            "                                                                                                  \n",
            " tf_op_layer_default_policy_wk2  [(None, 70)]        0           ['input_1[0][0]',                \n",
            " /concat (TensorFlowOpLayer)                                      'tf_op_layer_default_policy_wk2/\n",
            "                                                                 one_hot[0][0]']                  \n",
            "                                                                                                  \n",
            " dense_5 (Dense)                (None, 3)            213         ['tf_op_layer_default_policy_wk2/\n",
            "                                                                 concat[0][0]']                   \n",
            "                                                                                                  \n",
            "==================================================================================================\n",
            "Total params: 213\n",
            "Trainable params: 213\n",
            "Non-trainable params: 0\n",
            "__________________________________________________________________________________________________\n"
          ]
        },
        {
          "output_type": "stream",
          "name": "stderr",
          "text": [
            "2023-03-19 14:15:37,890\tWARNING catalog.py:563 -- Custom ModelV2 should accept all custom options as **kwargs, instead of expecting them in config['custom_model_config']!\n"
          ]
        },
        {
          "output_type": "stream",
          "name": "stdout",
          "text": [
            "Total parameters in model: 9884\n",
            "Model: \"encoding_model\"\n",
            "__________________________________________________________________________________________________\n",
            " Layer (type)                   Output Shape         Param #     Connected to                     \n",
            "==================================================================================================\n",
            " cube_input (InputLayer)        [(None, 6, 3, 3)]    0           []                               \n",
            "                                                                                                  \n",
            " step_count_input (InputLayer)  [(None, 1)]          0           []                               \n",
            "                                                                                                  \n",
            " embedding (Embedding)          (None, 6, 3, 3, 4)   24          ['cube_input[0][0]']             \n",
            "                                                                                                  \n",
            " tf_op_layer_default_policy/tru  [(None, 1)]         0           ['step_count_input[0][0]']       \n",
            " ediv (TensorFlowOpLayer)                                                                         \n",
            "                                                                                                  \n",
            " flatten (Flatten)              (None, 216)          0           ['embedding[0][0]']              \n",
            "                                                                                                  \n",
            " dense (Dense)                  (None, 4)            8           ['tf_op_layer_default_policy/true\n",
            "                                                                 div[0][0]']                      \n",
            "                                                                                                  \n",
            " concatenate (Concatenate)      (None, 220)          0           ['flatten[0][0]',                \n",
            "                                                                  'dense[0][0]']                  \n",
            "                                                                                                  \n",
            " dense_1 (Dense)                (None, 32)           7072        ['concatenate[0][0]']            \n",
            "                                                                                                  \n",
            " dense_2 (Dense)                (None, 64)           2112        ['dense_1[0][0]']                \n",
            "                                                                                                  \n",
            " dense_3 (Dense)                (None, 1)            65          ['dense_2[0][0]']                \n",
            "                                                                                                  \n",
            "==================================================================================================\n",
            "Total params: 9,281\n",
            "Trainable params: 9,281\n",
            "Non-trainable params: 0\n",
            "__________________________________________________________________________________________________\n",
            "Model: \"face_selection_model\"\n",
            "_________________________________________________________________\n",
            " Layer (type)                Output Shape              Param #   \n",
            "=================================================================\n",
            " input_1 (InputLayer)        [(None, 64)]              0         \n",
            "                                                                 \n",
            " dense_4 (Dense)             (None, 6)                 390       \n",
            "                                                                 \n",
            "=================================================================\n",
            "Total params: 390\n",
            "Trainable params: 390\n",
            "Non-trainable params: 0\n",
            "_________________________________________________________________\n",
            "Model: \"cube_movement_amount_selection_model\"\n",
            "__________________________________________________________________________________________________\n",
            " Layer (type)                   Output Shape         Param #     Connected to                     \n",
            "==================================================================================================\n",
            " selected_face_input (InputLaye  [(None,)]           0           []                               \n",
            " r)                                                                                               \n",
            "                                                                                                  \n",
            " input_1 (InputLayer)           [(None, 64)]         0           []                               \n",
            "                                                                                                  \n",
            " tf_op_layer_default_policy/one  [(None, 6)]         0           ['selected_face_input[0][0]']    \n",
            " _hot (TensorFlowOpLayer)                                                                         \n",
            "                                                                                                  \n",
            " tf_op_layer_default_policy/con  [(None, 70)]        0           ['input_1[0][0]',                \n",
            " cat (TensorFlowOpLayer)                                          'tf_op_layer_default_policy/one_\n",
            "                                                                 hot[0][0]']                      \n",
            "                                                                                                  \n",
            " dense_5 (Dense)                (None, 3)            213         ['tf_op_layer_default_policy/conc\n",
            "                                                                 at[0][0]']                       \n",
            "                                                                                                  \n",
            "==================================================================================================\n",
            "Total params: 213\n",
            "Trainable params: 213\n",
            "Non-trainable params: 0\n",
            "__________________________________________________________________________________________________\n"
          ]
        },
        {
          "output_type": "stream",
          "name": "stderr",
          "text": [
            "2023-03-19 14:15:41,171\tWARNING catalog.py:563 -- Custom ModelV2 should accept all custom options as **kwargs, instead of expecting them in config['custom_model_config']!\n"
          ]
        },
        {
          "output_type": "stream",
          "name": "stdout",
          "text": [
            "Total parameters in model: 9884\n"
          ]
        },
        {
          "output_type": "stream",
          "name": "stderr",
          "text": [
            "2023-03-19 14:15:44,402\tINFO trainable.py:172 -- Trainable.setup took 11.018 seconds. If your trainable is slow to initialize, consider setting reuse_actors=True to reduce actor creation overheads.\n",
            "2023-03-19 14:15:44,408\tWARNING util.py:66 -- Install gputil for GPU system monitoring.\n",
            ":actor_name:PPO\n"
          ]
        },
        {
          "output_type": "stream",
          "name": "stdout",
          "text": [
            ":actor_name:PPO\n"
          ]
        },
        {
          "output_type": "stream",
          "name": "stderr",
          "text": [
            "2023-03-19 14:15:44,938\tINFO trainable.py:790 -- Restored on 172.28.0.12 from checkpoint: /tmp/checkpoint_tmp_3caeea1adae845c1a8bf46349c7cba68\n",
            "2023-03-19 14:15:44,942\tINFO trainable.py:799 -- Current state after restoring: {'_iteration': 17, '_timesteps_total': None, '_time_total': 268.37073135375977, '_episodes_total': 6034}\n",
            "2023-03-19 14:15:44,955\tWARNING util.py:244 -- The `start_trial` operation took 11.699 s, which may be a performance bottleneck.\n"
          ]
        },
        {
          "output_type": "stream",
          "name": "stdout",
          "text": [
            "<IPython.core.display.HTML object>\n"
          ]
        },
        {
          "output_type": "stream",
          "name": "stderr",
          "text": [
            "2023-03-19 14:16:00,713\tWARNING util.py:244 -- The `process_trial_restore` operation took 15.741 s, which may be a performance bottleneck.\n"
          ]
        },
        {
          "output_type": "stream",
          "name": "stdout",
          "text": [
            "<IPython.core.display.HTML object>\n",
            "<IPython.core.display.HTML object>\n",
            "<IPython.core.display.HTML object>\n",
            "<IPython.core.display.HTML object>\n",
            "<IPython.core.display.HTML object>\n",
            "<IPython.core.display.HTML object>\n"
          ]
        },
        {
          "output_type": "stream",
          "name": "stderr",
          "text": [
            "2023-03-19 14:16:31,648\tINFO tune.py:762 -- Total run time: 58.58 seconds (58.39 seconds for the tuning loop).\n"
          ]
        },
        {
          "output_type": "stream",
          "name": "stdout",
          "text": [
            "<IPython.core.display.HTML object>\n",
            "Results are saved to path /root/ray_results/PPO/PPO_rubiks_cube_env_82c21_00000_0_2023-03-19_14-15-33\n"
          ]
        }
      ]
    },
    {
      "cell_type": "markdown",
      "id": "3494a509",
      "metadata": {
        "id": "3494a509"
      },
      "source": [
        "Note that only 2 additional iterations of training were performed."
      ]
    },
    {
      "cell_type": "markdown",
      "id": "c4184d73",
      "metadata": {
        "id": "c4184d73"
      },
      "source": [
        "There is a lot more customisablity available for rllib, feel free to consult documentation at https://docs.ray.io/en/latest/rllib/index.html"
      ]
    },
    {
      "cell_type": "markdown",
      "id": "5b4688ac",
      "metadata": {
        "id": "5b4688ac"
      },
      "source": [
        "## Evaluation"
      ]
    },
    {
      "cell_type": "markdown",
      "id": "4a8c1153",
      "metadata": {
        "id": "4a8c1153"
      },
      "source": [
        "The final stage to is to produce a set of rollouts - that is sequences of actions and new observations that one obtains by repeatedly inferring from a model and taking the corresponding action in the environment. Included below is a simple set of commands that are likely to be useful if you would like to investigate the decisions that your model is making in particular situations."
      ]
    },
    {
      "cell_type": "code",
      "execution_count": 51,
      "id": "6adf83ed",
      "metadata": {
        "id": "6adf83ed",
        "outputId": "40c515c6-1aef-4690-d69a-630db7175f12",
        "colab": {
          "base_uri": "https://localhost:8080/"
        }
      },
      "outputs": [
        {
          "output_type": "stream",
          "name": "stderr",
          "text": [
            "2023-03-19 14:18:02,285\tINFO worker.py:1529 -- Started a local Ray instance. View the dashboard at \u001b[1m\u001b[32m127.0.0.1:8265 \u001b[39m\u001b[22m\n"
          ]
        },
        {
          "output_type": "stream",
          "name": "stdout",
          "text": [
            ":actor_name:RolloutWorker\n"
          ]
        },
        {
          "output_type": "stream",
          "name": "stderr",
          "text": [
            ":actor_name:RolloutWorker\n"
          ]
        },
        {
          "output_type": "stream",
          "name": "stdout",
          "text": [
            "Model: \"encoding_model\"\n",
            "__________________________________________________________________________________________________\n",
            " Layer (type)                   Output Shape         Param #     Connected to                     \n",
            "==================================================================================================\n",
            " cube_input (InputLayer)        [(None, 6, 3, 3)]    0           []                               \n",
            "                                                                                                  \n",
            " step_count_input (InputLayer)  [(None, 1)]          0           []                               \n",
            "                                                                                                  \n",
            " embedding (Embedding)          (None, 6, 3, 3, 4)   24          ['cube_input[0][0]']             \n",
            "                                                                                                  \n",
            " tf_op_layer_default_policy_wk1  [(None, 1)]         0           ['step_count_input[0][0]']       \n",
            " /truediv (TensorFlowOpLayer)                                                                     \n",
            "                                                                                                  \n",
            " flatten (Flatten)              (None, 216)          0           ['embedding[0][0]']              \n",
            "                                                                                                  \n",
            " dense (Dense)                  (None, 4)            8           ['tf_op_layer_default_policy_wk1/\n",
            "                                                                 truediv[0][0]']                  \n",
            "                                                                                                  \n",
            " concatenate (Concatenate)      (None, 220)          0           ['flatten[0][0]',                \n",
            "                                                                  'dense[0][0]']                  \n",
            "                                                                                                  \n",
            " dense_1 (Dense)                (None, 32)           7072        ['concatenate[0][0]']            \n",
            "                                                                                                  \n",
            " dense_2 (Dense)                (None, 64)           2112        ['dense_1[0][0]']                \n",
            "                                                                                                  \n",
            " dense_3 (Dense)                (None, 1)            65          ['dense_2[0][0]']                \n",
            "                                                                                                  \n",
            "==================================================================================================\n",
            "Total params: 9,281\n",
            "Trainable params: 9,281\n",
            "Non-trainable params: 0\n",
            "__________________________________________________________________________________________________\n",
            "Model: \"face_selection_model\"\n",
            "_________________________________________________________________\n",
            " Layer (type)                Output Shape              Param #   \n",
            "=================================================================\n",
            " input_1 (InputLayer)        [(None, 64)]              0         \n",
            "                                                                 \n",
            " dense_4 (Dense)             (None, 6)                 390       \n",
            "                                                                 \n",
            "=================================================================\n",
            "Total params: 390\n",
            "Trainable params: 390\n",
            "Non-trainable params: 0\n",
            "_________________________________________________________________\n",
            "Model: \"cube_movement_amount_selection_model\"\n",
            "__________________________________________________________________________________________________\n",
            " Layer (type)                   Output Shape         Param #     Connected to                     \n",
            "==================================================================================================\n",
            " selected_face_input (InputLaye  [(None,)]           0           []                               \n",
            " r)                                                                                               \n",
            "                                                                                                  \n",
            " input_1 (InputLayer)           [(None, 64)]         0           []                               \n",
            "                                                                                                  \n",
            " tf_op_layer_default_policy_wk1  [(None, 6)]         0           ['selected_face_input[0][0]']    \n",
            " /one_hot (TensorFlowOpLayer)                                                                     \n",
            "                                                                                                  \n",
            " tf_op_layer_default_policy_wk1  [(None, 70)]        0           ['input_1[0][0]',                \n",
            " /concat (TensorFlowOpLayer)                                      'tf_op_layer_default_policy_wk1/\n",
            "                                                                 one_hot[0][0]']                  \n",
            "                                                                                                  \n",
            " dense_5 (Dense)                (None, 3)            213         ['tf_op_layer_default_policy_wk1/\n",
            "                                                                 concat[0][0]']                   \n",
            "                                                                                                  \n",
            "==================================================================================================\n",
            "Total params: 213\n",
            "Trainable params: 213\n",
            "Non-trainable params: 0\n",
            "__________________________________________________________________________________________________\n"
          ]
        },
        {
          "output_type": "stream",
          "name": "stderr",
          "text": [
            "2023-03-19 14:18:06,607\tWARNING catalog.py:563 -- Custom ModelV2 should accept all custom options as **kwargs, instead of expecting them in config['custom_model_config']!\n"
          ]
        },
        {
          "output_type": "stream",
          "name": "stdout",
          "text": [
            "Total parameters in model: 9884\n",
            ":actor_name:RolloutWorker\n"
          ]
        },
        {
          "output_type": "stream",
          "name": "stderr",
          "text": [
            ":actor_name:RolloutWorker\n"
          ]
        },
        {
          "output_type": "stream",
          "name": "stdout",
          "text": [
            "Model: \"encoding_model\"\n",
            "__________________________________________________________________________________________________\n",
            " Layer (type)                   Output Shape         Param #     Connected to                     \n",
            "==================================================================================================\n",
            " cube_input (InputLayer)        [(None, 6, 3, 3)]    0           []                               \n",
            "                                                                                                  \n",
            " step_count_input (InputLayer)  [(None, 1)]          0           []                               \n",
            "                                                                                                  \n",
            " embedding (Embedding)          (None, 6, 3, 3, 4)   24          ['cube_input[0][0]']             \n",
            "                                                                                                  \n",
            " tf_op_layer_default_policy_wk2  [(None, 1)]         0           ['step_count_input[0][0]']       \n",
            " /truediv (TensorFlowOpLayer)                                                                     \n",
            "                                                                                                  \n",
            " flatten (Flatten)              (None, 216)          0           ['embedding[0][0]']              \n",
            "                                                                                                  \n",
            " dense (Dense)                  (None, 4)            8           ['tf_op_layer_default_policy_wk2/\n",
            "                                                                 truediv[0][0]']                  \n",
            "                                                                                                  \n",
            " concatenate (Concatenate)      (None, 220)          0           ['flatten[0][0]',                \n",
            "                                                                  'dense[0][0]']                  \n",
            "                                                                                                  \n",
            " dense_1 (Dense)                (None, 32)           7072        ['concatenate[0][0]']            \n",
            "                                                                                                  \n",
            " dense_2 (Dense)                (None, 64)           2112        ['dense_1[0][0]']                \n",
            "                                                                                                  \n",
            " dense_3 (Dense)                (None, 1)            65          ['dense_2[0][0]']                \n",
            "                                                                                                  \n",
            "==================================================================================================\n",
            "Total params: 9,281\n",
            "Trainable params: 9,281\n",
            "Non-trainable params: 0\n",
            "__________________________________________________________________________________________________\n",
            "Model: \"face_selection_model\"\n",
            "_________________________________________________________________\n",
            " Layer (type)                Output Shape              Param #   \n",
            "=================================================================\n",
            " input_1 (InputLayer)        [(None, 64)]              0         \n",
            "                                                                 \n",
            " dense_4 (Dense)             (None, 6)                 390       \n",
            "                                                                 \n",
            "=================================================================\n",
            "Total params: 390\n",
            "Trainable params: 390\n",
            "Non-trainable params: 0\n",
            "_________________________________________________________________\n",
            "Model: \"cube_movement_amount_selection_model\"\n",
            "__________________________________________________________________________________________________\n",
            " Layer (type)                   Output Shape         Param #     Connected to                     \n",
            "==================================================================================================\n",
            " selected_face_input (InputLaye  [(None,)]           0           []                               \n",
            " r)                                                                                               \n",
            "                                                                                                  \n",
            " input_1 (InputLayer)           [(None, 64)]         0           []                               \n",
            "                                                                                                  \n",
            " tf_op_layer_default_policy_wk2  [(None, 6)]         0           ['selected_face_input[0][0]']    \n",
            " /one_hot (TensorFlowOpLayer)                                                                     \n",
            "                                                                                                  \n",
            " tf_op_layer_default_policy_wk2  [(None, 70)]        0           ['input_1[0][0]',                \n",
            " /concat (TensorFlowOpLayer)                                      'tf_op_layer_default_policy_wk2/\n",
            "                                                                 one_hot[0][0]']                  \n",
            "                                                                                                  \n",
            " dense_5 (Dense)                (None, 3)            213         ['tf_op_layer_default_policy_wk2/\n",
            "                                                                 concat[0][0]']                   \n",
            "                                                                                                  \n",
            "==================================================================================================\n",
            "Total params: 213\n",
            "Trainable params: 213\n",
            "Non-trainable params: 0\n",
            "__________________________________________________________________________________________________\n"
          ]
        },
        {
          "output_type": "stream",
          "name": "stderr",
          "text": [
            "2023-03-19 14:18:10,361\tWARNING catalog.py:563 -- Custom ModelV2 should accept all custom options as **kwargs, instead of expecting them in config['custom_model_config']!\n"
          ]
        },
        {
          "output_type": "stream",
          "name": "stdout",
          "text": [
            "Total parameters in model: 9884\n",
            "Model: \"encoding_model\"\n",
            "__________________________________________________________________________________________________\n",
            " Layer (type)                   Output Shape         Param #     Connected to                     \n",
            "==================================================================================================\n",
            " cube_input (InputLayer)        [(None, 6, 3, 3)]    0           []                               \n",
            "                                                                                                  \n",
            " step_count_input (InputLayer)  [(None, 1)]          0           []                               \n",
            "                                                                                                  \n",
            " embedding (Embedding)          (None, 6, 3, 3, 4)   24          ['cube_input[0][0]']             \n",
            "                                                                                                  \n",
            " tf_op_layer_default_policy/tru  [(None, 1)]         0           ['step_count_input[0][0]']       \n",
            " ediv (TensorFlowOpLayer)                                                                         \n",
            "                                                                                                  \n",
            " flatten (Flatten)              (None, 216)          0           ['embedding[0][0]']              \n",
            "                                                                                                  \n",
            " dense (Dense)                  (None, 4)            8           ['tf_op_layer_default_policy/true\n",
            "                                                                 div[0][0]']                      \n",
            "                                                                                                  \n",
            " concatenate (Concatenate)      (None, 220)          0           ['flatten[0][0]',                \n",
            "                                                                  'dense[0][0]']                  \n",
            "                                                                                                  \n",
            " dense_1 (Dense)                (None, 32)           7072        ['concatenate[0][0]']            \n",
            "                                                                                                  \n",
            " dense_2 (Dense)                (None, 64)           2112        ['dense_1[0][0]']                \n",
            "                                                                                                  \n",
            " dense_3 (Dense)                (None, 1)            65          ['dense_2[0][0]']                \n",
            "                                                                                                  \n",
            "==================================================================================================\n",
            "Total params: 9,281\n",
            "Trainable params: 9,281\n",
            "Non-trainable params: 0\n",
            "__________________________________________________________________________________________________\n",
            "Model: \"face_selection_model\"\n",
            "_________________________________________________________________\n",
            " Layer (type)                Output Shape              Param #   \n",
            "=================================================================\n",
            " input_1 (InputLayer)        [(None, 64)]              0         \n",
            "                                                                 \n",
            " dense_4 (Dense)             (None, 6)                 390       \n",
            "                                                                 \n",
            "=================================================================\n",
            "Total params: 390\n",
            "Trainable params: 390\n",
            "Non-trainable params: 0\n",
            "_________________________________________________________________\n",
            "Model: \"cube_movement_amount_selection_model\"\n",
            "__________________________________________________________________________________________________\n",
            " Layer (type)                   Output Shape         Param #     Connected to                     \n",
            "==================================================================================================\n",
            " selected_face_input (InputLaye  [(None,)]           0           []                               \n",
            " r)                                                                                               \n",
            "                                                                                                  \n",
            " input_1 (InputLayer)           [(None, 64)]         0           []                               \n",
            "                                                                                                  \n",
            " tf_op_layer_default_policy/one  [(None, 6)]         0           ['selected_face_input[0][0]']    \n",
            " _hot (TensorFlowOpLayer)                                                                         \n",
            "                                                                                                  \n",
            " tf_op_layer_default_policy/con  [(None, 70)]        0           ['input_1[0][0]',                \n",
            " cat (TensorFlowOpLayer)                                          'tf_op_layer_default_policy/one_\n",
            "                                                                 hot[0][0]']                      \n",
            "                                                                                                  \n",
            " dense_5 (Dense)                (None, 3)            213         ['tf_op_layer_default_policy/conc\n",
            "                                                                 at[0][0]']                       \n",
            "                                                                                                  \n",
            "==================================================================================================\n",
            "Total params: 213\n",
            "Trainable params: 213\n",
            "Non-trainable params: 0\n",
            "__________________________________________________________________________________________________\n"
          ]
        },
        {
          "output_type": "stream",
          "name": "stderr",
          "text": [
            "2023-03-19 14:18:13,065\tWARNING catalog.py:563 -- Custom ModelV2 should accept all custom options as **kwargs, instead of expecting them in config['custom_model_config']!\n"
          ]
        },
        {
          "output_type": "stream",
          "name": "stdout",
          "text": [
            "Total parameters in model: 9884\n"
          ]
        },
        {
          "output_type": "stream",
          "name": "stderr",
          "text": [
            "2023-03-19 14:18:15,278\tWARNING util.py:66 -- Install gputil for GPU system monitoring.\n",
            "2023-03-19 14:18:15,606\tINFO trainable.py:790 -- Restored on 172.28.0.12 from checkpoint: /root/ray_results/PPO/PPO_rubiks_cube_env_82c21_00000_0_2023-03-19_14-15-33/checkpoint_000019\n",
            "2023-03-19 14:18:15,608\tINFO trainable.py:799 -- Current state after restoring: {'_iteration': 19, '_timesteps_total': None, '_time_total': 298.8419780731201, '_episodes_total': 6478}\n"
          ]
        }
      ],
      "source": [
        "config = get_config(\n",
        "    env_config=MEDIUM_ENV_CONFIG,\n",
        "    model_config=CUSTOM_MODEL_CONFIG,\n",
        "    agent_name=\"PPO\",\n",
        ")\n",
        "register(agent_name=\"PPO\")\n",
        "with _ray():\n",
        "    agent = PPO(AlgorithmConfig.from_dict(config))\n",
        "    agent.restore(\"/root/ray_results/PPO/PPO_rubiks_cube_env_82c21_00000_0_2023-03-19_14-15-33/checkpoint_000019/\")\n",
        "    env = RubiksCube(**MEDIUM_ENV_CONFIG)\n",
        "    obs = env.reset()\n",
        "    # Exploration means to sample from the parametrised distribution. Setting it to false picks the modal action\n",
        "    action = agent.compute_single_action(observation=obs, explore=False)"
      ]
    },
    {
      "cell_type": "code",
      "execution_count": 52,
      "id": "208602ec",
      "metadata": {
        "id": "208602ec",
        "outputId": "fcdea531-efc6-4e24-ba36-65946ed2fb6a",
        "colab": {
          "base_uri": "https://localhost:8080/"
        }
      },
      "outputs": [
        {
          "output_type": "stream",
          "name": "stdout",
          "text": [
            "Figure(432x432)\n"
          ]
        }
      ],
      "source": [
        "env.render()"
      ]
    },
    {
      "cell_type": "code",
      "execution_count": 53,
      "id": "14606439",
      "metadata": {
        "id": "14606439",
        "outputId": "735633a0-9942-4bcb-86b7-996a089a0b5f",
        "colab": {
          "base_uri": "https://localhost:8080/"
        }
      },
      "outputs": [
        {
          "output_type": "execute_result",
          "data": {
            "text/plain": [
              "(2, 0)"
            ]
          },
          "metadata": {},
          "execution_count": 53
        }
      ],
      "source": [
        "action"
      ]
    },
    {
      "cell_type": "code",
      "execution_count": 54,
      "id": "01ae7d93",
      "metadata": {
        "id": "01ae7d93",
        "outputId": "01572672-7d38-497d-926b-2e4b35b5e47e",
        "colab": {
          "base_uri": "https://localhost:8080/"
        }
      },
      "outputs": [
        {
          "output_type": "stream",
          "name": "stdout",
          "text": [
            "Agent is choosing action (2, 0)\n"
          ]
        }
      ],
      "source": [
        "print(f\"Agent is choosing action {action}\")\n",
        "obs, reward, done, info = env.step(action)"
      ]
    },
    {
      "cell_type": "code",
      "execution_count": 55,
      "id": "def7c234",
      "metadata": {
        "id": "def7c234",
        "outputId": "4d01edce-c759-4601-b568-a7713eab9a65",
        "colab": {
          "base_uri": "https://localhost:8080/"
        }
      },
      "outputs": [
        {
          "output_type": "stream",
          "name": "stdout",
          "text": [
            "Figure(432x432)\n"
          ]
        }
      ],
      "source": [
        "env.render()"
      ]
    },
    {
      "cell_type": "markdown",
      "id": "b5cd0420",
      "metadata": {
        "id": "b5cd0420"
      },
      "source": [
        "For a more systematic way of doing this, there is a script which will run this automatically on a collection of increasingly difficult environment configurations and write the result to a file. To use this script, run:\n",
        "\n",
        "python evaluation/generate_rollout.py\n",
        "\n",
        "while specifying command line arguments checkpoint_path (indicating the path to restore from if using a trained model), the results_path (where to write the results of the inference to), and the agent_name (can leave blank if using PPO)."
      ]
    },
    {
      "cell_type": "code",
      "execution_count": 56,
      "id": "b8f88508",
      "metadata": {
        "id": "b8f88508",
        "outputId": "f6637d2f-07c1-4da6-e42a-652aea0c8468",
        "colab": {
          "base_uri": "https://localhost:8080/"
        }
      },
      "outputs": [
        {
          "output_type": "stream",
          "name": "stderr",
          "text": [
            "2023-03-19 14:18:24,148\tINFO worker.py:1529 -- Started a local Ray instance. View the dashboard at \u001b[1m\u001b[32m127.0.0.1:8265 \u001b[39m\u001b[22m\n"
          ]
        },
        {
          "output_type": "stream",
          "name": "stdout",
          "text": [
            "Generating rollouts for easy env config...\n",
            ":actor_name:RolloutWorker\n"
          ]
        },
        {
          "output_type": "stream",
          "name": "stderr",
          "text": [
            ":actor_name:RolloutWorker\n"
          ]
        },
        {
          "output_type": "stream",
          "name": "stdout",
          "text": [
            "Model: \"encoding_model\"\n",
            "__________________________________________________________________________________________________\n",
            " Layer (type)                   Output Shape         Param #     Connected to                     \n",
            "==================================================================================================\n",
            " cube_input (InputLayer)        [(None, 6, 3, 3)]    0           []                               \n",
            "                                                                                                  \n",
            " step_count_input (InputLayer)  [(None, 1)]          0           []                               \n",
            "                                                                                                  \n",
            " embedding (Embedding)          (None, 6, 3, 3, 4)   24          ['cube_input[0][0]']             \n",
            "                                                                                                  \n",
            " tf_op_layer_default_policy_wk1  [(None, 1)]         0           ['step_count_input[0][0]']       \n",
            " /truediv (TensorFlowOpLayer)                                                                     \n",
            "                                                                                                  \n",
            " flatten (Flatten)              (None, 216)          0           ['embedding[0][0]']              \n",
            "                                                                                                  \n",
            " dense (Dense)                  (None, 4)            8           ['tf_op_layer_default_policy_wk1/\n",
            "                                                                 truediv[0][0]']                  \n",
            "                                                                                                  \n",
            " concatenate (Concatenate)      (None, 220)          0           ['flatten[0][0]',                \n",
            "                                                                  'dense[0][0]']                  \n",
            "                                                                                                  \n",
            " dense_1 (Dense)                (None, 32)           7072        ['concatenate[0][0]']            \n",
            "                                                                                                  \n",
            " dense_2 (Dense)                (None, 64)           2112        ['dense_1[0][0]']                \n",
            "                                                                                                  \n",
            " dense_3 (Dense)                (None, 1)            65          ['dense_2[0][0]']                \n",
            "                                                                                                  \n",
            "==================================================================================================\n",
            "Total params: 9,281\n",
            "Trainable params: 9,281\n",
            "Non-trainable params: 0\n",
            "__________________________________________________________________________________________________\n",
            "Model: \"face_selection_model\"\n",
            "_________________________________________________________________\n",
            " Layer (type)                Output Shape              Param #   \n",
            "=================================================================\n",
            " input_1 (InputLayer)        [(None, 64)]              0         \n",
            "                                                                 \n",
            " dense_4 (Dense)             (None, 6)                 390       \n",
            "                                                                 \n",
            "=================================================================\n",
            "Total params: 390\n",
            "Trainable params: 390\n",
            "Non-trainable params: 0\n",
            "_________________________________________________________________\n",
            "Model: \"cube_movement_amount_selection_model\"\n",
            "__________________________________________________________________________________________________\n",
            " Layer (type)                   Output Shape         Param #     Connected to                     \n",
            "==================================================================================================\n",
            " selected_face_input (InputLaye  [(None,)]           0           []                               \n",
            " r)                                                                                               \n",
            "                                                                                                  \n",
            " input_1 (InputLayer)           [(None, 64)]         0           []                               \n",
            "                                                                                                  \n",
            " tf_op_layer_default_policy_wk1  [(None, 6)]         0           ['selected_face_input[0][0]']    \n",
            " /one_hot (TensorFlowOpLayer)                                                                     \n",
            "                                                                                                  \n",
            " tf_op_layer_default_policy_wk1  [(None, 70)]        0           ['input_1[0][0]',                \n",
            " /concat (TensorFlowOpLayer)                                      'tf_op_layer_default_policy_wk1/\n",
            "                                                                 one_hot[0][0]']                  \n",
            "                                                                                                  \n",
            " dense_5 (Dense)                (None, 3)            213         ['tf_op_layer_default_policy_wk1/\n",
            "                                                                 concat[0][0]']                   \n",
            "                                                                                                  \n",
            "==================================================================================================\n",
            "Total params: 213\n",
            "Trainable params: 213\n",
            "Non-trainable params: 0\n",
            "__________________________________________________________________________________________________\n"
          ]
        },
        {
          "output_type": "stream",
          "name": "stderr",
          "text": [
            "2023-03-19 14:18:27,648\tWARNING catalog.py:563 -- Custom ModelV2 should accept all custom options as **kwargs, instead of expecting them in config['custom_model_config']!\n"
          ]
        },
        {
          "output_type": "stream",
          "name": "stdout",
          "text": [
            "Total parameters in model: 9884\n",
            ":actor_name:RolloutWorker\n"
          ]
        },
        {
          "output_type": "stream",
          "name": "stderr",
          "text": [
            ":actor_name:RolloutWorker\n"
          ]
        },
        {
          "output_type": "stream",
          "name": "stdout",
          "text": [
            "Model: \"encoding_model\"\n",
            "__________________________________________________________________________________________________\n",
            " Layer (type)                   Output Shape         Param #     Connected to                     \n",
            "==================================================================================================\n",
            " cube_input (InputLayer)        [(None, 6, 3, 3)]    0           []                               \n",
            "                                                                                                  \n",
            " step_count_input (InputLayer)  [(None, 1)]          0           []                               \n",
            "                                                                                                  \n",
            " embedding (Embedding)          (None, 6, 3, 3, 4)   24          ['cube_input[0][0]']             \n",
            "                                                                                                  \n",
            " tf_op_layer_default_policy_wk2  [(None, 1)]         0           ['step_count_input[0][0]']       \n",
            " /truediv (TensorFlowOpLayer)                                                                     \n",
            "                                                                                                  \n",
            " flatten (Flatten)              (None, 216)          0           ['embedding[0][0]']              \n",
            "                                                                                                  \n",
            " dense (Dense)                  (None, 4)            8           ['tf_op_layer_default_policy_wk2/\n",
            "                                                                 truediv[0][0]']                  \n",
            "                                                                                                  \n",
            " concatenate (Concatenate)      (None, 220)          0           ['flatten[0][0]',                \n",
            "                                                                  'dense[0][0]']                  \n",
            "                                                                                                  \n",
            " dense_1 (Dense)                (None, 32)           7072        ['concatenate[0][0]']            \n",
            "                                                                                                  \n",
            " dense_2 (Dense)                (None, 64)           2112        ['dense_1[0][0]']                \n",
            "                                                                                                  \n",
            " dense_3 (Dense)                (None, 1)            65          ['dense_2[0][0]']                \n",
            "                                                                                                  \n",
            "==================================================================================================\n",
            "Total params: 9,281\n",
            "Trainable params: 9,281\n",
            "Non-trainable params: 0\n",
            "__________________________________________________________________________________________________\n",
            "Model: \"face_selection_model\"\n",
            "_________________________________________________________________\n",
            " Layer (type)                Output Shape              Param #   \n",
            "=================================================================\n",
            " input_1 (InputLayer)        [(None, 64)]              0         \n",
            "                                                                 \n",
            " dense_4 (Dense)             (None, 6)                 390       \n",
            "                                                                 \n",
            "=================================================================\n",
            "Total params: 390\n",
            "Trainable params: 390\n",
            "Non-trainable params: 0\n",
            "_________________________________________________________________\n",
            "Model: \"cube_movement_amount_selection_model\"\n",
            "__________________________________________________________________________________________________\n",
            " Layer (type)                   Output Shape         Param #     Connected to                     \n",
            "==================================================================================================\n",
            " selected_face_input (InputLaye  [(None,)]           0           []                               \n",
            " r)                                                                                               \n",
            "                                                                                                  \n",
            " input_1 (InputLayer)           [(None, 64)]         0           []                               \n",
            "                                                                                                  \n",
            " tf_op_layer_default_policy_wk2  [(None, 6)]         0           ['selected_face_input[0][0]']    \n",
            " /one_hot (TensorFlowOpLayer)                                                                     \n",
            "                                                                                                  \n",
            " tf_op_layer_default_policy_wk2  [(None, 70)]        0           ['input_1[0][0]',                \n",
            " /concat (TensorFlowOpLayer)                                      'tf_op_layer_default_policy_wk2/\n",
            "                                                                 one_hot[0][0]']                  \n",
            "                                                                                                  \n",
            " dense_5 (Dense)                (None, 3)            213         ['tf_op_layer_default_policy_wk2/\n",
            "                                                                 concat[0][0]']                   \n",
            "                                                                                                  \n",
            "==================================================================================================\n",
            "Total params: 213\n",
            "Trainable params: 213\n",
            "Non-trainable params: 0\n",
            "__________________________________________________________________________________________________\n"
          ]
        },
        {
          "output_type": "stream",
          "name": "stderr",
          "text": [
            "2023-03-19 14:18:30,677\tWARNING catalog.py:563 -- Custom ModelV2 should accept all custom options as **kwargs, instead of expecting them in config['custom_model_config']!\n"
          ]
        },
        {
          "output_type": "stream",
          "name": "stdout",
          "text": [
            "Total parameters in model: 9884\n",
            "Model: \"encoding_model\"\n",
            "__________________________________________________________________________________________________\n",
            " Layer (type)                   Output Shape         Param #     Connected to                     \n",
            "==================================================================================================\n",
            " cube_input (InputLayer)        [(None, 6, 3, 3)]    0           []                               \n",
            "                                                                                                  \n",
            " step_count_input (InputLayer)  [(None, 1)]          0           []                               \n",
            "                                                                                                  \n",
            " embedding (Embedding)          (None, 6, 3, 3, 4)   24          ['cube_input[0][0]']             \n",
            "                                                                                                  \n",
            " tf_op_layer_default_policy/tru  [(None, 1)]         0           ['step_count_input[0][0]']       \n",
            " ediv (TensorFlowOpLayer)                                                                         \n",
            "                                                                                                  \n",
            " flatten (Flatten)              (None, 216)          0           ['embedding[0][0]']              \n",
            "                                                                                                  \n",
            " dense (Dense)                  (None, 4)            8           ['tf_op_layer_default_policy/true\n",
            "                                                                 div[0][0]']                      \n",
            "                                                                                                  \n",
            " concatenate (Concatenate)      (None, 220)          0           ['flatten[0][0]',                \n",
            "                                                                  'dense[0][0]']                  \n",
            "                                                                                                  \n",
            " dense_1 (Dense)                (None, 32)           7072        ['concatenate[0][0]']            \n",
            "                                                                                                  \n",
            " dense_2 (Dense)                (None, 64)           2112        ['dense_1[0][0]']                \n",
            "                                                                                                  \n",
            " dense_3 (Dense)                (None, 1)            65          ['dense_2[0][0]']                \n",
            "                                                                                                  \n",
            "==================================================================================================\n",
            "Total params: 9,281\n",
            "Trainable params: 9,281\n",
            "Non-trainable params: 0\n",
            "__________________________________________________________________________________________________\n",
            "Model: \"face_selection_model\"\n",
            "_________________________________________________________________\n",
            " Layer (type)                Output Shape              Param #   \n",
            "=================================================================\n",
            " input_1 (InputLayer)        [(None, 64)]              0         \n",
            "                                                                 \n",
            " dense_4 (Dense)             (None, 6)                 390       \n",
            "                                                                 \n",
            "=================================================================\n",
            "Total params: 390\n",
            "Trainable params: 390\n",
            "Non-trainable params: 0\n",
            "_________________________________________________________________\n",
            "Model: \"cube_movement_amount_selection_model\"\n",
            "__________________________________________________________________________________________________\n",
            " Layer (type)                   Output Shape         Param #     Connected to                     \n",
            "==================================================================================================\n",
            " selected_face_input (InputLaye  [(None,)]           0           []                               \n",
            " r)                                                                                               \n",
            "                                                                                                  \n",
            " input_1 (InputLayer)           [(None, 64)]         0           []                               \n",
            "                                                                                                  \n",
            " tf_op_layer_default_policy/one  [(None, 6)]         0           ['selected_face_input[0][0]']    \n",
            " _hot (TensorFlowOpLayer)                                                                         \n",
            "                                                                                                  \n",
            " tf_op_layer_default_policy/con  [(None, 70)]        0           ['input_1[0][0]',                \n",
            " cat (TensorFlowOpLayer)                                          'tf_op_layer_default_policy/one_\n",
            "                                                                 hot[0][0]']                      \n",
            "                                                                                                  \n",
            " dense_5 (Dense)                (None, 3)            213         ['tf_op_layer_default_policy/conc\n",
            "                                                                 at[0][0]']                       \n",
            "                                                                                                  \n",
            "==================================================================================================\n",
            "Total params: 213\n",
            "Trainable params: 213\n",
            "Non-trainable params: 0\n",
            "__________________________________________________________________________________________________\n"
          ]
        },
        {
          "output_type": "stream",
          "name": "stderr",
          "text": [
            "2023-03-19 14:18:33,144\tWARNING catalog.py:563 -- Custom ModelV2 should accept all custom options as **kwargs, instead of expecting them in config['custom_model_config']!\n"
          ]
        },
        {
          "output_type": "stream",
          "name": "stdout",
          "text": [
            "Total parameters in model: 9884\n"
          ]
        },
        {
          "output_type": "stream",
          "name": "stderr",
          "text": [
            "2023-03-19 14:18:35,412\tWARNING util.py:66 -- Install gputil for GPU system monitoring.\n",
            "2023-03-19 14:18:35,739\tINFO trainable.py:790 -- Restored on 172.28.0.12 from checkpoint: /root/ray_results/PPO/PPO_rubiks_cube_env_82c21_00000_0_2023-03-19_14-15-33/checkpoint_000019\n",
            "2023-03-19 14:18:35,741\tINFO trainable.py:799 -- Current state after restoring: {'_iteration': 19, '_timesteps_total': None, '_time_total': 298.8419780731201, '_episodes_total': 6478}\n"
          ]
        },
        {
          "output_type": "stream",
          "name": "stdout",
          "text": [
            "Generating rollouts for medium env config...\n",
            ":actor_name:RolloutWorker\n"
          ]
        },
        {
          "output_type": "stream",
          "name": "stderr",
          "text": [
            ":actor_name:RolloutWorker\n"
          ]
        },
        {
          "output_type": "stream",
          "name": "stdout",
          "text": [
            "Model: \"encoding_model\"\n",
            "__________________________________________________________________________________________________\n",
            " Layer (type)                   Output Shape         Param #     Connected to                     \n",
            "==================================================================================================\n",
            " cube_input (InputLayer)        [(None, 6, 3, 3)]    0           []                               \n",
            "                                                                                                  \n",
            " step_count_input (InputLayer)  [(None, 1)]          0           []                               \n",
            "                                                                                                  \n",
            " embedding (Embedding)          (None, 6, 3, 3, 4)   24          ['cube_input[0][0]']             \n",
            "                                                                                                  \n",
            " tf_op_layer_default_policy_wk1  [(None, 1)]         0           ['step_count_input[0][0]']       \n",
            " /truediv (TensorFlowOpLayer)                                                                     \n",
            "                                                                                                  \n",
            " flatten (Flatten)              (None, 216)          0           ['embedding[0][0]']              \n",
            "                                                                                                  \n",
            " dense (Dense)                  (None, 4)            8           ['tf_op_layer_default_policy_wk1/\n",
            "                                                                 truediv[0][0]']                  \n",
            "                                                                                                  \n",
            " concatenate (Concatenate)      (None, 220)          0           ['flatten[0][0]',                \n",
            "                                                                  'dense[0][0]']                  \n",
            "                                                                                                  \n",
            " dense_1 (Dense)                (None, 32)           7072        ['concatenate[0][0]']            \n",
            "                                                                                                  \n",
            " dense_2 (Dense)                (None, 64)           2112        ['dense_1[0][0]']                \n",
            "                                                                                                  \n",
            " dense_3 (Dense)                (None, 1)            65          ['dense_2[0][0]']                \n",
            "                                                                                                  \n",
            "==================================================================================================\n",
            "Total params: 9,281\n",
            "Trainable params: 9,281\n",
            "Non-trainable params: 0\n",
            "__________________________________________________________________________________________________\n",
            "Model: \"face_selection_model\"\n",
            "_________________________________________________________________\n",
            " Layer (type)                Output Shape              Param #   \n",
            "=================================================================\n",
            " input_1 (InputLayer)        [(None, 64)]              0         \n",
            "                                                                 \n",
            " dense_4 (Dense)             (None, 6)                 390       \n",
            "                                                                 \n",
            "=================================================================\n",
            "Total params: 390\n",
            "Trainable params: 390\n",
            "Non-trainable params: 0\n",
            "_________________________________________________________________\n",
            "Model: \"cube_movement_amount_selection_model\"\n",
            "__________________________________________________________________________________________________\n",
            " Layer (type)                   Output Shape         Param #     Connected to                     \n",
            "==================================================================================================\n",
            " selected_face_input (InputLaye  [(None,)]           0           []                               \n",
            " r)                                                                                               \n",
            "                                                                                                  \n",
            " input_1 (InputLayer)           [(None, 64)]         0           []                               \n",
            "                                                                                                  \n",
            " tf_op_layer_default_policy_wk1  [(None, 6)]         0           ['selected_face_input[0][0]']    \n",
            " /one_hot (TensorFlowOpLayer)                                                                     \n",
            "                                                                                                  \n",
            " tf_op_layer_default_policy_wk1  [(None, 70)]        0           ['input_1[0][0]',                \n",
            " /concat (TensorFlowOpLayer)                                      'tf_op_layer_default_policy_wk1/\n",
            "                                                                 one_hot[0][0]']                  \n",
            "                                                                                                  \n",
            " dense_5 (Dense)                (None, 3)            213         ['tf_op_layer_default_policy_wk1/\n",
            "                                                                 concat[0][0]']                   \n",
            "                                                                                                  \n",
            "==================================================================================================\n",
            "Total params: 213\n",
            "Trainable params: 213\n",
            "Non-trainable params: 0\n",
            "__________________________________________________________________________________________________\n"
          ]
        },
        {
          "output_type": "stream",
          "name": "stderr",
          "text": [
            "2023-03-19 14:18:52,015\tWARNING catalog.py:563 -- Custom ModelV2 should accept all custom options as **kwargs, instead of expecting them in config['custom_model_config']!\n"
          ]
        },
        {
          "output_type": "stream",
          "name": "stdout",
          "text": [
            "Total parameters in model: 9884\n",
            ":actor_name:RolloutWorker\n"
          ]
        },
        {
          "output_type": "stream",
          "name": "stderr",
          "text": [
            ":actor_name:RolloutWorker\n"
          ]
        },
        {
          "output_type": "stream",
          "name": "stdout",
          "text": [
            "Model: \"encoding_model\"\n",
            "__________________________________________________________________________________________________\n",
            " Layer (type)                   Output Shape         Param #     Connected to                     \n",
            "==================================================================================================\n",
            " cube_input (InputLayer)        [(None, 6, 3, 3)]    0           []                               \n",
            "                                                                                                  \n",
            " step_count_input (InputLayer)  [(None, 1)]          0           []                               \n",
            "                                                                                                  \n",
            " embedding (Embedding)          (None, 6, 3, 3, 4)   24          ['cube_input[0][0]']             \n",
            "                                                                                                  \n",
            " tf_op_layer_default_policy_wk2  [(None, 1)]         0           ['step_count_input[0][0]']       \n",
            " /truediv (TensorFlowOpLayer)                                                                     \n",
            "                                                                                                  \n",
            " flatten (Flatten)              (None, 216)          0           ['embedding[0][0]']              \n",
            "                                                                                                  \n",
            " dense (Dense)                  (None, 4)            8           ['tf_op_layer_default_policy_wk2/\n",
            "                                                                 truediv[0][0]']                  \n",
            "                                                                                                  \n",
            " concatenate (Concatenate)      (None, 220)          0           ['flatten[0][0]',                \n",
            "                                                                  'dense[0][0]']                  \n",
            "                                                                                                  \n",
            " dense_1 (Dense)                (None, 32)           7072        ['concatenate[0][0]']            \n",
            "                                                                                                  \n",
            " dense_2 (Dense)                (None, 64)           2112        ['dense_1[0][0]']                \n",
            "                                                                                                  \n",
            " dense_3 (Dense)                (None, 1)            65          ['dense_2[0][0]']                \n",
            "                                                                                                  \n",
            "==================================================================================================\n",
            "Total params: 9,281\n",
            "Trainable params: 9,281\n",
            "Non-trainable params: 0\n",
            "__________________________________________________________________________________________________\n",
            "Model: \"face_selection_model\"\n",
            "_________________________________________________________________\n",
            " Layer (type)                Output Shape              Param #   \n",
            "=================================================================\n",
            " input_1 (InputLayer)        [(None, 64)]              0         \n",
            "                                                                 \n",
            " dense_4 (Dense)             (None, 6)                 390       \n",
            "                                                                 \n",
            "=================================================================\n",
            "Total params: 390\n",
            "Trainable params: 390\n",
            "Non-trainable params: 0\n",
            "_________________________________________________________________\n",
            "Model: \"cube_movement_amount_selection_model\"\n",
            "__________________________________________________________________________________________________\n",
            " Layer (type)                   Output Shape         Param #     Connected to                     \n",
            "==================================================================================================\n",
            " selected_face_input (InputLaye  [(None,)]           0           []                               \n",
            " r)                                                                                               \n",
            "                                                                                                  \n",
            " input_1 (InputLayer)           [(None, 64)]         0           []                               \n",
            "                                                                                                  \n",
            " tf_op_layer_default_policy_wk2  [(None, 6)]         0           ['selected_face_input[0][0]']    \n",
            " /one_hot (TensorFlowOpLayer)                                                                     \n",
            "                                                                                                  \n",
            " tf_op_layer_default_policy_wk2  [(None, 70)]        0           ['input_1[0][0]',                \n",
            " /concat (TensorFlowOpLayer)                                      'tf_op_layer_default_policy_wk2/\n",
            "                                                                 one_hot[0][0]']                  \n",
            "                                                                                                  \n",
            " dense_5 (Dense)                (None, 3)            213         ['tf_op_layer_default_policy_wk2/\n",
            "                                                                 concat[0][0]']                   \n",
            "                                                                                                  \n",
            "==================================================================================================\n",
            "Total params: 213\n",
            "Trainable params: 213\n",
            "Non-trainable params: 0\n",
            "__________________________________________________________________________________________________\n"
          ]
        },
        {
          "output_type": "stream",
          "name": "stderr",
          "text": [
            "2023-03-19 14:18:54,581\tWARNING catalog.py:563 -- Custom ModelV2 should accept all custom options as **kwargs, instead of expecting them in config['custom_model_config']!\n"
          ]
        },
        {
          "output_type": "stream",
          "name": "stdout",
          "text": [
            "Total parameters in model: 9884\n",
            "Model: \"encoding_model\"\n",
            "__________________________________________________________________________________________________\n",
            " Layer (type)                   Output Shape         Param #     Connected to                     \n",
            "==================================================================================================\n",
            " cube_input (InputLayer)        [(None, 6, 3, 3)]    0           []                               \n",
            "                                                                                                  \n",
            " step_count_input (InputLayer)  [(None, 1)]          0           []                               \n",
            "                                                                                                  \n",
            " embedding (Embedding)          (None, 6, 3, 3, 4)   24          ['cube_input[0][0]']             \n",
            "                                                                                                  \n",
            " tf_op_layer_default_policy/tru  [(None, 1)]         0           ['step_count_input[0][0]']       \n",
            " ediv (TensorFlowOpLayer)                                                                         \n",
            "                                                                                                  \n",
            " flatten (Flatten)              (None, 216)          0           ['embedding[0][0]']              \n",
            "                                                                                                  \n",
            " dense (Dense)                  (None, 4)            8           ['tf_op_layer_default_policy/true\n",
            "                                                                 div[0][0]']                      \n",
            "                                                                                                  \n",
            " concatenate (Concatenate)      (None, 220)          0           ['flatten[0][0]',                \n",
            "                                                                  'dense[0][0]']                  \n",
            "                                                                                                  \n",
            " dense_1 (Dense)                (None, 32)           7072        ['concatenate[0][0]']            \n",
            "                                                                                                  \n",
            " dense_2 (Dense)                (None, 64)           2112        ['dense_1[0][0]']                \n",
            "                                                                                                  \n",
            " dense_3 (Dense)                (None, 1)            65          ['dense_2[0][0]']                \n",
            "                                                                                                  \n",
            "==================================================================================================\n",
            "Total params: 9,281\n",
            "Trainable params: 9,281\n",
            "Non-trainable params: 0\n",
            "__________________________________________________________________________________________________\n",
            "Model: \"face_selection_model\"\n",
            "_________________________________________________________________\n",
            " Layer (type)                Output Shape              Param #   \n",
            "=================================================================\n",
            " input_1 (InputLayer)        [(None, 64)]              0         \n",
            "                                                                 \n",
            " dense_4 (Dense)             (None, 6)                 390       \n",
            "                                                                 \n",
            "=================================================================\n",
            "Total params: 390\n",
            "Trainable params: 390\n",
            "Non-trainable params: 0\n",
            "_________________________________________________________________\n",
            "Model: \"cube_movement_amount_selection_model\"\n",
            "__________________________________________________________________________________________________\n",
            " Layer (type)                   Output Shape         Param #     Connected to                     \n",
            "==================================================================================================\n",
            " selected_face_input (InputLaye  [(None,)]           0           []                               \n",
            " r)                                                                                               \n",
            "                                                                                                  \n",
            " input_1 (InputLayer)           [(None, 64)]         0           []                               \n",
            "                                                                                                  \n",
            " tf_op_layer_default_policy/one  [(None, 6)]         0           ['selected_face_input[0][0]']    \n",
            " _hot (TensorFlowOpLayer)                                                                         \n",
            "                                                                                                  \n",
            " tf_op_layer_default_policy/con  [(None, 70)]        0           ['input_1[0][0]',                \n",
            " cat (TensorFlowOpLayer)                                          'tf_op_layer_default_policy/one_\n",
            "                                                                 hot[0][0]']                      \n",
            "                                                                                                  \n",
            " dense_5 (Dense)                (None, 3)            213         ['tf_op_layer_default_policy/conc\n",
            "                                                                 at[0][0]']                       \n",
            "                                                                                                  \n",
            "==================================================================================================\n",
            "Total params: 213\n",
            "Trainable params: 213\n",
            "Non-trainable params: 0\n",
            "__________________________________________________________________________________________________\n"
          ]
        },
        {
          "output_type": "stream",
          "name": "stderr",
          "text": [
            "2023-03-19 14:18:57,104\tWARNING catalog.py:563 -- Custom ModelV2 should accept all custom options as **kwargs, instead of expecting them in config['custom_model_config']!\n"
          ]
        },
        {
          "output_type": "stream",
          "name": "stdout",
          "text": [
            "Total parameters in model: 9884\n"
          ]
        },
        {
          "output_type": "stream",
          "name": "stderr",
          "text": [
            "2023-03-19 14:19:00,011\tWARNING util.py:66 -- Install gputil for GPU system monitoring.\n",
            "2023-03-19 14:19:00,527\tINFO trainable.py:790 -- Restored on 172.28.0.12 from checkpoint: /root/ray_results/PPO/PPO_rubiks_cube_env_82c21_00000_0_2023-03-19_14-15-33/checkpoint_000019\n",
            "2023-03-19 14:19:00,530\tINFO trainable.py:799 -- Current state after restoring: {'_iteration': 19, '_timesteps_total': None, '_time_total': 298.8419780731201, '_episodes_total': 6478}\n"
          ]
        },
        {
          "output_type": "stream",
          "name": "stdout",
          "text": [
            "Generating rollouts for hard env config...\n",
            ":actor_name:RolloutWorker\n"
          ]
        },
        {
          "output_type": "stream",
          "name": "stderr",
          "text": [
            ":actor_name:RolloutWorker\n"
          ]
        },
        {
          "output_type": "stream",
          "name": "stdout",
          "text": [
            "Model: \"encoding_model\"\n",
            "__________________________________________________________________________________________________\n",
            " Layer (type)                   Output Shape         Param #     Connected to                     \n",
            "==================================================================================================\n",
            " cube_input (InputLayer)        [(None, 6, 3, 3)]    0           []                               \n",
            "                                                                                                  \n",
            " step_count_input (InputLayer)  [(None, 1)]          0           []                               \n",
            "                                                                                                  \n",
            " embedding (Embedding)          (None, 6, 3, 3, 4)   24          ['cube_input[0][0]']             \n",
            "                                                                                                  \n",
            " tf_op_layer_default_policy_wk1  [(None, 1)]         0           ['step_count_input[0][0]']       \n",
            " /truediv (TensorFlowOpLayer)                                                                     \n",
            "                                                                                                  \n",
            " flatten (Flatten)              (None, 216)          0           ['embedding[0][0]']              \n",
            "                                                                                                  \n",
            " dense (Dense)                  (None, 4)            8           ['tf_op_layer_default_policy_wk1/\n",
            "                                                                 truediv[0][0]']                  \n",
            "                                                                                                  \n",
            " concatenate (Concatenate)      (None, 220)          0           ['flatten[0][0]',                \n",
            "                                                                  'dense[0][0]']                  \n",
            "                                                                                                  \n",
            " dense_1 (Dense)                (None, 32)           7072        ['concatenate[0][0]']            \n",
            "                                                                                                  \n",
            " dense_2 (Dense)                (None, 64)           2112        ['dense_1[0][0]']                \n",
            "                                                                                                  \n",
            " dense_3 (Dense)                (None, 1)            65          ['dense_2[0][0]']                \n",
            "                                                                                                  \n",
            "==================================================================================================\n",
            "Total params: 9,281\n",
            "Trainable params: 9,281\n",
            "Non-trainable params: 0\n",
            "__________________________________________________________________________________________________\n",
            "Model: \"face_selection_model\"\n",
            "_________________________________________________________________\n",
            " Layer (type)                Output Shape              Param #   \n",
            "=================================================================\n",
            " input_1 (InputLayer)        [(None, 64)]              0         \n",
            "                                                                 \n",
            " dense_4 (Dense)             (None, 6)                 390       \n",
            "                                                                 \n",
            "=================================================================\n",
            "Total params: 390\n",
            "Trainable params: 390\n",
            "Non-trainable params: 0\n",
            "_________________________________________________________________\n",
            "Model: \"cube_movement_amount_selection_model\"\n",
            "__________________________________________________________________________________________________\n",
            " Layer (type)                   Output Shape         Param #     Connected to                     \n",
            "==================================================================================================\n",
            " selected_face_input (InputLaye  [(None,)]           0           []                               \n",
            " r)                                                                                               \n",
            "                                                                                                  \n",
            " input_1 (InputLayer)           [(None, 64)]         0           []                               \n",
            "                                                                                                  \n",
            " tf_op_layer_default_policy_wk1  [(None, 6)]         0           ['selected_face_input[0][0]']    \n",
            " /one_hot (TensorFlowOpLayer)                                                                     \n",
            "                                                                                                  \n",
            " tf_op_layer_default_policy_wk1  [(None, 70)]        0           ['input_1[0][0]',                \n",
            " /concat (TensorFlowOpLayer)                                      'tf_op_layer_default_policy_wk1/\n",
            "                                                                 one_hot[0][0]']                  \n",
            "                                                                                                  \n",
            " dense_5 (Dense)                (None, 3)            213         ['tf_op_layer_default_policy_wk1/\n",
            "                                                                 concat[0][0]']                   \n",
            "                                                                                                  \n",
            "==================================================================================================\n",
            "Total params: 213\n",
            "Trainable params: 213\n",
            "Non-trainable params: 0\n",
            "__________________________________________________________________________________________________\n"
          ]
        },
        {
          "output_type": "stream",
          "name": "stderr",
          "text": [
            "2023-03-19 14:19:24,348\tWARNING catalog.py:563 -- Custom ModelV2 should accept all custom options as **kwargs, instead of expecting them in config['custom_model_config']!\n"
          ]
        },
        {
          "output_type": "stream",
          "name": "stdout",
          "text": [
            "Total parameters in model: 9884\n",
            ":actor_name:RolloutWorker\n"
          ]
        },
        {
          "output_type": "stream",
          "name": "stderr",
          "text": [
            ":actor_name:RolloutWorker\n"
          ]
        },
        {
          "output_type": "stream",
          "name": "stdout",
          "text": [
            "Model: \"encoding_model\"\n",
            "__________________________________________________________________________________________________\n",
            " Layer (type)                   Output Shape         Param #     Connected to                     \n",
            "==================================================================================================\n",
            " cube_input (InputLayer)        [(None, 6, 3, 3)]    0           []                               \n",
            "                                                                                                  \n",
            " step_count_input (InputLayer)  [(None, 1)]          0           []                               \n",
            "                                                                                                  \n",
            " embedding (Embedding)          (None, 6, 3, 3, 4)   24          ['cube_input[0][0]']             \n",
            "                                                                                                  \n",
            " tf_op_layer_default_policy_wk2  [(None, 1)]         0           ['step_count_input[0][0]']       \n",
            " /truediv (TensorFlowOpLayer)                                                                     \n",
            "                                                                                                  \n",
            " flatten (Flatten)              (None, 216)          0           ['embedding[0][0]']              \n",
            "                                                                                                  \n",
            " dense (Dense)                  (None, 4)            8           ['tf_op_layer_default_policy_wk2/\n",
            "                                                                 truediv[0][0]']                  \n",
            "                                                                                                  \n",
            " concatenate (Concatenate)      (None, 220)          0           ['flatten[0][0]',                \n",
            "                                                                  'dense[0][0]']                  \n",
            "                                                                                                  \n",
            " dense_1 (Dense)                (None, 32)           7072        ['concatenate[0][0]']            \n",
            "                                                                                                  \n",
            " dense_2 (Dense)                (None, 64)           2112        ['dense_1[0][0]']                \n",
            "                                                                                                  \n",
            " dense_3 (Dense)                (None, 1)            65          ['dense_2[0][0]']                \n",
            "                                                                                                  \n",
            "==================================================================================================\n",
            "Total params: 9,281\n",
            "Trainable params: 9,281\n",
            "Non-trainable params: 0\n",
            "__________________________________________________________________________________________________\n",
            "Model: \"face_selection_model\"\n",
            "_________________________________________________________________\n",
            " Layer (type)                Output Shape              Param #   \n",
            "=================================================================\n",
            " input_1 (InputLayer)        [(None, 64)]              0         \n",
            "                                                                 \n",
            " dense_4 (Dense)             (None, 6)                 390       \n",
            "                                                                 \n",
            "=================================================================\n",
            "Total params: 390\n",
            "Trainable params: 390\n",
            "Non-trainable params: 0\n",
            "_________________________________________________________________\n",
            "Model: \"cube_movement_amount_selection_model\"\n",
            "__________________________________________________________________________________________________\n",
            " Layer (type)                   Output Shape         Param #     Connected to                     \n",
            "==================================================================================================\n",
            " selected_face_input (InputLaye  [(None,)]           0           []                               \n",
            " r)                                                                                               \n",
            "                                                                                                  \n",
            " input_1 (InputLayer)           [(None, 64)]         0           []                               \n",
            "                                                                                                  \n",
            " tf_op_layer_default_policy_wk2  [(None, 6)]         0           ['selected_face_input[0][0]']    \n",
            " /one_hot (TensorFlowOpLayer)                                                                     \n",
            "                                                                                                  \n",
            " tf_op_layer_default_policy_wk2  [(None, 70)]        0           ['input_1[0][0]',                \n",
            " /concat (TensorFlowOpLayer)                                      'tf_op_layer_default_policy_wk2/\n",
            "                                                                 one_hot[0][0]']                  \n",
            "                                                                                                  \n",
            " dense_5 (Dense)                (None, 3)            213         ['tf_op_layer_default_policy_wk2/\n",
            "                                                                 concat[0][0]']                   \n",
            "                                                                                                  \n",
            "==================================================================================================\n",
            "Total params: 213\n",
            "Trainable params: 213\n",
            "Non-trainable params: 0\n",
            "__________________________________________________________________________________________________\n"
          ]
        },
        {
          "output_type": "stream",
          "name": "stderr",
          "text": [
            "2023-03-19 14:19:26,842\tWARNING catalog.py:563 -- Custom ModelV2 should accept all custom options as **kwargs, instead of expecting them in config['custom_model_config']!\n"
          ]
        },
        {
          "output_type": "stream",
          "name": "stdout",
          "text": [
            "Total parameters in model: 9884\n",
            "Model: \"encoding_model\"\n",
            "__________________________________________________________________________________________________\n",
            " Layer (type)                   Output Shape         Param #     Connected to                     \n",
            "==================================================================================================\n",
            " cube_input (InputLayer)        [(None, 6, 3, 3)]    0           []                               \n",
            "                                                                                                  \n",
            " step_count_input (InputLayer)  [(None, 1)]          0           []                               \n",
            "                                                                                                  \n",
            " embedding (Embedding)          (None, 6, 3, 3, 4)   24          ['cube_input[0][0]']             \n",
            "                                                                                                  \n",
            " tf_op_layer_default_policy/tru  [(None, 1)]         0           ['step_count_input[0][0]']       \n",
            " ediv (TensorFlowOpLayer)                                                                         \n",
            "                                                                                                  \n",
            " flatten (Flatten)              (None, 216)          0           ['embedding[0][0]']              \n",
            "                                                                                                  \n",
            " dense (Dense)                  (None, 4)            8           ['tf_op_layer_default_policy/true\n",
            "                                                                 div[0][0]']                      \n",
            "                                                                                                  \n",
            " concatenate (Concatenate)      (None, 220)          0           ['flatten[0][0]',                \n",
            "                                                                  'dense[0][0]']                  \n",
            "                                                                                                  \n",
            " dense_1 (Dense)                (None, 32)           7072        ['concatenate[0][0]']            \n",
            "                                                                                                  \n",
            " dense_2 (Dense)                (None, 64)           2112        ['dense_1[0][0]']                \n",
            "                                                                                                  \n",
            " dense_3 (Dense)                (None, 1)            65          ['dense_2[0][0]']                \n",
            "                                                                                                  \n",
            "==================================================================================================\n",
            "Total params: 9,281\n",
            "Trainable params: 9,281\n",
            "Non-trainable params: 0\n",
            "__________________________________________________________________________________________________\n",
            "Model: \"face_selection_model\"\n",
            "_________________________________________________________________\n",
            " Layer (type)                Output Shape              Param #   \n",
            "=================================================================\n",
            " input_1 (InputLayer)        [(None, 64)]              0         \n",
            "                                                                 \n",
            " dense_4 (Dense)             (None, 6)                 390       \n",
            "                                                                 \n",
            "=================================================================\n",
            "Total params: 390\n",
            "Trainable params: 390\n",
            "Non-trainable params: 0\n",
            "_________________________________________________________________\n",
            "Model: \"cube_movement_amount_selection_model\"\n",
            "__________________________________________________________________________________________________\n",
            " Layer (type)                   Output Shape         Param #     Connected to                     \n",
            "==================================================================================================\n",
            " selected_face_input (InputLaye  [(None,)]           0           []                               \n",
            " r)                                                                                               \n",
            "                                                                                                  \n",
            " input_1 (InputLayer)           [(None, 64)]         0           []                               \n",
            "                                                                                                  \n",
            " tf_op_layer_default_policy/one  [(None, 6)]         0           ['selected_face_input[0][0]']    \n",
            " _hot (TensorFlowOpLayer)                                                                         \n",
            "                                                                                                  \n",
            " tf_op_layer_default_policy/con  [(None, 70)]        0           ['input_1[0][0]',                \n",
            " cat (TensorFlowOpLayer)                                          'tf_op_layer_default_policy/one_\n",
            "                                                                 hot[0][0]']                      \n",
            "                                                                                                  \n",
            " dense_5 (Dense)                (None, 3)            213         ['tf_op_layer_default_policy/conc\n",
            "                                                                 at[0][0]']                       \n",
            "                                                                                                  \n",
            "==================================================================================================\n",
            "Total params: 213\n",
            "Trainable params: 213\n",
            "Non-trainable params: 0\n",
            "__________________________________________________________________________________________________\n"
          ]
        },
        {
          "output_type": "stream",
          "name": "stderr",
          "text": [
            "2023-03-19 14:19:29,373\tWARNING catalog.py:563 -- Custom ModelV2 should accept all custom options as **kwargs, instead of expecting them in config['custom_model_config']!\n"
          ]
        },
        {
          "output_type": "stream",
          "name": "stdout",
          "text": [
            "Total parameters in model: 9884\n"
          ]
        },
        {
          "output_type": "stream",
          "name": "stderr",
          "text": [
            "2023-03-19 14:19:31,685\tWARNING util.py:66 -- Install gputil for GPU system monitoring.\n",
            "2023-03-19 14:19:32,014\tINFO trainable.py:790 -- Restored on 172.28.0.12 from checkpoint: /root/ray_results/PPO/PPO_rubiks_cube_env_82c21_00000_0_2023-03-19_14-15-33/checkpoint_000019\n",
            "2023-03-19 14:19:32,016\tINFO trainable.py:799 -- Current state after restoring: {'_iteration': 19, '_timesteps_total': None, '_time_total': 298.8419780731201, '_episodes_total': 6478}\n"
          ]
        }
      ],
      "source": [
        "# Example on a smaller set of seeds\n",
        "\n",
        "main_rollout(seeds=PUBLIC_SEEDS,\n",
        "             checkpoint_path=\"/root/ray_results/PPO/PPO_rubiks_cube_env_82c21_00000_0_2023-03-19_14-15-33/checkpoint_000019/\", \n",
        "             results_path=\"sample_results.txt\")"
      ]
    },
    {
      "cell_type": "markdown",
      "id": "ca6a18a4",
      "metadata": {
        "id": "ca6a18a4"
      },
      "source": [
        "Finally, you can run the script python evaluation/validate_rollout.py to make sure that the results are given in a format the platform can understand. For more information on how to use this script, run python evaluation/validate_rollout.py --help"
      ]
    },
    {
      "cell_type": "code",
      "execution_count": 57,
      "id": "7969cd91",
      "metadata": {
        "id": "7969cd91",
        "outputId": "7853dc86-c317-42df-eeb1-c026dce339a3",
        "colab": {
          "base_uri": "https://localhost:8080/"
        }
      },
      "outputs": [
        {
          "output_type": "stream",
          "name": "stdout",
          "text": [
            "Validating rollouts on easy difficulty...\n"
          ]
        },
        {
          "output_type": "stream",
          "name": "stderr",
          "text": [
            "100%|██████████| 418630/418630 [02:18<00:00, 3012.60it/s]\n"
          ]
        },
        {
          "output_type": "stream",
          "name": "stdout",
          "text": [
            "Validating rollouts on medium difficulty...\n"
          ]
        },
        {
          "output_type": "stream",
          "name": "stderr",
          "text": [
            "100%|██████████| 418630/418630 [04:54<00:00, 1420.00it/s]\n"
          ]
        },
        {
          "output_type": "stream",
          "name": "stdout",
          "text": [
            "Validating rollouts on hard difficulty...\n"
          ]
        },
        {
          "output_type": "stream",
          "name": "stderr",
          "text": [
            "100%|██████████| 418630/418630 [05:50<00:00, 1195.78it/s]"
          ]
        },
        {
          "output_type": "stream",
          "name": "stdout",
          "text": [
            "You scored 0.059166666666666666!\n"
          ]
        },
        {
          "output_type": "stream",
          "name": "stderr",
          "text": [
            "\n"
          ]
        }
      ],
      "source": [
        "score = main_validation(results_path=\"sample_results.txt\", public_seeds=PUBLIC_SEEDS)\n",
        "print(f\"You scored {score}!\")"
      ]
    },
    {
      "cell_type": "code",
      "execution_count": null,
      "id": "f440e965",
      "metadata": {
        "id": "f440e965"
      },
      "outputs": [],
      "source": []
    }
  ],
  "metadata": {
    "kernelspec": {
      "display_name": "tf-m1",
      "language": "python",
      "name": "python3"
    },
    "language_info": {
      "codemirror_mode": {
        "name": "ipython",
        "version": 3
      },
      "file_extension": ".py",
      "mimetype": "text/x-python",
      "name": "python",
      "nbconvert_exporter": "python",
      "pygments_lexer": "ipython3",
      "version": "3.10.9"
    },
    "vscode": {
      "interpreter": {
        "hash": "1cde28afd93c7143bc72c225d04bd2b8ae8bdabbf912bf311051d0c68a36d23f"
      }
    },
    "colab": {
      "provenance": []
    },
    "gpuClass": "standard"
  },
  "nbformat": 4,
  "nbformat_minor": 5
}